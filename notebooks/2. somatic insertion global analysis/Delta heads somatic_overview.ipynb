{
 "cells": [
  {
   "cell_type": "code",
   "execution_count": 1,
   "metadata": {
    "execution": {
     "iopub.execute_input": "2020-08-12T11:15:10.581634Z",
     "iopub.status.busy": "2020-08-12T11:15:10.580934Z",
     "iopub.status.idle": "2020-08-12T11:15:11.314196Z",
     "shell.execute_reply": "2020-08-12T11:15:11.314678Z"
    },
    "papermill": {
     "duration": 0.756971,
     "end_time": "2020-08-12T11:15:11.314833",
     "exception": false,
     "start_time": "2020-08-12T11:15:10.557862",
     "status": "completed"
    },
    "tags": []
   },
   "outputs": [],
   "source": [
    "%matplotlib inline\n",
    "import os\n",
    "\n",
    "import collections\n",
    "\n",
    "import pandas as pd\n",
    "import matplotlib.pyplot as plt\n",
    "import seaborn as sns\n",
    "\n",
    "from seaplotlib.helper import abline, despine, save_fig_in_dir, styles"
   ]
  },
  {
   "cell_type": "code",
   "execution_count": 2,
   "metadata": {
    "execution": {
     "iopub.execute_input": "2020-08-12T11:15:11.335993Z",
     "iopub.status.busy": "2020-08-12T11:15:11.335339Z",
     "iopub.status.idle": "2020-08-12T11:15:11.337737Z",
     "shell.execute_reply": "2020-08-12T11:15:11.338057Z"
    },
    "papermill": {
     "duration": 0.014006,
     "end_time": "2020-08-12T11:15:11.338190",
     "exception": false,
     "start_time": "2020-08-12T11:15:11.324184",
     "status": "completed"
    },
    "tags": [
     "parameters"
    ]
   },
   "outputs": [],
   "source": [
    "INSERTIONS = '0.5.21.filtered_calls_prosgfp_guts.gff'\n",
    "LABEL = \"ProsGFP calls guts\"\n",
    "IMAGE_EXTENSION = 'pdf'\n",
    "SAMPLE_FILE = 'ProsGFP_tumor_samples.csv'"
   ]
  },
  {
   "cell_type": "code",
   "execution_count": 3,
   "metadata": {
    "execution": {
     "iopub.execute_input": "2020-08-12T11:15:11.363392Z",
     "iopub.status.busy": "2020-08-12T11:15:11.362557Z",
     "iopub.status.idle": "2020-08-12T11:15:11.365075Z",
     "shell.execute_reply": "2020-08-12T11:15:11.365403Z"
    },
    "papermill": {
     "duration": 0.017015,
     "end_time": "2020-08-12T11:15:11.365542",
     "exception": false,
     "start_time": "2020-08-12T11:15:11.348527",
     "status": "completed"
    },
    "tags": [
     "injected-parameters"
    ]
   },
   "outputs": [],
   "source": [
    "# Parameters\n",
    "INSERTIONS = \"0.5.21.filtered_calls_delta_heads.gff\"\n",
    "LABEL = \"Delta calls heads\"\n",
    "SAMPLE_FILE = \"Delta_head_samples.csv\"\n"
   ]
  },
  {
   "cell_type": "code",
   "execution_count": 4,
   "metadata": {
    "execution": {
     "iopub.execute_input": "2020-08-12T11:15:11.393614Z",
     "iopub.status.busy": "2020-08-12T11:15:11.393115Z",
     "iopub.status.idle": "2020-08-12T11:15:11.394952Z",
     "shell.execute_reply": "2020-08-12T11:15:11.395337Z"
    },
    "papermill": {
     "duration": 0.020913,
     "end_time": "2020-08-12T11:15:11.395478",
     "exception": false,
     "start_time": "2020-08-12T11:15:11.374565",
     "status": "completed"
    },
    "tags": []
   },
   "outputs": [],
   "source": [
    "def get_insertions(path):\n",
    "    insertions = []\n",
    "    with open(path) as f:\n",
    "        for line in f:\n",
    "            fields = line.split('\\t')\n",
    "            insertions.append({'start': int(fields[3]),\n",
    "                               'end': int(fields[4]),\n",
    "                               'class': fields[2], \n",
    "                               'score': int(fields[5]), \n",
    "                               'nref': int(fields[8].split(';')[7].split('=')[1].split('_')[0]), \n",
    "                               'sample': fields[8].split(';')[0].split('=')[1].split('_')[0]})\n",
    "    insertions = pd.DataFrame.from_records(insertions)\n",
    "    return insertions\n",
    "\n",
    "\n",
    "def transform_summary(insertions):\n",
    "    g = insertions.groupby(['class', 'sample'])\n",
    "    s = g.aggregate('class').count()\n",
    "    ins_df = s.to_frame()\n",
    "    ins_df.columns = ['count']\n",
    "    ins_df = ins_df.reset_index()\n",
    "    return ins_df\n",
    "\n",
    "\n",
    "\n",
    "def fill_missing_with_zero(df, all_sample_list):\n",
    "    for sample in all_sample_list:\n",
    "        if sample not in df['sample'].unique():\n",
    "            if 'class' in df:\n",
    "                for kls in df['class'].unique():\n",
    "                    entry = {0: {'class': kls, 'sample': sample, 'count': 0}}\n",
    "                    df = df.append(pd.DataFrame.from_dict(entry, orient='index'))\n",
    "            else:\n",
    "                entry = {0: {'sample': sample, 'count': 0}}\n",
    "                df = df.append(pd.DataFrame.from_dict(entry, orient='index'))\n",
    "    return df\n",
    "\n",
    "            \n",
    "def insertions_per_sample(df, color='r', title=None, all_sample_list=None):\n",
    "    if all_sample_list is not None:\n",
    "        df = fill_missing_with_zero(df, all_sample_list)\n",
    "    df = df.sort_values('count', ascending=False)\n",
    "    ax = despine(df.plot(kind='bar', x='sample', y='count', color=color, figsize=(8, 5), legend=False, title=title))\n",
    "    mean = df['count'].mean()\n",
    "    max_y = df['count'].max()\n",
    "    abline(slope=0, intercept=mean)\n",
    "    x = len(df['sample'].unique())\n",
    "    x = x - x / 8  # 12,5 % from the right\n",
    "    y = mean + max_y / 50  # 2 % of the y + mean position\n",
    "    ax.annotate('Mean=%.2f' % mean, (x, y))\n",
    "    return ax"
   ]
  },
  {
   "cell_type": "code",
   "execution_count": 5,
   "metadata": {
    "execution": {
     "iopub.execute_input": "2020-08-12T11:15:11.426744Z",
     "iopub.status.busy": "2020-08-12T11:15:11.426221Z",
     "iopub.status.idle": "2020-08-12T11:15:11.605409Z",
     "shell.execute_reply": "2020-08-12T11:15:11.605810Z"
    },
    "papermill": {
     "duration": 0.201746,
     "end_time": "2020-08-12T11:15:11.605959",
     "exception": false,
     "start_time": "2020-08-12T11:15:11.404213",
     "status": "completed"
    },
    "tags": []
   },
   "outputs": [],
   "source": [
    "def plot_insertions(ins_df, all_sample_list, suffix=''):\n",
    "    all_insertions = ins_df.groupby(['sample']).sum().reset_index()\n",
    "    rover_insertions = ins_df[ins_df['class'] == 'rover']\n",
    "    copia_insertions = ins_df[ins_df['class'] == 'copia']\n",
    "    i_element_insertions = ins_df[ins_df['class'] == 'I-element']\n",
    "\n",
    "    kwargs = {\n",
    "        'All insertions': [all_insertions, 'r'],\n",
    "        'Rover insertions': [rover_insertions, 'k'],\n",
    "        'Copia insertions': [copia_insertions, 'b'],\n",
    "        'I-element insertions': [i_element_insertions, 'g'],\n",
    "    }\n",
    "    kwargs = {k: v for k, v in kwargs.items() if len(v[0]) > 0}\n",
    "\n",
    "    for title, args in kwargs.items():\n",
    "        title = \"%s per sample\" % title\n",
    "        f = insertions_per_sample(all_sample_list=all_sample_list, title=title, *args).figure\n",
    "        save_fig_in_dir(f, \"%s%s.%s\" % (title, suffix, IMAGE_EXTENSION), directory=LABEL, bbox_inches='tight')\n",
    "\n",
    "\n",
    "with open(SAMPLE_FILE) as fh:\n",
    "    SAMPLES = fh.read().strip().split(',')\n",
    "insertions = get_insertions(INSERTIONS)\n",
    "ins_df = transform_summary(insertions)\n",
    "plot_insertions(ins_df, SAMPLES, suffix=' %s' % LABEL)"
   ]
  },
  {
   "cell_type": "code",
   "execution_count": 6,
   "metadata": {
    "execution": {
     "iopub.execute_input": "2020-08-12T11:15:11.655603Z",
     "iopub.status.busy": "2020-08-12T11:15:11.653710Z",
     "iopub.status.idle": "2020-08-12T11:15:11.773251Z",
     "shell.execute_reply": "2020-08-12T11:15:11.773744Z"
    },
    "papermill": {
     "duration": 0.158902,
     "end_time": "2020-08-12T11:15:11.773961",
     "exception": false,
     "start_time": "2020-08-12T11:15:11.615059",
     "status": "completed"
    },
    "tags": []
   },
   "outputs": [],
   "source": [
    "# overview boxplot\n",
    "\n",
    "fig, ax = plt.subplots(figsize=(2, 5))\n",
    "bp_data = ins_df.groupby(['sample']).sum().reset_index()\n",
    "sns.boxplot(y='count', hue=\"sample\", ax=ax, data=bp_data, color='r')\n",
    "despine(sns.swarmplot(y='count', hue=\"sample\", ax=ax, data=bp_data, color=\"0.2\", size=8))\n",
    "ax.set_title('All insertions tumorseq')\n",
    "save_fig_in_dir(fig, 'all_insertions_all_samples.%s' % IMAGE_EXTENSION, directory=LABEL, bbox_inches='tight')"
   ]
  },
  {
   "cell_type": "code",
   "execution_count": 7,
   "metadata": {
    "execution": {
     "iopub.execute_input": "2020-08-12T11:15:11.810870Z",
     "iopub.status.busy": "2020-08-12T11:15:11.806175Z",
     "iopub.status.idle": "2020-08-12T11:15:11.817161Z",
     "shell.execute_reply": "2020-08-12T11:15:11.817627Z"
    },
    "papermill": {
     "duration": 0.029699,
     "end_time": "2020-08-12T11:15:11.817830",
     "exception": false,
     "start_time": "2020-08-12T11:15:11.788131",
     "status": "completed"
    },
    "tags": []
   },
   "outputs": [
    {
     "data": {
      "text/html": [
       "<div>\n",
       "<style scoped>\n",
       "    .dataframe tbody tr th:only-of-type {\n",
       "        vertical-align: middle;\n",
       "    }\n",
       "\n",
       "    .dataframe tbody tr th {\n",
       "        vertical-align: top;\n",
       "    }\n",
       "\n",
       "    .dataframe thead th {\n",
       "        text-align: right;\n",
       "    }\n",
       "</style>\n",
       "<table border=\"1\" class=\"dataframe\">\n",
       "  <thead>\n",
       "    <tr style=\"text-align: right;\">\n",
       "      <th></th>\n",
       "      <th>sample</th>\n",
       "      <th>count</th>\n",
       "    </tr>\n",
       "  </thead>\n",
       "  <tbody>\n",
       "    <tr>\n",
       "      <th>0</th>\n",
       "      <td>BD-10-head</td>\n",
       "      <td>3</td>\n",
       "    </tr>\n",
       "    <tr>\n",
       "      <th>1</th>\n",
       "      <td>BD-9-head</td>\n",
       "      <td>2</td>\n",
       "    </tr>\n",
       "    <tr>\n",
       "      <th>2</th>\n",
       "      <td>KD-6-head</td>\n",
       "      <td>8</td>\n",
       "    </tr>\n",
       "    <tr>\n",
       "      <th>3</th>\n",
       "      <td>KD-8-head</td>\n",
       "      <td>2</td>\n",
       "    </tr>\n",
       "  </tbody>\n",
       "</table>\n",
       "</div>"
      ],
      "text/plain": [
       "       sample  count\n",
       "0  BD-10-head      3\n",
       "1   BD-9-head      2\n",
       "2   KD-6-head      8\n",
       "3   KD-8-head      2"
      ]
     },
     "execution_count": 7,
     "metadata": {},
     "output_type": "execute_result"
    }
   ],
   "source": [
    "ins_df.groupby(['sample']).sum().reset_index()"
   ]
  },
  {
   "cell_type": "code",
   "execution_count": 8,
   "metadata": {
    "execution": {
     "iopub.execute_input": "2020-08-12T11:15:11.855119Z",
     "iopub.status.busy": "2020-08-12T11:15:11.854574Z",
     "iopub.status.idle": "2020-08-12T11:15:11.857174Z",
     "shell.execute_reply": "2020-08-12T11:15:11.857821Z"
    },
    "papermill": {
     "duration": 0.026714,
     "end_time": "2020-08-12T11:15:11.858232",
     "exception": false,
     "start_time": "2020-08-12T11:15:11.831518",
     "status": "completed"
    },
    "tags": []
   },
   "outputs": [],
   "source": [
    "def plot_with_broken_axis(df):\n",
    "    fig, (ax1, ax2) = plt.subplots(2, 1, sharex=True, figsize=(12, 5))\n",
    "    df.plot(kind='bar', ax=ax1, color='r')\n",
    "    df.plot(kind='bar', ax=ax2, color='r')\n",
    "    ax1.set_ylim(400, 500.)  # outliers only\n",
    "    ax2.set_ylim(0, 100)  # most of the data\n",
    "    ax1.spines['bottom'].set_visible(False)\n",
    "    ax1.spines['top'].set_visible(False)\n",
    "    ax2.spines['top'].set_visible(False)\n",
    "    ax2.spines['bottom'].set_visible(False)\n",
    "    # ax1.xaxis.tick_top()\n",
    "    ax1.xaxis.set_ticks_position('none') \n",
    "\n",
    "    ax1.tick_params(labeltop=False)  # don't put tick labels at the top\n",
    "    # plt.xticks(rotation=45)\n",
    "    ax2.xaxis.tick_bottom()\n",
    "\n",
    "    d = 0.015  # how big to make the diagonal lines in axes coordinates\n",
    "    # arguments to pass to plot, just so we don't keep repeating them\n",
    "    kwargs = dict(transform=ax1.transAxes, color='k', clip_on=False)\n",
    "    ax1.plot((-d, +d), (-d, +d), **kwargs)        # top-left diagonal\n",
    "    ax1.plot((1 - d, 1 + d), (-d, +d), **kwargs)  # top-right diagonal\n",
    "\n",
    "    kwargs.update(transform=ax2.transAxes)  # switch to the bottom axes\n",
    "    ax2.plot((-d, +d), (1 - d, 1 + d), **kwargs)  # bottom-left diagonal\n",
    "    ax2.plot((1 - d, 1 + d), (1 - d, 1 + d), **kwargs)  # bottom-right diagonal\n",
    "\n",
    "    rects = ax2.patches\n",
    "    # # Make some labels.\n",
    "    labels = df.values\n",
    "\n",
    "    for rect, label in zip(rects, labels):\n",
    "        if label > 120:\n",
    "            ax = ax1\n",
    "        else:\n",
    "            ax = ax2\n",
    "        height = rect.get_height()\n",
    "        ax.text(rect.get_x() + rect.get_width() / 2, height + 5, label,\n",
    "                ha='center', va='bottom')\n",
    "    return fig"
   ]
  },
  {
   "cell_type": "code",
   "execution_count": 9,
   "metadata": {
    "execution": {
     "iopub.execute_input": "2020-08-12T11:15:11.926527Z",
     "iopub.status.busy": "2020-08-12T11:15:11.925935Z",
     "iopub.status.idle": "2020-08-12T11:15:12.079731Z",
     "shell.execute_reply": "2020-08-12T11:15:12.080125Z"
    },
    "papermill": {
     "duration": 0.196045,
     "end_time": "2020-08-12T11:15:12.080290",
     "exception": false,
     "start_time": "2020-08-12T11:15:11.884245",
     "status": "completed"
    },
    "tags": []
   },
   "outputs": [],
   "source": [
    "class_overview = ins_df.groupby('class').sum().sort_values('count', ascending=False).unstack().reset_index()\n",
    "class_overview.index = class_overview['class']\n",
    "# fig = plot_with_broken_axis(class_overview[0])\n",
    "fig = despine(class_overview[0].plot(kind='bar', color='red', figsize=(15,5)))\n",
    "save_fig_in_dir(fig.figure, 'transposon classes %s.%s' % (LABEL, IMAGE_EXTENSION), directory=LABEL, bbox_inches='tight')"
   ]
  },
  {
   "cell_type": "code",
   "execution_count": 10,
   "metadata": {
    "execution": {
     "iopub.execute_input": "2020-08-12T11:15:12.105418Z",
     "iopub.status.busy": "2020-08-12T11:15:12.104792Z",
     "iopub.status.idle": "2020-08-12T11:15:12.107454Z",
     "shell.execute_reply": "2020-08-12T11:15:12.107045Z"
    },
    "papermill": {
     "duration": 0.016796,
     "end_time": "2020-08-12T11:15:12.107597",
     "exception": false,
     "start_time": "2020-08-12T11:15:12.090801",
     "status": "completed"
    },
    "tags": []
   },
   "outputs": [
    {
     "data": {
      "text/plain": [
       "class\n",
       "Tabor        6\n",
       "1360         2\n",
       "297          1\n",
       "BS           1\n",
       "G-element    1\n",
       "ZAM          1\n",
       "gypsy12      1\n",
       "hopper       1\n",
       "opus         1\n",
       "Name: count, dtype: int64"
      ]
     },
     "execution_count": 10,
     "metadata": {},
     "output_type": "execute_result"
    }
   ],
   "source": [
    "class_overview.columns = ['kind', 'class', 'count']\n",
    "class_overview['count']"
   ]
  },
  {
   "cell_type": "code",
   "execution_count": 11,
   "metadata": {
    "execution": {
     "iopub.execute_input": "2020-08-12T11:15:12.135384Z",
     "iopub.status.busy": "2020-08-12T11:15:12.134905Z",
     "iopub.status.idle": "2020-08-12T11:15:12.273155Z",
     "shell.execute_reply": "2020-08-12T11:15:12.273484Z"
    },
    "papermill": {
     "duration": 0.15426,
     "end_time": "2020-08-12T11:15:12.273639",
     "exception": false,
     "start_time": "2020-08-12T11:15:12.119379",
     "status": "completed"
    },
    "tags": []
   },
   "outputs": [],
   "source": [
    "insertions = get_insertions(INSERTIONS)\n",
    "insertions['total'] = insertions['nref'] + insertions['score']\n",
    "total = insertions.sort_values('total')\n",
    "total_above_10 = total[(total['total'] > 10) & (total['total'] < 120)]\n",
    "ax = despine(total_above_10.plot(kind='scatter', x='score', y='total', xlim=(0, 120), color='red', figsize=(12, 5)))\n",
    "ax.set_xlabel('Read pairs supporting an insertion')\n",
    "ax.set_ylabel('Read depth over insertion site')\n",
    "save_fig_in_dir(ax.figure, 'transposon classes Read support per insertion %s.%s' % (LABEL, IMAGE_EXTENSION), directory=LABEL, bbox_inches='tight')"
   ]
  },
  {
   "cell_type": "code",
   "execution_count": 12,
   "metadata": {
    "execution": {
     "iopub.execute_input": "2020-08-12T11:15:12.360956Z",
     "iopub.status.busy": "2020-08-12T11:15:12.360168Z",
     "iopub.status.idle": "2020-08-12T11:15:12.673271Z",
     "shell.execute_reply": "2020-08-12T11:15:12.673628Z"
    },
    "papermill": {
     "duration": 0.390214,
     "end_time": "2020-08-12T11:15:12.673780",
     "exception": false,
     "start_time": "2020-08-12T11:15:12.283566",
     "status": "completed"
    },
    "tags": []
   },
   "outputs": [],
   "source": [
    "class_overview = ins_df.groupby('class').sum().sort_values('count', ascending=False).unstack().reset_index()\n",
    "class_overview.index = class_overview['class']\n",
    "fig = plot_with_broken_axis(class_overview[0])\n",
    "save_fig_in_dir(fig, 'transposon classes broken axis %s.%s' % (LABEL, IMAGE_EXTENSION), directory=LABEL, bbox_inches='tight')"
   ]
  },
  {
   "cell_type": "code",
   "execution_count": 13,
   "metadata": {
    "execution": {
     "iopub.execute_input": "2020-08-12T11:15:12.730674Z",
     "iopub.status.busy": "2020-08-12T11:15:12.730017Z",
     "iopub.status.idle": "2020-08-12T11:15:12.771832Z",
     "shell.execute_reply": "2020-08-12T11:15:12.772184Z"
    },
    "papermill": {
     "duration": 0.088097,
     "end_time": "2020-08-12T11:15:12.772335",
     "exception": false,
     "start_time": "2020-08-12T11:15:12.684238",
     "status": "completed"
    },
    "tags": []
   },
   "outputs": [
    {
     "data": {
      "text/plain": [
       "<AxesSubplot:ylabel='class'>"
      ]
     },
     "execution_count": 13,
     "metadata": {},
     "output_type": "execute_result"
    }
   ],
   "source": [
    "class_overview.plot(y=0, kind='barh', stacked=True)"
   ]
  },
  {
   "cell_type": "code",
   "execution_count": 14,
   "metadata": {
    "execution": {
     "iopub.execute_input": "2020-08-12T11:15:12.832125Z",
     "iopub.status.busy": "2020-08-12T11:15:12.831370Z",
     "iopub.status.idle": "2020-08-12T11:15:12.961866Z",
     "shell.execute_reply": "2020-08-12T11:15:12.962209Z"
    },
    "papermill": {
     "duration": 0.179591,
     "end_time": "2020-08-12T11:15:12.962359",
     "exception": false,
     "start_time": "2020-08-12T11:15:12.782768",
     "status": "completed"
    },
    "tags": []
   },
   "outputs": [],
   "source": [
    "sns.set(context='paper', style=\"white\")\n",
    "fig, ax = plt.subplots(figsize=(1, 6))\n",
    "class_overview[0].reset_index().set_index('class').sort_values(by=0, ascending=False).T.plot(kind='bar', label=['rover', 'copia', 'I-element', 'blood'], stacked=True, ax=ax)\n",
    "h, l = ax.get_legend_handles_labels()\n",
    "plt.legend(h[:5], l[:5])\n",
    "despine(ax)\n",
    "save_fig_in_dir(fig, 'te_family_stacked_barplot %s.%s' % (LABEL, IMAGE_EXTENSION), directory=LABEL, bbox_inches='tight')"
   ]
  },
  {
   "cell_type": "code",
   "execution_count": 15,
   "metadata": {
    "execution": {
     "iopub.execute_input": "2020-08-12T11:15:12.987162Z",
     "iopub.status.busy": "2020-08-12T11:15:12.986699Z",
     "iopub.status.idle": "2020-08-12T11:15:12.988842Z",
     "shell.execute_reply": "2020-08-12T11:15:12.989161Z"
    },
    "papermill": {
     "duration": 0.016828,
     "end_time": "2020-08-12T11:15:12.989291",
     "exception": false,
     "start_time": "2020-08-12T11:15:12.972463",
     "status": "completed"
    },
    "tags": []
   },
   "outputs": [],
   "source": [
    "df = class_overview[0].reset_index().set_index('class').sort_values(by=0, ascending=False)"
   ]
  },
  {
   "cell_type": "code",
   "execution_count": 16,
   "metadata": {
    "execution": {
     "iopub.execute_input": "2020-08-12T11:15:13.049784Z",
     "iopub.status.busy": "2020-08-12T11:15:13.049298Z",
     "iopub.status.idle": "2020-08-12T11:15:13.294265Z",
     "shell.execute_reply": "2020-08-12T11:15:13.294630Z"
    },
    "papermill": {
     "duration": 0.294507,
     "end_time": "2020-08-12T11:15:13.294783",
     "exception": false,
     "start_time": "2020-08-12T11:15:13.000276",
     "status": "completed"
    },
    "tags": []
   },
   "outputs": [],
   "source": [
    "sns.set(context='paper', style=\"white\")\n",
    "fig, ax = plt.subplots(figsize=(4, 6))\n",
    "df.plot(y=0, kind='pie', label=\"Transposon families\", ax=ax)\n",
    "h, l = ax.get_legend_handles_labels()\n",
    "plt.legend(h[:5], l[:5])\n",
    "despine(ax)\n",
    "save_fig_in_dir(fig, 'te_family_stacked_pie_plot %s.%s' % (LABEL, IMAGE_EXTENSION), directory=LABEL, bbox_inches='tight')"
   ]
  },
  {
   "cell_type": "code",
   "execution_count": 17,
   "metadata": {
    "execution": {
     "iopub.execute_input": "2020-08-12T11:15:13.326001Z",
     "iopub.status.busy": "2020-08-12T11:15:13.324900Z",
     "iopub.status.idle": "2020-08-12T11:15:13.328250Z",
     "shell.execute_reply": "2020-08-12T11:15:13.328646Z"
    },
    "papermill": {
     "duration": 0.023185,
     "end_time": "2020-08-12T11:15:13.328794",
     "exception": false,
     "start_time": "2020-08-12T11:15:13.305609",
     "status": "completed"
    },
    "tags": []
   },
   "outputs": [
    {
     "data": {
      "text/html": [
       "<div>\n",
       "<style scoped>\n",
       "    .dataframe tbody tr th:only-of-type {\n",
       "        vertical-align: middle;\n",
       "    }\n",
       "\n",
       "    .dataframe tbody tr th {\n",
       "        vertical-align: top;\n",
       "    }\n",
       "\n",
       "    .dataframe thead th {\n",
       "        text-align: right;\n",
       "    }\n",
       "</style>\n",
       "<table border=\"1\" class=\"dataframe\">\n",
       "  <thead>\n",
       "    <tr style=\"text-align: right;\">\n",
       "      <th></th>\n",
       "      <th>class</th>\n",
       "      <th>sample</th>\n",
       "      <th>count</th>\n",
       "    </tr>\n",
       "  </thead>\n",
       "  <tbody>\n",
       "    <tr>\n",
       "      <th>0</th>\n",
       "      <td>1360</td>\n",
       "      <td>BD-9-head</td>\n",
       "      <td>1</td>\n",
       "    </tr>\n",
       "    <tr>\n",
       "      <th>1</th>\n",
       "      <td>1360</td>\n",
       "      <td>KD-8-head</td>\n",
       "      <td>1</td>\n",
       "    </tr>\n",
       "    <tr>\n",
       "      <th>2</th>\n",
       "      <td>297</td>\n",
       "      <td>KD-6-head</td>\n",
       "      <td>1</td>\n",
       "    </tr>\n",
       "    <tr>\n",
       "      <th>3</th>\n",
       "      <td>BS</td>\n",
       "      <td>KD-6-head</td>\n",
       "      <td>1</td>\n",
       "    </tr>\n",
       "    <tr>\n",
       "      <th>4</th>\n",
       "      <td>G-element</td>\n",
       "      <td>BD-10-head</td>\n",
       "      <td>1</td>\n",
       "    </tr>\n",
       "    <tr>\n",
       "      <th>5</th>\n",
       "      <td>Tabor</td>\n",
       "      <td>BD-10-head</td>\n",
       "      <td>1</td>\n",
       "    </tr>\n",
       "    <tr>\n",
       "      <th>6</th>\n",
       "      <td>Tabor</td>\n",
       "      <td>KD-6-head</td>\n",
       "      <td>5</td>\n",
       "    </tr>\n",
       "    <tr>\n",
       "      <th>7</th>\n",
       "      <td>ZAM</td>\n",
       "      <td>KD-6-head</td>\n",
       "      <td>1</td>\n",
       "    </tr>\n",
       "    <tr>\n",
       "      <th>8</th>\n",
       "      <td>gypsy12</td>\n",
       "      <td>BD-9-head</td>\n",
       "      <td>1</td>\n",
       "    </tr>\n",
       "    <tr>\n",
       "      <th>9</th>\n",
       "      <td>hopper</td>\n",
       "      <td>KD-8-head</td>\n",
       "      <td>1</td>\n",
       "    </tr>\n",
       "    <tr>\n",
       "      <th>10</th>\n",
       "      <td>opus</td>\n",
       "      <td>BD-10-head</td>\n",
       "      <td>1</td>\n",
       "    </tr>\n",
       "  </tbody>\n",
       "</table>\n",
       "</div>"
      ],
      "text/plain": [
       "        class      sample  count\n",
       "0        1360   BD-9-head      1\n",
       "1        1360   KD-8-head      1\n",
       "2         297   KD-6-head      1\n",
       "3          BS   KD-6-head      1\n",
       "4   G-element  BD-10-head      1\n",
       "5       Tabor  BD-10-head      1\n",
       "6       Tabor   KD-6-head      5\n",
       "7         ZAM   KD-6-head      1\n",
       "8     gypsy12   BD-9-head      1\n",
       "9      hopper   KD-8-head      1\n",
       "10       opus  BD-10-head      1"
      ]
     },
     "execution_count": 17,
     "metadata": {},
     "output_type": "execute_result"
    }
   ],
   "source": [
    "ins_df"
   ]
  },
  {
   "cell_type": "code",
   "execution_count": 18,
   "metadata": {
    "execution": {
     "iopub.execute_input": "2020-08-12T11:15:13.357462Z",
     "iopub.status.busy": "2020-08-12T11:15:13.356685Z",
     "iopub.status.idle": "2020-08-12T11:15:13.358436Z",
     "shell.execute_reply": "2020-08-12T11:15:13.358738Z"
    },
    "papermill": {
     "duration": 0.017535,
     "end_time": "2020-08-12T11:15:13.358881",
     "exception": false,
     "start_time": "2020-08-12T11:15:13.341346",
     "status": "completed"
    },
    "tags": []
   },
   "outputs": [],
   "source": [
    "insertions['tsd_len'] = insertions['end'] - insertions['start']"
   ]
  },
  {
   "cell_type": "code",
   "execution_count": 19,
   "metadata": {
    "execution": {
     "iopub.execute_input": "2020-08-12T11:15:13.387532Z",
     "iopub.status.busy": "2020-08-12T11:15:13.387043Z",
     "iopub.status.idle": "2020-08-12T11:15:13.388788Z",
     "shell.execute_reply": "2020-08-12T11:15:13.389124Z"
    },
    "papermill": {
     "duration": 0.017956,
     "end_time": "2020-08-12T11:15:13.389318",
     "exception": false,
     "start_time": "2020-08-12T11:15:13.371362",
     "status": "completed"
    },
    "tags": []
   },
   "outputs": [],
   "source": [
    "# this one is bizarre, shouldn't be a TSD element\n",
    "insertions = insertions[insertions['tsd_len'] != 0]"
   ]
  },
  {
   "cell_type": "code",
   "execution_count": 20,
   "metadata": {
    "execution": {
     "iopub.execute_input": "2020-08-12T11:15:13.417295Z",
     "iopub.status.busy": "2020-08-12T11:15:13.416439Z",
     "iopub.status.idle": "2020-08-12T11:15:13.418224Z",
     "shell.execute_reply": "2020-08-12T11:15:13.418570Z"
    },
    "papermill": {
     "duration": 0.018185,
     "end_time": "2020-08-12T11:15:13.418720",
     "exception": false,
     "start_time": "2020-08-12T11:15:13.400535",
     "status": "completed"
    },
    "tags": []
   },
   "outputs": [],
   "source": [
    "tsd_df = insertions[['class', 'tsd_len']]\n",
    "tsd_df.columns = ['Transposable Element', 'TSD length']"
   ]
  },
  {
   "cell_type": "code",
   "execution_count": 21,
   "metadata": {
    "execution": {
     "iopub.execute_input": "2020-08-12T11:15:13.444778Z",
     "iopub.status.busy": "2020-08-12T11:15:13.444290Z",
     "iopub.status.idle": "2020-08-12T11:15:13.448798Z",
     "shell.execute_reply": "2020-08-12T11:15:13.449296Z"
    },
    "papermill": {
     "duration": 0.01936,
     "end_time": "2020-08-12T11:15:13.449450",
     "exception": false,
     "start_time": "2020-08-12T11:15:13.430090",
     "status": "completed"
    },
    "tags": []
   },
   "outputs": [],
   "source": [
    "tsd_df.to_csv(os.path.join(LABEL, 'TSD lengths.csv'))"
   ]
  },
  {
   "cell_type": "code",
   "execution_count": 22,
   "metadata": {
    "execution": {
     "iopub.execute_input": "2020-08-12T11:15:13.538624Z",
     "iopub.status.busy": "2020-08-12T11:15:13.498949Z",
     "iopub.status.idle": "2020-08-12T11:15:13.699811Z",
     "shell.execute_reply": "2020-08-12T11:15:13.700153Z"
    },
    "papermill": {
     "duration": 0.239323,
     "end_time": "2020-08-12T11:15:13.700342",
     "exception": false,
     "start_time": "2020-08-12T11:15:13.461019",
     "status": "completed"
    },
    "tags": []
   },
   "outputs": [],
   "source": [
    "fig, ax = plt.subplots(figsize=(25, 7.5))\n",
    "sns.boxplot(y='TSD length', x='Transposable Element', data=tsd_df, ax=ax)\n",
    "ax = plt.gca()\n",
    "despine(ax)\n",
    "ax.set_xticklabels(ax.get_xticklabels(),rotation=45)\n",
    "save_fig_in_dir(fig, 'TSD_length_boxplot.pdf %s.%s' % (LABEL, IMAGE_EXTENSION), directory=LABEL, bbox_inches='tight')"
   ]
  },
  {
   "cell_type": "code",
   "execution_count": 23,
   "metadata": {
    "execution": {
     "iopub.execute_input": "2020-08-12T11:15:13.768215Z",
     "iopub.status.busy": "2020-08-12T11:15:13.767414Z",
     "iopub.status.idle": "2020-08-12T11:15:14.011790Z",
     "shell.execute_reply": "2020-08-12T11:15:14.012287Z"
    },
    "papermill": {
     "duration": 0.300424,
     "end_time": "2020-08-12T11:15:14.012440",
     "exception": false,
     "start_time": "2020-08-12T11:15:13.712016",
     "status": "completed"
    },
    "tags": []
   },
   "outputs": [],
   "source": [
    "fig, ax = plt.subplots(figsize=(25, 7.5))\n",
    "sns.swarmplot(y='TSD length', x='Transposable Element', data=tsd_df, ax=ax)\n",
    "ax = plt.gca()\n",
    "despine(ax)\n",
    "ax.set_xticklabels(ax.get_xticklabels(),rotation=45)\n",
    "save_fig_in_dir(fig, 'TSD_length_swarmplot.pdf %s.%s' % (LABEL, IMAGE_EXTENSION), directory=LABEL, bbox_inches='tight')"
   ]
  },
  {
   "cell_type": "code",
   "execution_count": null,
   "metadata": {
    "papermill": {
     "duration": 0.011171,
     "end_time": "2020-08-12T11:15:14.035350",
     "exception": false,
     "start_time": "2020-08-12T11:15:14.024179",
     "status": "completed"
    },
    "tags": []
   },
   "outputs": [],
   "source": []
  }
 ],
 "metadata": {
  "kernelspec": {
   "display_name": "Python 3",
   "language": "python",
   "name": "python3"
  },
  "language_info": {
   "codemirror_mode": {
    "name": "ipython",
    "version": 3
   },
   "file_extension": ".py",
   "mimetype": "text/x-python",
   "name": "python",
   "nbconvert_exporter": "python",
   "pygments_lexer": "ipython3",
   "version": "3.6.11"
  },
  "papermill": {
   "duration": 4.725931,
   "end_time": "2020-08-12T11:15:14.357498",
   "environment_variables": {},
   "exception": null,
   "input_path": "somatic_overview.ipynb",
   "output_path": "Delta heads somatic_overview.ipynb",
   "parameters": {
    "INSERTIONS": "0.5.21.filtered_calls_delta_heads.gff",
    "LABEL": "Delta calls heads",
    "SAMPLE_FILE": "Delta_head_samples.csv"
   },
   "start_time": "2020-08-12T11:15:09.631567",
   "version": "2.1.2"
  }
 },
 "nbformat": 4,
 "nbformat_minor": 4
}