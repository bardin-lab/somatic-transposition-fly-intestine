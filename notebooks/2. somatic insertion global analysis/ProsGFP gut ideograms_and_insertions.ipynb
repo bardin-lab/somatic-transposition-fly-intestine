{
 "cells": [
  {
   "cell_type": "code",
   "execution_count": 1,
   "metadata": {
    "execution": {
     "iopub.execute_input": "2020-08-12T12:29:55.199151Z",
     "iopub.status.busy": "2020-08-12T12:29:55.198555Z",
     "iopub.status.idle": "2020-08-12T12:29:56.309365Z",
     "shell.execute_reply": "2020-08-12T12:29:56.309739Z"
    },
    "papermill": {
     "duration": 1.121621,
     "end_time": "2020-08-12T12:29:56.309926",
     "exception": false,
     "start_time": "2020-08-12T12:29:55.188305",
     "status": "completed"
    },
    "tags": []
   },
   "outputs": [],
   "source": [
    "%matplotlib inline\n",
    "import math\n",
    "from matplotlib.collections import BrokenBarHCollection\n",
    "import matplotlib.pyplot as plt\n",
    "import pandas as pd\n",
    "import pybedtools\n",
    "import pysam\n",
    "import requests\n",
    "from matplotlib import rcParams\n",
    "from seaplotlib.helper import (\n",
    "    despine,\n",
    "    save_fig_in_dir,\n",
    ")\n",
    "\n",
    "\n",
    "IDEOGRAM_URL = 'https://unpkg.com/ideogram@1.9.0/dist/data/bands/native/drosophila-melanogaster.json'"
   ]
  },
  {
   "cell_type": "code",
   "execution_count": 2,
   "metadata": {
    "execution": {
     "iopub.execute_input": "2020-08-12T12:29:56.319862Z",
     "iopub.status.busy": "2020-08-12T12:29:56.319292Z",
     "iopub.status.idle": "2020-08-12T12:29:56.321103Z",
     "shell.execute_reply": "2020-08-12T12:29:56.321491Z"
    },
    "papermill": {
     "duration": 0.008113,
     "end_time": "2020-08-12T12:29:56.321703",
     "exception": false,
     "start_time": "2020-08-12T12:29:56.313590",
     "status": "completed"
    },
    "tags": [
     "parameters"
    ]
   },
   "outputs": [],
   "source": [
    "FASTA_INDEX = '../../reference-data/dm6-r6.17.fa.fai'\n",
    "# The remaining variables will be replaced when run through papermill\n",
    "INSERTIONS = 'calls.gff'  \n",
    "LABEL = 'prosGFP guts'\n",
    "OUT_DIR = 'ProsGFP guts'"
   ]
  },
  {
   "cell_type": "code",
   "execution_count": 3,
   "metadata": {
    "execution": {
     "iopub.execute_input": "2020-08-12T12:29:56.330652Z",
     "iopub.status.busy": "2020-08-12T12:29:56.329982Z",
     "iopub.status.idle": "2020-08-12T12:29:56.331731Z",
     "shell.execute_reply": "2020-08-12T12:29:56.332138Z"
    },
    "papermill": {
     "duration": 0.007789,
     "end_time": "2020-08-12T12:29:56.332340",
     "exception": false,
     "start_time": "2020-08-12T12:29:56.324551",
     "status": "completed"
    },
    "tags": [
     "injected-parameters"
    ]
   },
   "outputs": [],
   "source": [
    "# Parameters\n",
    "INSERTIONS = \"0.5.21.filtered_calls_prosgfp_guts.gff\"\n",
    "LABEL = \"ProsGFP calls guts\"\n",
    "SAMPLE_FILE = \"ProsGFP_gut_samples.csv\"\n"
   ]
  },
  {
   "cell_type": "code",
   "execution_count": 4,
   "metadata": {
    "execution": {
     "iopub.execute_input": "2020-08-12T12:29:56.355477Z",
     "iopub.status.busy": "2020-08-12T12:29:56.354765Z",
     "iopub.status.idle": "2020-08-12T12:29:57.192943Z",
     "shell.execute_reply": "2020-08-12T12:29:57.193335Z"
    },
    "papermill": {
     "duration": 0.858281,
     "end_time": "2020-08-12T12:29:57.193553",
     "exception": false,
     "start_time": "2020-08-12T12:29:56.335272",
     "status": "completed"
    },
    "tags": []
   },
   "outputs": [
    {
     "name": "stderr",
     "output_type": "stream",
     "text": [
      "/Users/mvandenb/miniconda3/envs/somatic-transposition-fly-intestine/lib/python3.6/site-packages/ipykernel_launcher.py:130: UserWarning: Matplotlib is currently using agg, which is a non-GUI backend, so cannot show the figure.\n"
     ]
    }
   ],
   "source": [
    "with open(FASTA_INDEX) as fai:\n",
    "    chrom_len = {l.split('\\t')[0]: l.split('\\t')[1] for l in fai}\n",
    "    \n",
    "    \n",
    "def get_ideogram():\n",
    "    bands = requests.get(IDEOGRAM_URL).json()\n",
    "    ideo = pd.DataFrame.from_records([b.split(' ') for b in bands['chrBands']])\n",
    "    ideo = ideo[[0,3,4,2,7]]\n",
    "    ideo.columns = ['chrom', 'start', 'end', 'name', 'gieStain']\n",
    "    ideo.start = pd.to_numeric(ideo.start)\n",
    "    ideo.end = pd.to_numeric(ideo.end)\n",
    "\n",
    "    # Filter out chromosomes not in our list\n",
    "    ideo = ideo[ideo.chrom.apply(lambda x: x in chromosome_list)]\n",
    "    ideo\n",
    "\n",
    "    # Add a new column for width\n",
    "    ideo['width'] = ideo.end - ideo.start\n",
    "\n",
    "    # Colors for different chromosome stains\n",
    "    color_lookup = {\n",
    "        'gneg': (1., 1., 1.),\n",
    "        'gpos': (0., 0., 0.,),\n",
    "        'gpos25': (.6, .6, .6),\n",
    "        'gpos50': (.4, .4, .4),\n",
    "        'gpos75': (.2, .2, .2),\n",
    "        'gpos100': (0., 0., 0.),\n",
    "        'acen': (.8, .4, .4),\n",
    "        'gvar': (.8, .8, .8),\n",
    "        'stalk': (.9, .9, .9),\n",
    "    }\n",
    "    ideo['colors'] = ideo['gieStain'].apply(lambda x: color_lookup[x])\n",
    "    return ideo\n",
    "\n",
    "\n",
    "def interval_to_df(path, chromosome_list, color='red'):\n",
    "    df = pybedtools.BedTool(path).to_dataframe()\n",
    "    df = df[['seqname', 'start', 'end', 'feature']]\n",
    "    df.columns = ['chrom', 'start', 'end', 'name']\n",
    "    df['width'] = 50000\n",
    "    df['colors'] = color\n",
    "    df = df[df.chrom.apply(lambda x: x in chromosome_list)]\n",
    "    return df\n",
    "\n",
    "\n",
    "# Here's the function that we'll call for each dataframe (once for chromosome\n",
    "# ideograms, once for genes).  The rest of this script will be prepping data\n",
    "# for input to this function\n",
    "#\n",
    "def chromosome_collections(df, y_positions, height,  **kwargs):\n",
    "    \"\"\"\n",
    "    Yields BrokenBarHCollection of features that can be added to an Axes\n",
    "    object.\n",
    "    Parameters\n",
    "    ----------\n",
    "    df : pandas.DataFrame\n",
    "        Must at least have columns ['chrom', 'start', 'end', 'color']. If no\n",
    "        column 'width', it will be calculated from start/end.\n",
    "    y_positions : dict\n",
    "        Keys are chromosomes, values are y-value at which to anchor the\n",
    "        BrokenBarHCollection\n",
    "    height : float\n",
    "        Height of each BrokenBarHCollection\n",
    "    Additional kwargs are passed to BrokenBarHCollection\n",
    "    \"\"\"\n",
    "    del_width = False\n",
    "    if 'width' not in df.columns:\n",
    "        del_width = True\n",
    "        df['width'] = df['end'] - df['start']\n",
    "    for chrom, group in df.groupby('chrom'):\n",
    "        yrange = (y_positions[chrom], height)\n",
    "        xranges = group[['start', 'width']].values\n",
    "        yield BrokenBarHCollection(\n",
    "            xranges, yrange, facecolors=group['colors'], **kwargs)\n",
    "    if del_width:\n",
    "        del df['width']\n",
    "        \n",
    "\n",
    "# Height of each ideogram\n",
    "chrom_height = 0.5\n",
    "\n",
    "# Spacing between consecutive ideograms\n",
    "chrom_spacing = 1.2\n",
    "\n",
    "# Height of the gene track. Should be smaller than `chrom_spacing` in order to\n",
    "# fit correctly\n",
    "gene_height = 0.8\n",
    "\n",
    "# Padding between the top of a gene track and its corresponding ideogram\n",
    "gene_padding = 0.1\n",
    "\n",
    "# Width, height (in inches)\n",
    "figsize = (6, 8)\n",
    "\n",
    "# Decide which chromosomes to use\n",
    "chromosome_list = list(chrom_len.keys())\n",
    "\n",
    "# Keep track of the y positions for ideograms and genes for each chromosome,\n",
    "# and the center of each ideogram (which is where we'll put the ytick labels)\n",
    "ybase = 0\n",
    "chrom_ybase = {}\n",
    "gene_ybase = {}\n",
    "chrom_centers = {}\n",
    "\n",
    "# Iterate in reverse so that items in the beginning of `chromosome_list` will\n",
    "# appear at the top of the plot\n",
    "for chrom in chromosome_list[::-1]:\n",
    "    chrom_ybase[chrom] = ybase\n",
    "    chrom_centers[chrom] = ybase + chrom_height / 2.\n",
    "    gene_ybase[chrom] = ybase - gene_height - gene_padding\n",
    "    ybase += chrom_height + chrom_spacing\n",
    "    \n",
    "    \n",
    "ideo = get_ideogram()\n",
    "genes_df = interval_to_df(INSERTIONS, chromosome_list)\n",
    "fig = plt.figure(figsize=figsize)\n",
    "ax = fig.add_subplot(111)\n",
    "for collection in chromosome_collections(ideo, chrom_ybase, chrom_height):\n",
    "    ax.add_collection(collection)\n",
    "for collection in chromosome_collections(\n",
    "    genes_df, gene_ybase, gene_height, alpha=0.3, linewidths=10\n",
    "):\n",
    "    ax.add_collection(collection)\n",
    "\n",
    "ax.set_yticks([chrom_centers[i] for i in chromosome_list])\n",
    "ax.set_yticklabels(chromosome_list)\n",
    "ax.set_title('Density of de-novo insertions across genome')\n",
    "ax.axis('tight')\n",
    "despine(ax)\n",
    "plt.show()\n",
    "save_fig_in_dir(fig, filename='insertion_density %s.pdf' % LABEL, directory=LABEL, bbox_inches='tight')"
   ]
  }
 ],
 "metadata": {
  "kernelspec": {
   "display_name": "Python 3",
   "language": "python",
   "name": "python3"
  },
  "language_info": {
   "codemirror_mode": {
    "name": "ipython",
    "version": 3
   },
   "file_extension": ".py",
   "mimetype": "text/x-python",
   "name": "python",
   "nbconvert_exporter": "python",
   "pygments_lexer": "ipython3",
   "version": "3.6.11"
  },
  "papermill": {
   "duration": 4.241125,
   "end_time": "2020-08-12T12:29:58.511677",
   "environment_variables": {},
   "exception": null,
   "input_path": "ideograms_and_insertions.ipynb",
   "output_path": "ProsGFP gut ideograms_and_insertions.ipynb",
   "parameters": {
    "INSERTIONS": "0.5.21.filtered_calls_prosgfp_guts.gff",
    "LABEL": "ProsGFP calls guts",
    "SAMPLE_FILE": "ProsGFP_gut_samples.csv"
   },
   "start_time": "2020-08-12T12:29:54.270552",
   "version": "2.1.2"
  }
 },
 "nbformat": 4,
 "nbformat_minor": 4
}