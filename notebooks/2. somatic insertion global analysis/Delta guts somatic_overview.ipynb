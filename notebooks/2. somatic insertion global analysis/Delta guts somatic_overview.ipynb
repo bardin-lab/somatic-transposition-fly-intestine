{
 "cells": [
  {
   "cell_type": "code",
   "execution_count": 1,
   "metadata": {
    "execution": {
     "iopub.execute_input": "2020-08-12T11:15:15.834641Z",
     "iopub.status.busy": "2020-08-12T11:15:15.833827Z",
     "iopub.status.idle": "2020-08-12T11:15:16.576494Z",
     "shell.execute_reply": "2020-08-12T11:15:16.576840Z"
    },
    "papermill": {
     "duration": 0.76636,
     "end_time": "2020-08-12T11:15:16.577003",
     "exception": false,
     "start_time": "2020-08-12T11:15:15.810643",
     "status": "completed"
    },
    "tags": []
   },
   "outputs": [],
   "source": [
    "%matplotlib inline\n",
    "import os\n",
    "\n",
    "import collections\n",
    "\n",
    "import pandas as pd\n",
    "import matplotlib.pyplot as plt\n",
    "import seaborn as sns\n",
    "\n",
    "from seaplotlib.helper import abline, despine, save_fig_in_dir, styles"
   ]
  },
  {
   "cell_type": "code",
   "execution_count": 2,
   "metadata": {
    "execution": {
     "iopub.execute_input": "2020-08-12T11:15:16.598740Z",
     "iopub.status.busy": "2020-08-12T11:15:16.598145Z",
     "iopub.status.idle": "2020-08-12T11:15:16.600559Z",
     "shell.execute_reply": "2020-08-12T11:15:16.600873Z"
    },
    "papermill": {
     "duration": 0.014526,
     "end_time": "2020-08-12T11:15:16.601003",
     "exception": false,
     "start_time": "2020-08-12T11:15:16.586477",
     "status": "completed"
    },
    "tags": [
     "parameters"
    ]
   },
   "outputs": [],
   "source": [
    "INSERTIONS = '0.5.21.filtered_calls_prosgfp_guts.gff'\n",
    "LABEL = \"ProsGFP calls guts\"\n",
    "IMAGE_EXTENSION = 'pdf'\n",
    "SAMPLE_FILE = 'ProsGFP_tumor_samples.csv'"
   ]
  },
  {
   "cell_type": "code",
   "execution_count": 3,
   "metadata": {
    "execution": {
     "iopub.execute_input": "2020-08-12T11:15:16.624903Z",
     "iopub.status.busy": "2020-08-12T11:15:16.624286Z",
     "iopub.status.idle": "2020-08-12T11:15:16.626164Z",
     "shell.execute_reply": "2020-08-12T11:15:16.626551Z"
    },
    "papermill": {
     "duration": 0.015553,
     "end_time": "2020-08-12T11:15:16.626693",
     "exception": false,
     "start_time": "2020-08-12T11:15:16.611140",
     "status": "completed"
    },
    "tags": [
     "injected-parameters"
    ]
   },
   "outputs": [],
   "source": [
    "# Parameters\n",
    "INSERTIONS = \"0.5.21.filtered_calls_delta_guts.gff\"\n",
    "LABEL = \"Delta calls guts\"\n",
    "SAMPLE_FILE = \"Delta_gut_samples.csv\"\n"
   ]
  },
  {
   "cell_type": "code",
   "execution_count": 4,
   "metadata": {
    "execution": {
     "iopub.execute_input": "2020-08-12T11:15:16.654130Z",
     "iopub.status.busy": "2020-08-12T11:15:16.653360Z",
     "iopub.status.idle": "2020-08-12T11:15:16.656005Z",
     "shell.execute_reply": "2020-08-12T11:15:16.656380Z"
    },
    "papermill": {
     "duration": 0.020807,
     "end_time": "2020-08-12T11:15:16.656511",
     "exception": false,
     "start_time": "2020-08-12T11:15:16.635704",
     "status": "completed"
    },
    "tags": []
   },
   "outputs": [],
   "source": [
    "def get_insertions(path):\n",
    "    insertions = []\n",
    "    with open(path) as f:\n",
    "        for line in f:\n",
    "            fields = line.split('\\t')\n",
    "            insertions.append({'start': int(fields[3]),\n",
    "                               'end': int(fields[4]),\n",
    "                               'class': fields[2], \n",
    "                               'score': int(fields[5]), \n",
    "                               'nref': int(fields[8].split(';')[7].split('=')[1].split('_')[0]), \n",
    "                               'sample': fields[8].split(';')[0].split('=')[1].split('_')[0]})\n",
    "    insertions = pd.DataFrame.from_records(insertions)\n",
    "    return insertions\n",
    "\n",
    "\n",
    "def transform_summary(insertions):\n",
    "    g = insertions.groupby(['class', 'sample'])\n",
    "    s = g.aggregate('class').count()\n",
    "    ins_df = s.to_frame()\n",
    "    ins_df.columns = ['count']\n",
    "    ins_df = ins_df.reset_index()\n",
    "    return ins_df\n",
    "\n",
    "\n",
    "\n",
    "def fill_missing_with_zero(df, all_sample_list):\n",
    "    for sample in all_sample_list:\n",
    "        if sample not in df['sample'].unique():\n",
    "            if 'class' in df:\n",
    "                for kls in df['class'].unique():\n",
    "                    entry = {0: {'class': kls, 'sample': sample, 'count': 0}}\n",
    "                    df = df.append(pd.DataFrame.from_dict(entry, orient='index'))\n",
    "            else:\n",
    "                entry = {0: {'sample': sample, 'count': 0}}\n",
    "                df = df.append(pd.DataFrame.from_dict(entry, orient='index'))\n",
    "    return df\n",
    "\n",
    "            \n",
    "def insertions_per_sample(df, color='r', title=None, all_sample_list=None):\n",
    "    if all_sample_list is not None:\n",
    "        df = fill_missing_with_zero(df, all_sample_list)\n",
    "    df = df.sort_values('count', ascending=False)\n",
    "    ax = despine(df.plot(kind='bar', x='sample', y='count', color=color, figsize=(8, 5), legend=False, title=title))\n",
    "    mean = df['count'].mean()\n",
    "    max_y = df['count'].max()\n",
    "    abline(slope=0, intercept=mean)\n",
    "    x = len(df['sample'].unique())\n",
    "    x = x - x / 8  # 12,5 % from the right\n",
    "    y = mean + max_y / 50  # 2 % of the y + mean position\n",
    "    ax.annotate('Mean=%.2f' % mean, (x, y))\n",
    "    return ax"
   ]
  },
  {
   "cell_type": "code",
   "execution_count": 5,
   "metadata": {
    "execution": {
     "iopub.execute_input": "2020-08-12T11:15:16.679152Z",
     "iopub.status.busy": "2020-08-12T11:15:16.678674Z",
     "iopub.status.idle": "2020-08-12T11:15:17.099263Z",
     "shell.execute_reply": "2020-08-12T11:15:17.099566Z"
    },
    "papermill": {
     "duration": 0.434736,
     "end_time": "2020-08-12T11:15:17.099714",
     "exception": false,
     "start_time": "2020-08-12T11:15:16.664978",
     "status": "completed"
    },
    "tags": []
   },
   "outputs": [],
   "source": [
    "def plot_insertions(ins_df, all_sample_list, suffix=''):\n",
    "    all_insertions = ins_df.groupby(['sample']).sum().reset_index()\n",
    "    rover_insertions = ins_df[ins_df['class'] == 'rover']\n",
    "    copia_insertions = ins_df[ins_df['class'] == 'copia']\n",
    "    i_element_insertions = ins_df[ins_df['class'] == 'I-element']\n",
    "\n",
    "    kwargs = {\n",
    "        'All insertions': [all_insertions, 'r'],\n",
    "        'Rover insertions': [rover_insertions, 'k'],\n",
    "        'Copia insertions': [copia_insertions, 'b'],\n",
    "        'I-element insertions': [i_element_insertions, 'g'],\n",
    "    }\n",
    "    kwargs = {k: v for k, v in kwargs.items() if len(v[0]) > 0}\n",
    "\n",
    "    for title, args in kwargs.items():\n",
    "        title = \"%s per sample\" % title\n",
    "        f = insertions_per_sample(all_sample_list=all_sample_list, title=title, *args).figure\n",
    "        save_fig_in_dir(f, \"%s%s.%s\" % (title, suffix, IMAGE_EXTENSION), directory=LABEL, bbox_inches='tight')\n",
    "\n",
    "\n",
    "with open(SAMPLE_FILE) as fh:\n",
    "    SAMPLES = fh.read().strip().split(',')\n",
    "insertions = get_insertions(INSERTIONS)\n",
    "ins_df = transform_summary(insertions)\n",
    "plot_insertions(ins_df, SAMPLES, suffix=' %s' % LABEL)"
   ]
  },
  {
   "cell_type": "code",
   "execution_count": 6,
   "metadata": {
    "execution": {
     "iopub.execute_input": "2020-08-12T11:15:17.151021Z",
     "iopub.status.busy": "2020-08-12T11:15:17.149393Z",
     "iopub.status.idle": "2020-08-12T11:15:17.271764Z",
     "shell.execute_reply": "2020-08-12T11:15:17.272226Z"
    },
    "papermill": {
     "duration": 0.163782,
     "end_time": "2020-08-12T11:15:17.272452",
     "exception": false,
     "start_time": "2020-08-12T11:15:17.108670",
     "status": "completed"
    },
    "tags": []
   },
   "outputs": [],
   "source": [
    "# overview boxplot\n",
    "\n",
    "fig, ax = plt.subplots(figsize=(2, 5))\n",
    "bp_data = ins_df.groupby(['sample']).sum().reset_index()\n",
    "sns.boxplot(y='count', hue=\"sample\", ax=ax, data=bp_data, color='r')\n",
    "despine(sns.swarmplot(y='count', hue=\"sample\", ax=ax, data=bp_data, color=\"0.2\", size=8))\n",
    "ax.set_title('All insertions tumorseq')\n",
    "save_fig_in_dir(fig, 'all_insertions_all_samples.%s' % IMAGE_EXTENSION, directory=LABEL, bbox_inches='tight')"
   ]
  },
  {
   "cell_type": "code",
   "execution_count": 7,
   "metadata": {
    "execution": {
     "iopub.execute_input": "2020-08-12T11:15:17.307824Z",
     "iopub.status.busy": "2020-08-12T11:15:17.306113Z",
     "iopub.status.idle": "2020-08-12T11:15:17.316542Z",
     "shell.execute_reply": "2020-08-12T11:15:17.317149Z"
    },
    "papermill": {
     "duration": 0.029755,
     "end_time": "2020-08-12T11:15:17.317355",
     "exception": false,
     "start_time": "2020-08-12T11:15:17.287600",
     "status": "completed"
    },
    "tags": []
   },
   "outputs": [
    {
     "data": {
      "text/html": [
       "<div>\n",
       "<style scoped>\n",
       "    .dataframe tbody tr th:only-of-type {\n",
       "        vertical-align: middle;\n",
       "    }\n",
       "\n",
       "    .dataframe tbody tr th {\n",
       "        vertical-align: top;\n",
       "    }\n",
       "\n",
       "    .dataframe thead th {\n",
       "        text-align: right;\n",
       "    }\n",
       "</style>\n",
       "<table border=\"1\" class=\"dataframe\">\n",
       "  <thead>\n",
       "    <tr style=\"text-align: right;\">\n",
       "      <th></th>\n",
       "      <th>sample</th>\n",
       "      <th>count</th>\n",
       "    </tr>\n",
       "  </thead>\n",
       "  <tbody>\n",
       "    <tr>\n",
       "      <th>0</th>\n",
       "      <td>BD-09-tumor</td>\n",
       "      <td>19</td>\n",
       "    </tr>\n",
       "    <tr>\n",
       "      <th>1</th>\n",
       "      <td>BD-10-tumor</td>\n",
       "      <td>22</td>\n",
       "    </tr>\n",
       "    <tr>\n",
       "      <th>2</th>\n",
       "      <td>KD-6-tumor</td>\n",
       "      <td>32</td>\n",
       "    </tr>\n",
       "    <tr>\n",
       "      <th>3</th>\n",
       "      <td>KD-8-tumor</td>\n",
       "      <td>24</td>\n",
       "    </tr>\n",
       "  </tbody>\n",
       "</table>\n",
       "</div>"
      ],
      "text/plain": [
       "        sample  count\n",
       "0  BD-09-tumor     19\n",
       "1  BD-10-tumor     22\n",
       "2   KD-6-tumor     32\n",
       "3   KD-8-tumor     24"
      ]
     },
     "execution_count": 7,
     "metadata": {},
     "output_type": "execute_result"
    }
   ],
   "source": [
    "ins_df.groupby(['sample']).sum().reset_index()"
   ]
  },
  {
   "cell_type": "code",
   "execution_count": 8,
   "metadata": {
    "execution": {
     "iopub.execute_input": "2020-08-12T11:15:17.355725Z",
     "iopub.status.busy": "2020-08-12T11:15:17.354821Z",
     "iopub.status.idle": "2020-08-12T11:15:17.357367Z",
     "shell.execute_reply": "2020-08-12T11:15:17.357831Z"
    },
    "papermill": {
     "duration": 0.02693,
     "end_time": "2020-08-12T11:15:17.357962",
     "exception": false,
     "start_time": "2020-08-12T11:15:17.331032",
     "status": "completed"
    },
    "tags": []
   },
   "outputs": [],
   "source": [
    "def plot_with_broken_axis(df):\n",
    "    fig, (ax1, ax2) = plt.subplots(2, 1, sharex=True, figsize=(12, 5))\n",
    "    df.plot(kind='bar', ax=ax1, color='r')\n",
    "    df.plot(kind='bar', ax=ax2, color='r')\n",
    "    ax1.set_ylim(400, 500.)  # outliers only\n",
    "    ax2.set_ylim(0, 100)  # most of the data\n",
    "    ax1.spines['bottom'].set_visible(False)\n",
    "    ax1.spines['top'].set_visible(False)\n",
    "    ax2.spines['top'].set_visible(False)\n",
    "    ax2.spines['bottom'].set_visible(False)\n",
    "    # ax1.xaxis.tick_top()\n",
    "    ax1.xaxis.set_ticks_position('none') \n",
    "\n",
    "    ax1.tick_params(labeltop=False)  # don't put tick labels at the top\n",
    "    # plt.xticks(rotation=45)\n",
    "    ax2.xaxis.tick_bottom()\n",
    "\n",
    "    d = 0.015  # how big to make the diagonal lines in axes coordinates\n",
    "    # arguments to pass to plot, just so we don't keep repeating them\n",
    "    kwargs = dict(transform=ax1.transAxes, color='k', clip_on=False)\n",
    "    ax1.plot((-d, +d), (-d, +d), **kwargs)        # top-left diagonal\n",
    "    ax1.plot((1 - d, 1 + d), (-d, +d), **kwargs)  # top-right diagonal\n",
    "\n",
    "    kwargs.update(transform=ax2.transAxes)  # switch to the bottom axes\n",
    "    ax2.plot((-d, +d), (1 - d, 1 + d), **kwargs)  # bottom-left diagonal\n",
    "    ax2.plot((1 - d, 1 + d), (1 - d, 1 + d), **kwargs)  # bottom-right diagonal\n",
    "\n",
    "    rects = ax2.patches\n",
    "    # # Make some labels.\n",
    "    labels = df.values\n",
    "\n",
    "    for rect, label in zip(rects, labels):\n",
    "        if label > 120:\n",
    "            ax = ax1\n",
    "        else:\n",
    "            ax = ax2\n",
    "        height = rect.get_height()\n",
    "        ax.text(rect.get_x() + rect.get_width() / 2, height + 5, label,\n",
    "                ha='center', va='bottom')\n",
    "    return fig"
   ]
  },
  {
   "cell_type": "code",
   "execution_count": 9,
   "metadata": {
    "execution": {
     "iopub.execute_input": "2020-08-12T11:15:17.451328Z",
     "iopub.status.busy": "2020-08-12T11:15:17.450427Z",
     "iopub.status.idle": "2020-08-12T11:15:17.790773Z",
     "shell.execute_reply": "2020-08-12T11:15:17.791118Z"
    },
    "papermill": {
     "duration": 0.407612,
     "end_time": "2020-08-12T11:15:17.791269",
     "exception": false,
     "start_time": "2020-08-12T11:15:17.383657",
     "status": "completed"
    },
    "tags": []
   },
   "outputs": [],
   "source": [
    "class_overview = ins_df.groupby('class').sum().sort_values('count', ascending=False).unstack().reset_index()\n",
    "class_overview.index = class_overview['class']\n",
    "# fig = plot_with_broken_axis(class_overview[0])\n",
    "fig = despine(class_overview[0].plot(kind='bar', color='red', figsize=(15,5)))\n",
    "save_fig_in_dir(fig.figure, 'transposon classes %s.%s' % (LABEL, IMAGE_EXTENSION), directory=LABEL, bbox_inches='tight')"
   ]
  },
  {
   "cell_type": "code",
   "execution_count": 10,
   "metadata": {
    "execution": {
     "iopub.execute_input": "2020-08-12T11:15:17.814780Z",
     "iopub.status.busy": "2020-08-12T11:15:17.813986Z",
     "iopub.status.idle": "2020-08-12T11:15:17.816797Z",
     "shell.execute_reply": "2020-08-12T11:15:17.817176Z"
    },
    "papermill": {
     "duration": 0.016805,
     "end_time": "2020-08-12T11:15:17.817305",
     "exception": false,
     "start_time": "2020-08-12T11:15:17.800500",
     "status": "completed"
    },
    "tags": []
   },
   "outputs": [
    {
     "data": {
      "text/plain": [
       "class\n",
       "copia           16\n",
       "roo             10\n",
       "297              9\n",
       "opus             8\n",
       "mdg1             7\n",
       "Tabor            7\n",
       "Doc              3\n",
       "F-element        3\n",
       "jockey           3\n",
       "blood            3\n",
       "Stalker4         3\n",
       "R1A1-element     2\n",
       "invader4         2\n",
       "1360             2\n",
       "HMS-Beagle       2\n",
       "Rt1b             1\n",
       "S-element        1\n",
       "pogo             1\n",
       "BS               1\n",
       "GATE             1\n",
       "HMS-Beagle2      1\n",
       "gypsy4           1\n",
       "diver            1\n",
       "I-element        1\n",
       "INE-1            1\n",
       "baggins          1\n",
       "Tc3              1\n",
       "Tc1-2            1\n",
       "Max-element      1\n",
       "Porto1           1\n",
       "17.6             1\n",
       "Stalker2         1\n",
       "Name: count, dtype: int64"
      ]
     },
     "execution_count": 10,
     "metadata": {},
     "output_type": "execute_result"
    }
   ],
   "source": [
    "class_overview.columns = ['kind', 'class', 'count']\n",
    "class_overview['count']"
   ]
  },
  {
   "cell_type": "code",
   "execution_count": 11,
   "metadata": {
    "execution": {
     "iopub.execute_input": "2020-08-12T11:15:17.843884Z",
     "iopub.status.busy": "2020-08-12T11:15:17.843400Z",
     "iopub.status.idle": "2020-08-12T11:15:17.983227Z",
     "shell.execute_reply": "2020-08-12T11:15:17.983575Z"
    },
    "papermill": {
     "duration": 0.156995,
     "end_time": "2020-08-12T11:15:17.983724",
     "exception": false,
     "start_time": "2020-08-12T11:15:17.826729",
     "status": "completed"
    },
    "tags": []
   },
   "outputs": [],
   "source": [
    "insertions = get_insertions(INSERTIONS)\n",
    "insertions['total'] = insertions['nref'] + insertions['score']\n",
    "total = insertions.sort_values('total')\n",
    "total_above_10 = total[(total['total'] > 10) & (total['total'] < 120)]\n",
    "ax = despine(total_above_10.plot(kind='scatter', x='score', y='total', xlim=(0, 120), color='red', figsize=(12, 5)))\n",
    "ax.set_xlabel('Read pairs supporting an insertion')\n",
    "ax.set_ylabel('Read depth over insertion site')\n",
    "save_fig_in_dir(ax.figure, 'transposon classes Read support per insertion %s.%s' % (LABEL, IMAGE_EXTENSION), directory=LABEL, bbox_inches='tight')"
   ]
  },
  {
   "cell_type": "code",
   "execution_count": 12,
   "metadata": {
    "execution": {
     "iopub.execute_input": "2020-08-12T11:15:18.050933Z",
     "iopub.status.busy": "2020-08-12T11:15:18.050238Z",
     "iopub.status.idle": "2020-08-12T11:15:18.779074Z",
     "shell.execute_reply": "2020-08-12T11:15:18.779412Z"
    },
    "papermill": {
     "duration": 0.786397,
     "end_time": "2020-08-12T11:15:18.779559",
     "exception": false,
     "start_time": "2020-08-12T11:15:17.993162",
     "status": "completed"
    },
    "tags": []
   },
   "outputs": [],
   "source": [
    "class_overview = ins_df.groupby('class').sum().sort_values('count', ascending=False).unstack().reset_index()\n",
    "class_overview.index = class_overview['class']\n",
    "fig = plot_with_broken_axis(class_overview[0])\n",
    "save_fig_in_dir(fig, 'transposon classes broken axis %s.%s' % (LABEL, IMAGE_EXTENSION), directory=LABEL, bbox_inches='tight')"
   ]
  },
  {
   "cell_type": "code",
   "execution_count": 13,
   "metadata": {
    "execution": {
     "iopub.execute_input": "2020-08-12T11:15:18.861294Z",
     "iopub.status.busy": "2020-08-12T11:15:18.860682Z",
     "iopub.status.idle": "2020-08-12T11:15:18.948192Z",
     "shell.execute_reply": "2020-08-12T11:15:18.948920Z"
    },
    "papermill": {
     "duration": 0.159899,
     "end_time": "2020-08-12T11:15:18.949187",
     "exception": false,
     "start_time": "2020-08-12T11:15:18.789288",
     "status": "completed"
    },
    "tags": []
   },
   "outputs": [
    {
     "data": {
      "text/plain": [
       "<AxesSubplot:ylabel='class'>"
      ]
     },
     "execution_count": 13,
     "metadata": {},
     "output_type": "execute_result"
    }
   ],
   "source": [
    "class_overview.plot(y=0, kind='barh', stacked=True)"
   ]
  },
  {
   "cell_type": "code",
   "execution_count": 14,
   "metadata": {
    "execution": {
     "iopub.execute_input": "2020-08-12T11:15:19.042959Z",
     "iopub.status.busy": "2020-08-12T11:15:19.042066Z",
     "iopub.status.idle": "2020-08-12T11:15:19.227440Z",
     "shell.execute_reply": "2020-08-12T11:15:19.227785Z"
    },
    "papermill": {
     "duration": 0.264616,
     "end_time": "2020-08-12T11:15:19.227935",
     "exception": false,
     "start_time": "2020-08-12T11:15:18.963319",
     "status": "completed"
    },
    "tags": []
   },
   "outputs": [],
   "source": [
    "sns.set(context='paper', style=\"white\")\n",
    "fig, ax = plt.subplots(figsize=(1, 6))\n",
    "class_overview[0].reset_index().set_index('class').sort_values(by=0, ascending=False).T.plot(kind='bar', label=['rover', 'copia', 'I-element', 'blood'], stacked=True, ax=ax)\n",
    "h, l = ax.get_legend_handles_labels()\n",
    "plt.legend(h[:5], l[:5])\n",
    "despine(ax)\n",
    "save_fig_in_dir(fig, 'te_family_stacked_barplot %s.%s' % (LABEL, IMAGE_EXTENSION), directory=LABEL, bbox_inches='tight')"
   ]
  },
  {
   "cell_type": "code",
   "execution_count": 15,
   "metadata": {
    "execution": {
     "iopub.execute_input": "2020-08-12T11:15:19.254650Z",
     "iopub.status.busy": "2020-08-12T11:15:19.254171Z",
     "iopub.status.idle": "2020-08-12T11:15:19.255857Z",
     "shell.execute_reply": "2020-08-12T11:15:19.256188Z"
    },
    "papermill": {
     "duration": 0.017722,
     "end_time": "2020-08-12T11:15:19.256328",
     "exception": false,
     "start_time": "2020-08-12T11:15:19.238606",
     "status": "completed"
    },
    "tags": []
   },
   "outputs": [],
   "source": [
    "df = class_overview[0].reset_index().set_index('class').sort_values(by=0, ascending=False)"
   ]
  },
  {
   "cell_type": "code",
   "execution_count": 16,
   "metadata": {
    "execution": {
     "iopub.execute_input": "2020-08-12T11:15:19.337611Z",
     "iopub.status.busy": "2020-08-12T11:15:19.328320Z",
     "iopub.status.idle": "2020-08-12T11:15:20.049519Z",
     "shell.execute_reply": "2020-08-12T11:15:20.049854Z"
    },
    "papermill": {
     "duration": 0.782099,
     "end_time": "2020-08-12T11:15:20.050007",
     "exception": false,
     "start_time": "2020-08-12T11:15:19.267908",
     "status": "completed"
    },
    "tags": []
   },
   "outputs": [],
   "source": [
    "sns.set(context='paper', style=\"white\")\n",
    "fig, ax = plt.subplots(figsize=(4, 6))\n",
    "df.plot(y=0, kind='pie', label=\"Transposon families\", ax=ax)\n",
    "h, l = ax.get_legend_handles_labels()\n",
    "plt.legend(h[:5], l[:5])\n",
    "despine(ax)\n",
    "save_fig_in_dir(fig, 'te_family_stacked_pie_plot %s.%s' % (LABEL, IMAGE_EXTENSION), directory=LABEL, bbox_inches='tight')"
   ]
  },
  {
   "cell_type": "code",
   "execution_count": 17,
   "metadata": {
    "execution": {
     "iopub.execute_input": "2020-08-12T11:15:20.081766Z",
     "iopub.status.busy": "2020-08-12T11:15:20.080754Z",
     "iopub.status.idle": "2020-08-12T11:15:20.083719Z",
     "shell.execute_reply": "2020-08-12T11:15:20.084181Z"
    },
    "papermill": {
     "duration": 0.022993,
     "end_time": "2020-08-12T11:15:20.084345",
     "exception": false,
     "start_time": "2020-08-12T11:15:20.061352",
     "status": "completed"
    },
    "tags": []
   },
   "outputs": [
    {
     "data": {
      "text/html": [
       "<div>\n",
       "<style scoped>\n",
       "    .dataframe tbody tr th:only-of-type {\n",
       "        vertical-align: middle;\n",
       "    }\n",
       "\n",
       "    .dataframe tbody tr th {\n",
       "        vertical-align: top;\n",
       "    }\n",
       "\n",
       "    .dataframe thead th {\n",
       "        text-align: right;\n",
       "    }\n",
       "</style>\n",
       "<table border=\"1\" class=\"dataframe\">\n",
       "  <thead>\n",
       "    <tr style=\"text-align: right;\">\n",
       "      <th></th>\n",
       "      <th>class</th>\n",
       "      <th>sample</th>\n",
       "      <th>count</th>\n",
       "    </tr>\n",
       "  </thead>\n",
       "  <tbody>\n",
       "    <tr>\n",
       "      <th>0</th>\n",
       "      <td>1360</td>\n",
       "      <td>KD-6-tumor</td>\n",
       "      <td>2</td>\n",
       "    </tr>\n",
       "    <tr>\n",
       "      <th>1</th>\n",
       "      <td>17.6</td>\n",
       "      <td>KD-6-tumor</td>\n",
       "      <td>1</td>\n",
       "    </tr>\n",
       "    <tr>\n",
       "      <th>2</th>\n",
       "      <td>297</td>\n",
       "      <td>BD-09-tumor</td>\n",
       "      <td>5</td>\n",
       "    </tr>\n",
       "    <tr>\n",
       "      <th>3</th>\n",
       "      <td>297</td>\n",
       "      <td>KD-8-tumor</td>\n",
       "      <td>4</td>\n",
       "    </tr>\n",
       "    <tr>\n",
       "      <th>4</th>\n",
       "      <td>BS</td>\n",
       "      <td>KD-6-tumor</td>\n",
       "      <td>1</td>\n",
       "    </tr>\n",
       "    <tr>\n",
       "      <th>5</th>\n",
       "      <td>Doc</td>\n",
       "      <td>BD-09-tumor</td>\n",
       "      <td>2</td>\n",
       "    </tr>\n",
       "    <tr>\n",
       "      <th>6</th>\n",
       "      <td>Doc</td>\n",
       "      <td>KD-6-tumor</td>\n",
       "      <td>1</td>\n",
       "    </tr>\n",
       "    <tr>\n",
       "      <th>7</th>\n",
       "      <td>F-element</td>\n",
       "      <td>KD-6-tumor</td>\n",
       "      <td>3</td>\n",
       "    </tr>\n",
       "    <tr>\n",
       "      <th>8</th>\n",
       "      <td>GATE</td>\n",
       "      <td>BD-10-tumor</td>\n",
       "      <td>1</td>\n",
       "    </tr>\n",
       "    <tr>\n",
       "      <th>9</th>\n",
       "      <td>HMS-Beagle</td>\n",
       "      <td>BD-10-tumor</td>\n",
       "      <td>1</td>\n",
       "    </tr>\n",
       "    <tr>\n",
       "      <th>10</th>\n",
       "      <td>HMS-Beagle</td>\n",
       "      <td>KD-8-tumor</td>\n",
       "      <td>1</td>\n",
       "    </tr>\n",
       "    <tr>\n",
       "      <th>11</th>\n",
       "      <td>HMS-Beagle2</td>\n",
       "      <td>KD-8-tumor</td>\n",
       "      <td>1</td>\n",
       "    </tr>\n",
       "    <tr>\n",
       "      <th>12</th>\n",
       "      <td>I-element</td>\n",
       "      <td>KD-8-tumor</td>\n",
       "      <td>1</td>\n",
       "    </tr>\n",
       "    <tr>\n",
       "      <th>13</th>\n",
       "      <td>INE-1</td>\n",
       "      <td>BD-09-tumor</td>\n",
       "      <td>1</td>\n",
       "    </tr>\n",
       "    <tr>\n",
       "      <th>14</th>\n",
       "      <td>Max-element</td>\n",
       "      <td>KD-6-tumor</td>\n",
       "      <td>1</td>\n",
       "    </tr>\n",
       "    <tr>\n",
       "      <th>15</th>\n",
       "      <td>Porto1</td>\n",
       "      <td>BD-09-tumor</td>\n",
       "      <td>1</td>\n",
       "    </tr>\n",
       "    <tr>\n",
       "      <th>16</th>\n",
       "      <td>R1A1-element</td>\n",
       "      <td>BD-10-tumor</td>\n",
       "      <td>1</td>\n",
       "    </tr>\n",
       "    <tr>\n",
       "      <th>17</th>\n",
       "      <td>R1A1-element</td>\n",
       "      <td>KD-6-tumor</td>\n",
       "      <td>1</td>\n",
       "    </tr>\n",
       "    <tr>\n",
       "      <th>18</th>\n",
       "      <td>Rt1b</td>\n",
       "      <td>KD-6-tumor</td>\n",
       "      <td>1</td>\n",
       "    </tr>\n",
       "    <tr>\n",
       "      <th>19</th>\n",
       "      <td>S-element</td>\n",
       "      <td>KD-8-tumor</td>\n",
       "      <td>1</td>\n",
       "    </tr>\n",
       "    <tr>\n",
       "      <th>20</th>\n",
       "      <td>Stalker2</td>\n",
       "      <td>KD-6-tumor</td>\n",
       "      <td>1</td>\n",
       "    </tr>\n",
       "    <tr>\n",
       "      <th>21</th>\n",
       "      <td>Stalker4</td>\n",
       "      <td>BD-10-tumor</td>\n",
       "      <td>1</td>\n",
       "    </tr>\n",
       "    <tr>\n",
       "      <th>22</th>\n",
       "      <td>Stalker4</td>\n",
       "      <td>KD-6-tumor</td>\n",
       "      <td>2</td>\n",
       "    </tr>\n",
       "    <tr>\n",
       "      <th>23</th>\n",
       "      <td>Tabor</td>\n",
       "      <td>BD-09-tumor</td>\n",
       "      <td>1</td>\n",
       "    </tr>\n",
       "    <tr>\n",
       "      <th>24</th>\n",
       "      <td>Tabor</td>\n",
       "      <td>BD-10-tumor</td>\n",
       "      <td>2</td>\n",
       "    </tr>\n",
       "    <tr>\n",
       "      <th>25</th>\n",
       "      <td>Tabor</td>\n",
       "      <td>KD-6-tumor</td>\n",
       "      <td>1</td>\n",
       "    </tr>\n",
       "    <tr>\n",
       "      <th>26</th>\n",
       "      <td>Tabor</td>\n",
       "      <td>KD-8-tumor</td>\n",
       "      <td>3</td>\n",
       "    </tr>\n",
       "    <tr>\n",
       "      <th>27</th>\n",
       "      <td>Tc1-2</td>\n",
       "      <td>KD-6-tumor</td>\n",
       "      <td>1</td>\n",
       "    </tr>\n",
       "    <tr>\n",
       "      <th>28</th>\n",
       "      <td>Tc3</td>\n",
       "      <td>KD-8-tumor</td>\n",
       "      <td>1</td>\n",
       "    </tr>\n",
       "    <tr>\n",
       "      <th>29</th>\n",
       "      <td>baggins</td>\n",
       "      <td>BD-10-tumor</td>\n",
       "      <td>1</td>\n",
       "    </tr>\n",
       "    <tr>\n",
       "      <th>30</th>\n",
       "      <td>blood</td>\n",
       "      <td>BD-09-tumor</td>\n",
       "      <td>1</td>\n",
       "    </tr>\n",
       "    <tr>\n",
       "      <th>31</th>\n",
       "      <td>blood</td>\n",
       "      <td>BD-10-tumor</td>\n",
       "      <td>1</td>\n",
       "    </tr>\n",
       "    <tr>\n",
       "      <th>32</th>\n",
       "      <td>blood</td>\n",
       "      <td>KD-6-tumor</td>\n",
       "      <td>1</td>\n",
       "    </tr>\n",
       "    <tr>\n",
       "      <th>33</th>\n",
       "      <td>copia</td>\n",
       "      <td>BD-09-tumor</td>\n",
       "      <td>2</td>\n",
       "    </tr>\n",
       "    <tr>\n",
       "      <th>34</th>\n",
       "      <td>copia</td>\n",
       "      <td>BD-10-tumor</td>\n",
       "      <td>4</td>\n",
       "    </tr>\n",
       "    <tr>\n",
       "      <th>35</th>\n",
       "      <td>copia</td>\n",
       "      <td>KD-6-tumor</td>\n",
       "      <td>3</td>\n",
       "    </tr>\n",
       "    <tr>\n",
       "      <th>36</th>\n",
       "      <td>copia</td>\n",
       "      <td>KD-8-tumor</td>\n",
       "      <td>7</td>\n",
       "    </tr>\n",
       "    <tr>\n",
       "      <th>37</th>\n",
       "      <td>diver</td>\n",
       "      <td>BD-10-tumor</td>\n",
       "      <td>1</td>\n",
       "    </tr>\n",
       "    <tr>\n",
       "      <th>38</th>\n",
       "      <td>gypsy4</td>\n",
       "      <td>BD-10-tumor</td>\n",
       "      <td>1</td>\n",
       "    </tr>\n",
       "    <tr>\n",
       "      <th>39</th>\n",
       "      <td>invader4</td>\n",
       "      <td>BD-10-tumor</td>\n",
       "      <td>1</td>\n",
       "    </tr>\n",
       "    <tr>\n",
       "      <th>40</th>\n",
       "      <td>invader4</td>\n",
       "      <td>KD-6-tumor</td>\n",
       "      <td>1</td>\n",
       "    </tr>\n",
       "    <tr>\n",
       "      <th>41</th>\n",
       "      <td>jockey</td>\n",
       "      <td>BD-09-tumor</td>\n",
       "      <td>1</td>\n",
       "    </tr>\n",
       "    <tr>\n",
       "      <th>42</th>\n",
       "      <td>jockey</td>\n",
       "      <td>BD-10-tumor</td>\n",
       "      <td>1</td>\n",
       "    </tr>\n",
       "    <tr>\n",
       "      <th>43</th>\n",
       "      <td>jockey</td>\n",
       "      <td>KD-6-tumor</td>\n",
       "      <td>1</td>\n",
       "    </tr>\n",
       "    <tr>\n",
       "      <th>44</th>\n",
       "      <td>mdg1</td>\n",
       "      <td>BD-09-tumor</td>\n",
       "      <td>2</td>\n",
       "    </tr>\n",
       "    <tr>\n",
       "      <th>45</th>\n",
       "      <td>mdg1</td>\n",
       "      <td>BD-10-tumor</td>\n",
       "      <td>2</td>\n",
       "    </tr>\n",
       "    <tr>\n",
       "      <th>46</th>\n",
       "      <td>mdg1</td>\n",
       "      <td>KD-6-tumor</td>\n",
       "      <td>2</td>\n",
       "    </tr>\n",
       "    <tr>\n",
       "      <th>47</th>\n",
       "      <td>mdg1</td>\n",
       "      <td>KD-8-tumor</td>\n",
       "      <td>1</td>\n",
       "    </tr>\n",
       "    <tr>\n",
       "      <th>48</th>\n",
       "      <td>opus</td>\n",
       "      <td>BD-09-tumor</td>\n",
       "      <td>3</td>\n",
       "    </tr>\n",
       "    <tr>\n",
       "      <th>49</th>\n",
       "      <td>opus</td>\n",
       "      <td>BD-10-tumor</td>\n",
       "      <td>3</td>\n",
       "    </tr>\n",
       "    <tr>\n",
       "      <th>50</th>\n",
       "      <td>opus</td>\n",
       "      <td>KD-6-tumor</td>\n",
       "      <td>1</td>\n",
       "    </tr>\n",
       "    <tr>\n",
       "      <th>51</th>\n",
       "      <td>opus</td>\n",
       "      <td>KD-8-tumor</td>\n",
       "      <td>1</td>\n",
       "    </tr>\n",
       "    <tr>\n",
       "      <th>52</th>\n",
       "      <td>pogo</td>\n",
       "      <td>KD-6-tumor</td>\n",
       "      <td>1</td>\n",
       "    </tr>\n",
       "    <tr>\n",
       "      <th>53</th>\n",
       "      <td>roo</td>\n",
       "      <td>BD-10-tumor</td>\n",
       "      <td>1</td>\n",
       "    </tr>\n",
       "    <tr>\n",
       "      <th>54</th>\n",
       "      <td>roo</td>\n",
       "      <td>KD-6-tumor</td>\n",
       "      <td>6</td>\n",
       "    </tr>\n",
       "    <tr>\n",
       "      <th>55</th>\n",
       "      <td>roo</td>\n",
       "      <td>KD-8-tumor</td>\n",
       "      <td>3</td>\n",
       "    </tr>\n",
       "  </tbody>\n",
       "</table>\n",
       "</div>"
      ],
      "text/plain": [
       "           class       sample  count\n",
       "0           1360   KD-6-tumor      2\n",
       "1           17.6   KD-6-tumor      1\n",
       "2            297  BD-09-tumor      5\n",
       "3            297   KD-8-tumor      4\n",
       "4             BS   KD-6-tumor      1\n",
       "5            Doc  BD-09-tumor      2\n",
       "6            Doc   KD-6-tumor      1\n",
       "7      F-element   KD-6-tumor      3\n",
       "8           GATE  BD-10-tumor      1\n",
       "9     HMS-Beagle  BD-10-tumor      1\n",
       "10    HMS-Beagle   KD-8-tumor      1\n",
       "11   HMS-Beagle2   KD-8-tumor      1\n",
       "12     I-element   KD-8-tumor      1\n",
       "13         INE-1  BD-09-tumor      1\n",
       "14   Max-element   KD-6-tumor      1\n",
       "15        Porto1  BD-09-tumor      1\n",
       "16  R1A1-element  BD-10-tumor      1\n",
       "17  R1A1-element   KD-6-tumor      1\n",
       "18          Rt1b   KD-6-tumor      1\n",
       "19     S-element   KD-8-tumor      1\n",
       "20      Stalker2   KD-6-tumor      1\n",
       "21      Stalker4  BD-10-tumor      1\n",
       "22      Stalker4   KD-6-tumor      2\n",
       "23         Tabor  BD-09-tumor      1\n",
       "24         Tabor  BD-10-tumor      2\n",
       "25         Tabor   KD-6-tumor      1\n",
       "26         Tabor   KD-8-tumor      3\n",
       "27         Tc1-2   KD-6-tumor      1\n",
       "28           Tc3   KD-8-tumor      1\n",
       "29       baggins  BD-10-tumor      1\n",
       "30         blood  BD-09-tumor      1\n",
       "31         blood  BD-10-tumor      1\n",
       "32         blood   KD-6-tumor      1\n",
       "33         copia  BD-09-tumor      2\n",
       "34         copia  BD-10-tumor      4\n",
       "35         copia   KD-6-tumor      3\n",
       "36         copia   KD-8-tumor      7\n",
       "37         diver  BD-10-tumor      1\n",
       "38        gypsy4  BD-10-tumor      1\n",
       "39      invader4  BD-10-tumor      1\n",
       "40      invader4   KD-6-tumor      1\n",
       "41        jockey  BD-09-tumor      1\n",
       "42        jockey  BD-10-tumor      1\n",
       "43        jockey   KD-6-tumor      1\n",
       "44          mdg1  BD-09-tumor      2\n",
       "45          mdg1  BD-10-tumor      2\n",
       "46          mdg1   KD-6-tumor      2\n",
       "47          mdg1   KD-8-tumor      1\n",
       "48          opus  BD-09-tumor      3\n",
       "49          opus  BD-10-tumor      3\n",
       "50          opus   KD-6-tumor      1\n",
       "51          opus   KD-8-tumor      1\n",
       "52          pogo   KD-6-tumor      1\n",
       "53           roo  BD-10-tumor      1\n",
       "54           roo   KD-6-tumor      6\n",
       "55           roo   KD-8-tumor      3"
      ]
     },
     "execution_count": 17,
     "metadata": {},
     "output_type": "execute_result"
    }
   ],
   "source": [
    "ins_df"
   ]
  },
  {
   "cell_type": "code",
   "execution_count": 18,
   "metadata": {
    "execution": {
     "iopub.execute_input": "2020-08-12T11:15:20.111877Z",
     "iopub.status.busy": "2020-08-12T11:15:20.111321Z",
     "iopub.status.idle": "2020-08-12T11:15:20.113425Z",
     "shell.execute_reply": "2020-08-12T11:15:20.113767Z"
    },
    "papermill": {
     "duration": 0.01738,
     "end_time": "2020-08-12T11:15:20.113909",
     "exception": false,
     "start_time": "2020-08-12T11:15:20.096529",
     "status": "completed"
    },
    "tags": []
   },
   "outputs": [],
   "source": [
    "insertions['tsd_len'] = insertions['end'] - insertions['start']"
   ]
  },
  {
   "cell_type": "code",
   "execution_count": 19,
   "metadata": {
    "execution": {
     "iopub.execute_input": "2020-08-12T11:15:20.140154Z",
     "iopub.status.busy": "2020-08-12T11:15:20.139608Z",
     "iopub.status.idle": "2020-08-12T11:15:20.141427Z",
     "shell.execute_reply": "2020-08-12T11:15:20.141863Z"
    },
    "papermill": {
     "duration": 0.016904,
     "end_time": "2020-08-12T11:15:20.142015",
     "exception": false,
     "start_time": "2020-08-12T11:15:20.125111",
     "status": "completed"
    },
    "tags": []
   },
   "outputs": [],
   "source": [
    "# this one is bizarre, shouldn't be a TSD element\n",
    "insertions = insertions[insertions['tsd_len'] != 0]"
   ]
  },
  {
   "cell_type": "code",
   "execution_count": 20,
   "metadata": {
    "execution": {
     "iopub.execute_input": "2020-08-12T11:15:20.169666Z",
     "iopub.status.busy": "2020-08-12T11:15:20.169125Z",
     "iopub.status.idle": "2020-08-12T11:15:20.170962Z",
     "shell.execute_reply": "2020-08-12T11:15:20.171305Z"
    },
    "papermill": {
     "duration": 0.01672,
     "end_time": "2020-08-12T11:15:20.171443",
     "exception": false,
     "start_time": "2020-08-12T11:15:20.154723",
     "status": "completed"
    },
    "tags": []
   },
   "outputs": [],
   "source": [
    "tsd_df = insertions[['class', 'tsd_len']]\n",
    "tsd_df.columns = ['Transposable Element', 'TSD length']"
   ]
  },
  {
   "cell_type": "code",
   "execution_count": 21,
   "metadata": {
    "execution": {
     "iopub.execute_input": "2020-08-12T11:15:20.196978Z",
     "iopub.status.busy": "2020-08-12T11:15:20.196489Z",
     "iopub.status.idle": "2020-08-12T11:15:20.200213Z",
     "shell.execute_reply": "2020-08-12T11:15:20.200614Z"
    },
    "papermill": {
     "duration": 0.018012,
     "end_time": "2020-08-12T11:15:20.200760",
     "exception": false,
     "start_time": "2020-08-12T11:15:20.182748",
     "status": "completed"
    },
    "tags": []
   },
   "outputs": [],
   "source": [
    "tsd_df.to_csv(os.path.join(LABEL, 'TSD lengths.csv'))"
   ]
  },
  {
   "cell_type": "code",
   "execution_count": 22,
   "metadata": {
    "execution": {
     "iopub.execute_input": "2020-08-12T11:15:20.318639Z",
     "iopub.status.busy": "2020-08-12T11:15:20.286187Z",
     "iopub.status.idle": "2020-08-12T11:15:20.896205Z",
     "shell.execute_reply": "2020-08-12T11:15:20.896552Z"
    },
    "papermill": {
     "duration": 0.671713,
     "end_time": "2020-08-12T11:15:20.896717",
     "exception": false,
     "start_time": "2020-08-12T11:15:20.225004",
     "status": "completed"
    },
    "tags": []
   },
   "outputs": [],
   "source": [
    "fig, ax = plt.subplots(figsize=(25, 7.5))\n",
    "sns.boxplot(y='TSD length', x='Transposable Element', data=tsd_df, ax=ax)\n",
    "ax = plt.gca()\n",
    "despine(ax)\n",
    "ax.set_xticklabels(ax.get_xticklabels(),rotation=45)\n",
    "save_fig_in_dir(fig, 'TSD_length_boxplot.pdf %s.%s' % (LABEL, IMAGE_EXTENSION), directory=LABEL, bbox_inches='tight')"
   ]
  },
  {
   "cell_type": "code",
   "execution_count": 23,
   "metadata": {
    "execution": {
     "iopub.execute_input": "2020-08-12T11:15:20.990137Z",
     "iopub.status.busy": "2020-08-12T11:15:20.939098Z",
     "iopub.status.idle": "2020-08-12T11:15:21.733870Z",
     "shell.execute_reply": "2020-08-12T11:15:21.734334Z"
    },
    "papermill": {
     "duration": 0.826144,
     "end_time": "2020-08-12T11:15:21.734503",
     "exception": false,
     "start_time": "2020-08-12T11:15:20.908359",
     "status": "completed"
    },
    "tags": []
   },
   "outputs": [],
   "source": [
    "fig, ax = plt.subplots(figsize=(25, 7.5))\n",
    "sns.swarmplot(y='TSD length', x='Transposable Element', data=tsd_df, ax=ax)\n",
    "ax = plt.gca()\n",
    "despine(ax)\n",
    "ax.set_xticklabels(ax.get_xticklabels(),rotation=45)\n",
    "save_fig_in_dir(fig, 'TSD_length_swarmplot.pdf %s.%s' % (LABEL, IMAGE_EXTENSION), directory=LABEL, bbox_inches='tight')"
   ]
  },
  {
   "cell_type": "code",
   "execution_count": null,
   "metadata": {
    "papermill": {
     "duration": 0.013156,
     "end_time": "2020-08-12T11:15:21.761091",
     "exception": false,
     "start_time": "2020-08-12T11:15:21.747935",
     "status": "completed"
    },
    "tags": []
   },
   "outputs": [],
   "source": []
  }
 ],
 "metadata": {
  "kernelspec": {
   "display_name": "Python 3",
   "language": "python",
   "name": "python3"
  },
  "language_info": {
   "codemirror_mode": {
    "name": "ipython",
    "version": 3
   },
   "file_extension": ".py",
   "mimetype": "text/x-python",
   "name": "python",
   "nbconvert_exporter": "python",
   "pygments_lexer": "ipython3",
   "version": "3.6.11"
  },
  "papermill": {
   "duration": 8.260278,
   "end_time": "2020-08-12T11:15:23.136881",
   "environment_variables": {},
   "exception": null,
   "input_path": "somatic_overview.ipynb",
   "output_path": "Delta guts somatic_overview.ipynb",
   "parameters": {
    "INSERTIONS": "0.5.21.filtered_calls_delta_guts.gff",
    "LABEL": "Delta calls guts",
    "SAMPLE_FILE": "Delta_gut_samples.csv"
   },
   "start_time": "2020-08-12T11:15:14.876603",
   "version": "2.1.2"
  }
 },
 "nbformat": 4,
 "nbformat_minor": 4
}