{
 "cells": [
  {
   "cell_type": "code",
   "execution_count": 1,
   "metadata": {
    "execution": {
     "iopub.execute_input": "2020-08-12T11:15:36.532888Z",
     "iopub.status.busy": "2020-08-12T11:15:36.532093Z",
     "iopub.status.idle": "2020-08-12T11:15:37.341322Z",
     "shell.execute_reply": "2020-08-12T11:15:37.341726Z"
    },
    "papermill": {
     "duration": 0.833167,
     "end_time": "2020-08-12T11:15:37.341910",
     "exception": false,
     "start_time": "2020-08-12T11:15:36.508743",
     "status": "completed"
    },
    "tags": []
   },
   "outputs": [],
   "source": [
    "%matplotlib inline\n",
    "import os\n",
    "\n",
    "import collections\n",
    "\n",
    "import pandas as pd\n",
    "import matplotlib.pyplot as plt\n",
    "import seaborn as sns\n",
    "\n",
    "from seaplotlib.helper import abline, despine, save_fig_in_dir, styles"
   ]
  },
  {
   "cell_type": "code",
   "execution_count": 2,
   "metadata": {
    "execution": {
     "iopub.execute_input": "2020-08-12T11:15:37.366603Z",
     "iopub.status.busy": "2020-08-12T11:15:37.365914Z",
     "iopub.status.idle": "2020-08-12T11:15:37.367550Z",
     "shell.execute_reply": "2020-08-12T11:15:37.367940Z"
    },
    "papermill": {
     "duration": 0.015059,
     "end_time": "2020-08-12T11:15:37.368091",
     "exception": false,
     "start_time": "2020-08-12T11:15:37.353032",
     "status": "completed"
    },
    "tags": [
     "parameters"
    ]
   },
   "outputs": [],
   "source": [
    "INSERTIONS = '0.5.21.filtered_calls_prosgfp_guts.gff'\n",
    "LABEL = \"ProsGFP calls guts\"\n",
    "IMAGE_EXTENSION = 'pdf'\n",
    "SAMPLE_FILE = 'ProsGFP_tumor_samples.csv'"
   ]
  },
  {
   "cell_type": "code",
   "execution_count": 3,
   "metadata": {
    "execution": {
     "iopub.execute_input": "2020-08-12T11:15:37.392382Z",
     "iopub.status.busy": "2020-08-12T11:15:37.391672Z",
     "iopub.status.idle": "2020-08-12T11:15:37.393393Z",
     "shell.execute_reply": "2020-08-12T11:15:37.393825Z"
    },
    "papermill": {
     "duration": 0.015518,
     "end_time": "2020-08-12T11:15:37.393988",
     "exception": false,
     "start_time": "2020-08-12T11:15:37.378470",
     "status": "completed"
    },
    "tags": [
     "injected-parameters"
    ]
   },
   "outputs": [],
   "source": [
    "# Parameters\n",
    "INSERTIONS = \"0.5.21.filtered_calls_prosgfp_guts.gff\"\n",
    "LABEL = \"ProsGFP calls guts\"\n",
    "SAMPLE_FILE = \"ProsGFP_gut_samples.csv\"\n"
   ]
  },
  {
   "cell_type": "code",
   "execution_count": 4,
   "metadata": {
    "execution": {
     "iopub.execute_input": "2020-08-12T11:15:37.426385Z",
     "iopub.status.busy": "2020-08-12T11:15:37.425800Z",
     "iopub.status.idle": "2020-08-12T11:15:37.427601Z",
     "shell.execute_reply": "2020-08-12T11:15:37.427990Z"
    },
    "papermill": {
     "duration": 0.023541,
     "end_time": "2020-08-12T11:15:37.428153",
     "exception": false,
     "start_time": "2020-08-12T11:15:37.404612",
     "status": "completed"
    },
    "tags": []
   },
   "outputs": [],
   "source": [
    "def get_insertions(path):\n",
    "    insertions = []\n",
    "    with open(path) as f:\n",
    "        for line in f:\n",
    "            fields = line.split('\\t')\n",
    "            insertions.append({'start': int(fields[3]),\n",
    "                               'end': int(fields[4]),\n",
    "                               'class': fields[2], \n",
    "                               'score': int(fields[5]), \n",
    "                               'nref': int(fields[8].split(';')[7].split('=')[1].split('_')[0]), \n",
    "                               'sample': fields[8].split(';')[0].split('=')[1].split('_')[0]})\n",
    "    insertions = pd.DataFrame.from_records(insertions)\n",
    "    return insertions\n",
    "\n",
    "\n",
    "def transform_summary(insertions):\n",
    "    g = insertions.groupby(['class', 'sample'])\n",
    "    s = g.aggregate('class').count()\n",
    "    ins_df = s.to_frame()\n",
    "    ins_df.columns = ['count']\n",
    "    ins_df = ins_df.reset_index()\n",
    "    return ins_df\n",
    "\n",
    "\n",
    "\n",
    "def fill_missing_with_zero(df, all_sample_list):\n",
    "    for sample in all_sample_list:\n",
    "        if sample not in df['sample'].unique():\n",
    "            if 'class' in df:\n",
    "                for kls in df['class'].unique():\n",
    "                    entry = {0: {'class': kls, 'sample': sample, 'count': 0}}\n",
    "                    df = df.append(pd.DataFrame.from_dict(entry, orient='index'))\n",
    "            else:\n",
    "                entry = {0: {'sample': sample, 'count': 0}}\n",
    "                df = df.append(pd.DataFrame.from_dict(entry, orient='index'))\n",
    "    return df\n",
    "\n",
    "            \n",
    "def insertions_per_sample(df, color='r', title=None, all_sample_list=None):\n",
    "    if all_sample_list is not None:\n",
    "        df = fill_missing_with_zero(df, all_sample_list)\n",
    "    df = df.sort_values('count', ascending=False)\n",
    "    ax = despine(df.plot(kind='bar', x='sample', y='count', color=color, figsize=(8, 5), legend=False, title=title))\n",
    "    mean = df['count'].mean()\n",
    "    max_y = df['count'].max()\n",
    "    abline(slope=0, intercept=mean)\n",
    "    x = len(df['sample'].unique())\n",
    "    x = x - x / 8  # 12,5 % from the right\n",
    "    y = mean + max_y / 50  # 2 % of the y + mean position\n",
    "    ax.annotate('Mean=%.2f' % mean, (x, y))\n",
    "    return ax"
   ]
  },
  {
   "cell_type": "code",
   "execution_count": 5,
   "metadata": {
    "execution": {
     "iopub.execute_input": "2020-08-12T11:15:37.457758Z",
     "iopub.status.busy": "2020-08-12T11:15:37.457115Z",
     "iopub.status.idle": "2020-08-12T11:15:39.134420Z",
     "shell.execute_reply": "2020-08-12T11:15:39.134038Z"
    },
    "papermill": {
     "duration": 1.695985,
     "end_time": "2020-08-12T11:15:39.134637",
     "exception": false,
     "start_time": "2020-08-12T11:15:37.438652",
     "status": "completed"
    },
    "tags": []
   },
   "outputs": [],
   "source": [
    "def plot_insertions(ins_df, all_sample_list, suffix=''):\n",
    "    all_insertions = ins_df.groupby(['sample']).sum().reset_index()\n",
    "    rover_insertions = ins_df[ins_df['class'] == 'rover']\n",
    "    copia_insertions = ins_df[ins_df['class'] == 'copia']\n",
    "    i_element_insertions = ins_df[ins_df['class'] == 'I-element']\n",
    "\n",
    "    kwargs = {\n",
    "        'All insertions': [all_insertions, 'r'],\n",
    "        'Rover insertions': [rover_insertions, 'k'],\n",
    "        'Copia insertions': [copia_insertions, 'b'],\n",
    "        'I-element insertions': [i_element_insertions, 'g'],\n",
    "    }\n",
    "    kwargs = {k: v for k, v in kwargs.items() if len(v[0]) > 0}\n",
    "\n",
    "    for title, args in kwargs.items():\n",
    "        title = \"%s per sample\" % title\n",
    "        f = insertions_per_sample(all_sample_list=all_sample_list, title=title, *args).figure\n",
    "        save_fig_in_dir(f, \"%s%s.%s\" % (title, suffix, IMAGE_EXTENSION), directory=LABEL, bbox_inches='tight')\n",
    "\n",
    "\n",
    "with open(SAMPLE_FILE) as fh:\n",
    "    SAMPLES = fh.read().strip().split(',')\n",
    "insertions = get_insertions(INSERTIONS)\n",
    "ins_df = transform_summary(insertions)\n",
    "plot_insertions(ins_df, SAMPLES, suffix=' %s' % LABEL)"
   ]
  },
  {
   "cell_type": "code",
   "execution_count": 6,
   "metadata": {
    "execution": {
     "iopub.execute_input": "2020-08-12T11:15:39.192013Z",
     "iopub.status.busy": "2020-08-12T11:15:39.191163Z",
     "iopub.status.idle": "2020-08-12T11:15:39.320850Z",
     "shell.execute_reply": "2020-08-12T11:15:39.321501Z"
    },
    "papermill": {
     "duration": 0.176494,
     "end_time": "2020-08-12T11:15:39.321745",
     "exception": false,
     "start_time": "2020-08-12T11:15:39.145251",
     "status": "completed"
    },
    "tags": []
   },
   "outputs": [],
   "source": [
    "# overview boxplot\n",
    "\n",
    "fig, ax = plt.subplots(figsize=(2, 5))\n",
    "bp_data = ins_df.groupby(['sample']).sum().reset_index()\n",
    "sns.boxplot(y='count', hue=\"sample\", ax=ax, data=bp_data, color='r')\n",
    "despine(sns.swarmplot(y='count', hue=\"sample\", ax=ax, data=bp_data, color=\"0.2\", size=8))\n",
    "ax.set_title('All insertions tumorseq')\n",
    "save_fig_in_dir(fig, 'all_insertions_all_samples.%s' % IMAGE_EXTENSION, directory=LABEL, bbox_inches='tight')"
   ]
  },
  {
   "cell_type": "code",
   "execution_count": 7,
   "metadata": {
    "execution": {
     "iopub.execute_input": "2020-08-12T11:15:39.363963Z",
     "iopub.status.busy": "2020-08-12T11:15:39.363163Z",
     "iopub.status.idle": "2020-08-12T11:15:39.370653Z",
     "shell.execute_reply": "2020-08-12T11:15:39.371318Z"
    },
    "papermill": {
     "duration": 0.033476,
     "end_time": "2020-08-12T11:15:39.371576",
     "exception": false,
     "start_time": "2020-08-12T11:15:39.338100",
     "status": "completed"
    },
    "tags": []
   },
   "outputs": [
    {
     "data": {
      "text/html": [
       "<div>\n",
       "<style scoped>\n",
       "    .dataframe tbody tr th:only-of-type {\n",
       "        vertical-align: middle;\n",
       "    }\n",
       "\n",
       "    .dataframe tbody tr th {\n",
       "        vertical-align: top;\n",
       "    }\n",
       "\n",
       "    .dataframe thead th {\n",
       "        text-align: right;\n",
       "    }\n",
       "</style>\n",
       "<table border=\"1\" class=\"dataframe\">\n",
       "  <thead>\n",
       "    <tr style=\"text-align: right;\">\n",
       "      <th></th>\n",
       "      <th>sample</th>\n",
       "      <th>count</th>\n",
       "    </tr>\n",
       "  </thead>\n",
       "  <tbody>\n",
       "    <tr>\n",
       "      <th>0</th>\n",
       "      <td>H1</td>\n",
       "      <td>19</td>\n",
       "    </tr>\n",
       "    <tr>\n",
       "      <th>1</th>\n",
       "      <td>H4</td>\n",
       "      <td>70</td>\n",
       "    </tr>\n",
       "    <tr>\n",
       "      <th>2</th>\n",
       "      <td>H7</td>\n",
       "      <td>69</td>\n",
       "    </tr>\n",
       "    <tr>\n",
       "      <th>3</th>\n",
       "      <td>R1</td>\n",
       "      <td>16</td>\n",
       "    </tr>\n",
       "    <tr>\n",
       "      <th>4</th>\n",
       "      <td>R11</td>\n",
       "      <td>25</td>\n",
       "    </tr>\n",
       "    <tr>\n",
       "      <th>5</th>\n",
       "      <td>R13</td>\n",
       "      <td>25</td>\n",
       "    </tr>\n",
       "    <tr>\n",
       "      <th>6</th>\n",
       "      <td>R17</td>\n",
       "      <td>6</td>\n",
       "    </tr>\n",
       "    <tr>\n",
       "      <th>7</th>\n",
       "      <td>R19</td>\n",
       "      <td>2</td>\n",
       "    </tr>\n",
       "    <tr>\n",
       "      <th>8</th>\n",
       "      <td>R21</td>\n",
       "      <td>4</td>\n",
       "    </tr>\n",
       "    <tr>\n",
       "      <th>9</th>\n",
       "      <td>R23</td>\n",
       "      <td>13</td>\n",
       "    </tr>\n",
       "    <tr>\n",
       "      <th>10</th>\n",
       "      <td>R25</td>\n",
       "      <td>17</td>\n",
       "    </tr>\n",
       "    <tr>\n",
       "      <th>11</th>\n",
       "      <td>R27</td>\n",
       "      <td>15</td>\n",
       "    </tr>\n",
       "    <tr>\n",
       "      <th>12</th>\n",
       "      <td>R29</td>\n",
       "      <td>14</td>\n",
       "    </tr>\n",
       "    <tr>\n",
       "      <th>13</th>\n",
       "      <td>R3</td>\n",
       "      <td>18</td>\n",
       "    </tr>\n",
       "    <tr>\n",
       "      <th>14</th>\n",
       "      <td>R31</td>\n",
       "      <td>11</td>\n",
       "    </tr>\n",
       "    <tr>\n",
       "      <th>15</th>\n",
       "      <td>R33</td>\n",
       "      <td>58</td>\n",
       "    </tr>\n",
       "    <tr>\n",
       "      <th>16</th>\n",
       "      <td>R35</td>\n",
       "      <td>25</td>\n",
       "    </tr>\n",
       "    <tr>\n",
       "      <th>17</th>\n",
       "      <td>R37</td>\n",
       "      <td>28</td>\n",
       "    </tr>\n",
       "    <tr>\n",
       "      <th>18</th>\n",
       "      <td>R39</td>\n",
       "      <td>18</td>\n",
       "    </tr>\n",
       "    <tr>\n",
       "      <th>19</th>\n",
       "      <td>R41A</td>\n",
       "      <td>23</td>\n",
       "    </tr>\n",
       "    <tr>\n",
       "      <th>20</th>\n",
       "      <td>R41B</td>\n",
       "      <td>3</td>\n",
       "    </tr>\n",
       "    <tr>\n",
       "      <th>21</th>\n",
       "      <td>R43</td>\n",
       "      <td>15</td>\n",
       "    </tr>\n",
       "    <tr>\n",
       "      <th>22</th>\n",
       "      <td>R45</td>\n",
       "      <td>11</td>\n",
       "    </tr>\n",
       "    <tr>\n",
       "      <th>23</th>\n",
       "      <td>R49</td>\n",
       "      <td>10</td>\n",
       "    </tr>\n",
       "    <tr>\n",
       "      <th>24</th>\n",
       "      <td>R5</td>\n",
       "      <td>7</td>\n",
       "    </tr>\n",
       "    <tr>\n",
       "      <th>25</th>\n",
       "      <td>R51</td>\n",
       "      <td>12</td>\n",
       "    </tr>\n",
       "    <tr>\n",
       "      <th>26</th>\n",
       "      <td>R53</td>\n",
       "      <td>12</td>\n",
       "    </tr>\n",
       "    <tr>\n",
       "      <th>27</th>\n",
       "      <td>R55</td>\n",
       "      <td>9</td>\n",
       "    </tr>\n",
       "    <tr>\n",
       "      <th>28</th>\n",
       "      <td>R57</td>\n",
       "      <td>35</td>\n",
       "    </tr>\n",
       "    <tr>\n",
       "      <th>29</th>\n",
       "      <td>R59</td>\n",
       "      <td>15</td>\n",
       "    </tr>\n",
       "    <tr>\n",
       "      <th>30</th>\n",
       "      <td>R61</td>\n",
       "      <td>19</td>\n",
       "    </tr>\n",
       "    <tr>\n",
       "      <th>31</th>\n",
       "      <td>R63</td>\n",
       "      <td>9</td>\n",
       "    </tr>\n",
       "    <tr>\n",
       "      <th>32</th>\n",
       "      <td>R9</td>\n",
       "      <td>41</td>\n",
       "    </tr>\n",
       "  </tbody>\n",
       "</table>\n",
       "</div>"
      ],
      "text/plain": [
       "   sample  count\n",
       "0      H1     19\n",
       "1      H4     70\n",
       "2      H7     69\n",
       "3      R1     16\n",
       "4     R11     25\n",
       "5     R13     25\n",
       "6     R17      6\n",
       "7     R19      2\n",
       "8     R21      4\n",
       "9     R23     13\n",
       "10    R25     17\n",
       "11    R27     15\n",
       "12    R29     14\n",
       "13     R3     18\n",
       "14    R31     11\n",
       "15    R33     58\n",
       "16    R35     25\n",
       "17    R37     28\n",
       "18    R39     18\n",
       "19   R41A     23\n",
       "20   R41B      3\n",
       "21    R43     15\n",
       "22    R45     11\n",
       "23    R49     10\n",
       "24     R5      7\n",
       "25    R51     12\n",
       "26    R53     12\n",
       "27    R55      9\n",
       "28    R57     35\n",
       "29    R59     15\n",
       "30    R61     19\n",
       "31    R63      9\n",
       "32     R9     41"
      ]
     },
     "execution_count": 7,
     "metadata": {},
     "output_type": "execute_result"
    }
   ],
   "source": [
    "ins_df.groupby(['sample']).sum().reset_index()"
   ]
  },
  {
   "cell_type": "code",
   "execution_count": 8,
   "metadata": {
    "execution": {
     "iopub.execute_input": "2020-08-12T11:15:39.407253Z",
     "iopub.status.busy": "2020-08-12T11:15:39.406678Z",
     "iopub.status.idle": "2020-08-12T11:15:39.408523Z",
     "shell.execute_reply": "2020-08-12T11:15:39.408925Z"
    },
    "papermill": {
     "duration": 0.022263,
     "end_time": "2020-08-12T11:15:39.409085",
     "exception": false,
     "start_time": "2020-08-12T11:15:39.386822",
     "status": "completed"
    },
    "tags": []
   },
   "outputs": [],
   "source": [
    "def plot_with_broken_axis(df):\n",
    "    fig, (ax1, ax2) = plt.subplots(2, 1, sharex=True, figsize=(12, 5))\n",
    "    df.plot(kind='bar', ax=ax1, color='r')\n",
    "    df.plot(kind='bar', ax=ax2, color='r')\n",
    "    ax1.set_ylim(400, 500.)  # outliers only\n",
    "    ax2.set_ylim(0, 100)  # most of the data\n",
    "    ax1.spines['bottom'].set_visible(False)\n",
    "    ax1.spines['top'].set_visible(False)\n",
    "    ax2.spines['top'].set_visible(False)\n",
    "    ax2.spines['bottom'].set_visible(False)\n",
    "    # ax1.xaxis.tick_top()\n",
    "    ax1.xaxis.set_ticks_position('none') \n",
    "\n",
    "    ax1.tick_params(labeltop=False)  # don't put tick labels at the top\n",
    "    # plt.xticks(rotation=45)\n",
    "    ax2.xaxis.tick_bottom()\n",
    "\n",
    "    d = 0.015  # how big to make the diagonal lines in axes coordinates\n",
    "    # arguments to pass to plot, just so we don't keep repeating them\n",
    "    kwargs = dict(transform=ax1.transAxes, color='k', clip_on=False)\n",
    "    ax1.plot((-d, +d), (-d, +d), **kwargs)        # top-left diagonal\n",
    "    ax1.plot((1 - d, 1 + d), (-d, +d), **kwargs)  # top-right diagonal\n",
    "\n",
    "    kwargs.update(transform=ax2.transAxes)  # switch to the bottom axes\n",
    "    ax2.plot((-d, +d), (1 - d, 1 + d), **kwargs)  # bottom-left diagonal\n",
    "    ax2.plot((1 - d, 1 + d), (1 - d, 1 + d), **kwargs)  # bottom-right diagonal\n",
    "\n",
    "    rects = ax2.patches\n",
    "    # # Make some labels.\n",
    "    labels = df.values\n",
    "\n",
    "    for rect, label in zip(rects, labels):\n",
    "        if label > 120:\n",
    "            ax = ax1\n",
    "        else:\n",
    "            ax = ax2\n",
    "        height = rect.get_height()\n",
    "        ax.text(rect.get_x() + rect.get_width() / 2, height + 5, label,\n",
    "                ha='center', va='bottom')\n",
    "    return fig"
   ]
  },
  {
   "cell_type": "code",
   "execution_count": 9,
   "metadata": {
    "execution": {
     "iopub.execute_input": "2020-08-12T11:15:39.518108Z",
     "iopub.status.busy": "2020-08-12T11:15:39.517529Z",
     "iopub.status.idle": "2020-08-12T11:15:39.844355Z",
     "shell.execute_reply": "2020-08-12T11:15:39.844810Z"
    },
    "papermill": {
     "duration": 0.404348,
     "end_time": "2020-08-12T11:15:39.844978",
     "exception": false,
     "start_time": "2020-08-12T11:15:39.440630",
     "status": "completed"
    },
    "tags": []
   },
   "outputs": [],
   "source": [
    "class_overview = ins_df.groupby('class').sum().sort_values('count', ascending=False).unstack().reset_index()\n",
    "class_overview.index = class_overview['class']\n",
    "# fig = plot_with_broken_axis(class_overview[0])\n",
    "fig = despine(class_overview[0].plot(kind='bar', color='red', figsize=(15,5)))\n",
    "save_fig_in_dir(fig.figure, 'transposon classes %s.%s' % (LABEL, IMAGE_EXTENSION), directory=LABEL, bbox_inches='tight')"
   ]
  },
  {
   "cell_type": "code",
   "execution_count": 10,
   "metadata": {
    "execution": {
     "iopub.execute_input": "2020-08-12T11:15:39.872625Z",
     "iopub.status.busy": "2020-08-12T11:15:39.872007Z",
     "iopub.status.idle": "2020-08-12T11:15:39.874483Z",
     "shell.execute_reply": "2020-08-12T11:15:39.874890Z"
    },
    "papermill": {
     "duration": 0.018661,
     "end_time": "2020-08-12T11:15:39.875117",
     "exception": false,
     "start_time": "2020-08-12T11:15:39.856456",
     "status": "completed"
    },
    "tags": []
   },
   "outputs": [
    {
     "data": {
      "text/plain": [
       "class\n",
       "rover          487\n",
       "copia          102\n",
       "I-element       32\n",
       "diver            7\n",
       "blood            5\n",
       "roo              4\n",
       "F-element        4\n",
       "X-element        2\n",
       "flea             2\n",
       "Transpac         2\n",
       "jockey           2\n",
       "Doc              2\n",
       "FB               2\n",
       "Max-element      2\n",
       "1360             1\n",
       "gypsy12          1\n",
       "ZAM              1\n",
       "hobo             1\n",
       "opus             1\n",
       "gypsy3           1\n",
       "Stalker4         1\n",
       "Tabor            1\n",
       "17.6             1\n",
       "S-element        1\n",
       "Rt1b             1\n",
       "Quasimodo        1\n",
       "G-element        1\n",
       "Dm88             1\n",
       "Burdock          1\n",
       "412              1\n",
       "297              1\n",
       "1731             1\n",
       "springer         1\n",
       "Name: count, dtype: int64"
      ]
     },
     "execution_count": 10,
     "metadata": {},
     "output_type": "execute_result"
    }
   ],
   "source": [
    "class_overview.columns = ['kind', 'class', 'count']\n",
    "class_overview['count']"
   ]
  },
  {
   "cell_type": "code",
   "execution_count": 11,
   "metadata": {
    "execution": {
     "iopub.execute_input": "2020-08-12T11:15:39.904394Z",
     "iopub.status.busy": "2020-08-12T11:15:39.903829Z",
     "iopub.status.idle": "2020-08-12T11:15:40.082739Z",
     "shell.execute_reply": "2020-08-12T11:15:40.083165Z"
    },
    "papermill": {
     "duration": 0.196303,
     "end_time": "2020-08-12T11:15:40.083385",
     "exception": false,
     "start_time": "2020-08-12T11:15:39.887082",
     "status": "completed"
    },
    "tags": []
   },
   "outputs": [],
   "source": [
    "insertions = get_insertions(INSERTIONS)\n",
    "insertions['total'] = insertions['nref'] + insertions['score']\n",
    "total = insertions.sort_values('total')\n",
    "total_above_10 = total[(total['total'] > 10) & (total['total'] < 120)]\n",
    "ax = despine(total_above_10.plot(kind='scatter', x='score', y='total', xlim=(0, 120), color='red', figsize=(12, 5)))\n",
    "ax.set_xlabel('Read pairs supporting an insertion')\n",
    "ax.set_ylabel('Read depth over insertion site')\n",
    "save_fig_in_dir(ax.figure, 'transposon classes Read support per insertion %s.%s' % (LABEL, IMAGE_EXTENSION), directory=LABEL, bbox_inches='tight')"
   ]
  },
  {
   "cell_type": "code",
   "execution_count": 12,
   "metadata": {
    "execution": {
     "iopub.execute_input": "2020-08-12T11:15:40.299162Z",
     "iopub.status.busy": "2020-08-12T11:15:40.268601Z",
     "iopub.status.idle": "2020-08-12T11:15:40.999670Z",
     "shell.execute_reply": "2020-08-12T11:15:41.000077Z"
    },
    "papermill": {
     "duration": 0.904854,
     "end_time": "2020-08-12T11:15:41.000298",
     "exception": false,
     "start_time": "2020-08-12T11:15:40.095444",
     "status": "completed"
    },
    "tags": []
   },
   "outputs": [],
   "source": [
    "class_overview = ins_df.groupby('class').sum().sort_values('count', ascending=False).unstack().reset_index()\n",
    "class_overview.index = class_overview['class']\n",
    "fig = plot_with_broken_axis(class_overview[0])\n",
    "save_fig_in_dir(fig, 'transposon classes broken axis %s.%s' % (LABEL, IMAGE_EXTENSION), directory=LABEL, bbox_inches='tight')"
   ]
  },
  {
   "cell_type": "code",
   "execution_count": 13,
   "metadata": {
    "execution": {
     "iopub.execute_input": "2020-08-12T11:15:41.097846Z",
     "iopub.status.busy": "2020-08-12T11:15:41.097258Z",
     "iopub.status.idle": "2020-08-12T11:15:41.192971Z",
     "shell.execute_reply": "2020-08-12T11:15:41.193393Z"
    },
    "papermill": {
     "duration": 0.18105,
     "end_time": "2020-08-12T11:15:41.193622",
     "exception": false,
     "start_time": "2020-08-12T11:15:41.012572",
     "status": "completed"
    },
    "tags": []
   },
   "outputs": [
    {
     "data": {
      "text/plain": [
       "<AxesSubplot:ylabel='class'>"
      ]
     },
     "execution_count": 13,
     "metadata": {},
     "output_type": "execute_result"
    }
   ],
   "source": [
    "class_overview.plot(y=0, kind='barh', stacked=True)"
   ]
  },
  {
   "cell_type": "code",
   "execution_count": 14,
   "metadata": {
    "execution": {
     "iopub.execute_input": "2020-08-12T11:15:41.294189Z",
     "iopub.status.busy": "2020-08-12T11:15:41.293600Z",
     "iopub.status.idle": "2020-08-12T11:15:41.518429Z",
     "shell.execute_reply": "2020-08-12T11:15:41.518828Z"
    },
    "papermill": {
     "duration": 0.312611,
     "end_time": "2020-08-12T11:15:41.518992",
     "exception": false,
     "start_time": "2020-08-12T11:15:41.206381",
     "status": "completed"
    },
    "tags": []
   },
   "outputs": [],
   "source": [
    "sns.set(context='paper', style=\"white\")\n",
    "fig, ax = plt.subplots(figsize=(1, 6))\n",
    "class_overview[0].reset_index().set_index('class').sort_values(by=0, ascending=False).T.plot(kind='bar', label=['rover', 'copia', 'I-element', 'blood'], stacked=True, ax=ax)\n",
    "h, l = ax.get_legend_handles_labels()\n",
    "plt.legend(h[:5], l[:5])\n",
    "despine(ax)\n",
    "save_fig_in_dir(fig, 'te_family_stacked_barplot %s.%s' % (LABEL, IMAGE_EXTENSION), directory=LABEL, bbox_inches='tight')"
   ]
  },
  {
   "cell_type": "code",
   "execution_count": 15,
   "metadata": {
    "execution": {
     "iopub.execute_input": "2020-08-12T11:15:41.549512Z",
     "iopub.status.busy": "2020-08-12T11:15:41.548957Z",
     "iopub.status.idle": "2020-08-12T11:15:41.550737Z",
     "shell.execute_reply": "2020-08-12T11:15:41.551129Z"
    },
    "papermill": {
     "duration": 0.019678,
     "end_time": "2020-08-12T11:15:41.551285",
     "exception": false,
     "start_time": "2020-08-12T11:15:41.531607",
     "status": "completed"
    },
    "tags": []
   },
   "outputs": [],
   "source": [
    "df = class_overview[0].reset_index().set_index('class').sort_values(by=0, ascending=False)"
   ]
  },
  {
   "cell_type": "code",
   "execution_count": 16,
   "metadata": {
    "execution": {
     "iopub.execute_input": "2020-08-12T11:15:41.592083Z",
     "iopub.status.busy": "2020-08-12T11:15:41.591491Z",
     "iopub.status.idle": "2020-08-12T11:15:42.439272Z",
     "shell.execute_reply": "2020-08-12T11:15:42.439691Z"
    },
    "papermill": {
     "duration": 0.87642,
     "end_time": "2020-08-12T11:15:42.439915",
     "exception": false,
     "start_time": "2020-08-12T11:15:41.563495",
     "status": "completed"
    },
    "tags": []
   },
   "outputs": [],
   "source": [
    "sns.set(context='paper', style=\"white\")\n",
    "fig, ax = plt.subplots(figsize=(4, 6))\n",
    "df.plot(y=0, kind='pie', label=\"Transposon families\", ax=ax)\n",
    "h, l = ax.get_legend_handles_labels()\n",
    "plt.legend(h[:5], l[:5])\n",
    "despine(ax)\n",
    "save_fig_in_dir(fig, 'te_family_stacked_pie_plot %s.%s' % (LABEL, IMAGE_EXTENSION), directory=LABEL, bbox_inches='tight')"
   ]
  },
  {
   "cell_type": "code",
   "execution_count": 17,
   "metadata": {
    "execution": {
     "iopub.execute_input": "2020-08-12T11:15:42.473685Z",
     "iopub.status.busy": "2020-08-12T11:15:42.473046Z",
     "iopub.status.idle": "2020-08-12T11:15:42.475552Z",
     "shell.execute_reply": "2020-08-12T11:15:42.475946Z"
    },
    "papermill": {
     "duration": 0.02358,
     "end_time": "2020-08-12T11:15:42.476112",
     "exception": false,
     "start_time": "2020-08-12T11:15:42.452532",
     "status": "completed"
    },
    "tags": []
   },
   "outputs": [
    {
     "data": {
      "text/html": [
       "<div>\n",
       "<style scoped>\n",
       "    .dataframe tbody tr th:only-of-type {\n",
       "        vertical-align: middle;\n",
       "    }\n",
       "\n",
       "    .dataframe tbody tr th {\n",
       "        vertical-align: top;\n",
       "    }\n",
       "\n",
       "    .dataframe thead th {\n",
       "        text-align: right;\n",
       "    }\n",
       "</style>\n",
       "<table border=\"1\" class=\"dataframe\">\n",
       "  <thead>\n",
       "    <tr style=\"text-align: right;\">\n",
       "      <th></th>\n",
       "      <th>class</th>\n",
       "      <th>sample</th>\n",
       "      <th>count</th>\n",
       "    </tr>\n",
       "  </thead>\n",
       "  <tbody>\n",
       "    <tr>\n",
       "      <th>0</th>\n",
       "      <td>1360</td>\n",
       "      <td>R59</td>\n",
       "      <td>1</td>\n",
       "    </tr>\n",
       "    <tr>\n",
       "      <th>1</th>\n",
       "      <td>17.6</td>\n",
       "      <td>H7</td>\n",
       "      <td>1</td>\n",
       "    </tr>\n",
       "    <tr>\n",
       "      <th>2</th>\n",
       "      <td>1731</td>\n",
       "      <td>R39</td>\n",
       "      <td>1</td>\n",
       "    </tr>\n",
       "    <tr>\n",
       "      <th>3</th>\n",
       "      <td>297</td>\n",
       "      <td>R11</td>\n",
       "      <td>1</td>\n",
       "    </tr>\n",
       "    <tr>\n",
       "      <th>4</th>\n",
       "      <td>412</td>\n",
       "      <td>H1</td>\n",
       "      <td>1</td>\n",
       "    </tr>\n",
       "    <tr>\n",
       "      <th>...</th>\n",
       "      <td>...</td>\n",
       "      <td>...</td>\n",
       "      <td>...</td>\n",
       "    </tr>\n",
       "    <tr>\n",
       "      <th>126</th>\n",
       "      <td>rover</td>\n",
       "      <td>R59</td>\n",
       "      <td>6</td>\n",
       "    </tr>\n",
       "    <tr>\n",
       "      <th>127</th>\n",
       "      <td>rover</td>\n",
       "      <td>R61</td>\n",
       "      <td>5</td>\n",
       "    </tr>\n",
       "    <tr>\n",
       "      <th>128</th>\n",
       "      <td>rover</td>\n",
       "      <td>R63</td>\n",
       "      <td>8</td>\n",
       "    </tr>\n",
       "    <tr>\n",
       "      <th>129</th>\n",
       "      <td>rover</td>\n",
       "      <td>R9</td>\n",
       "      <td>38</td>\n",
       "    </tr>\n",
       "    <tr>\n",
       "      <th>130</th>\n",
       "      <td>springer</td>\n",
       "      <td>H1</td>\n",
       "      <td>1</td>\n",
       "    </tr>\n",
       "  </tbody>\n",
       "</table>\n",
       "<p>131 rows × 3 columns</p>\n",
       "</div>"
      ],
      "text/plain": [
       "        class sample  count\n",
       "0        1360    R59      1\n",
       "1        17.6     H7      1\n",
       "2        1731    R39      1\n",
       "3         297    R11      1\n",
       "4         412     H1      1\n",
       "..        ...    ...    ...\n",
       "126     rover    R59      6\n",
       "127     rover    R61      5\n",
       "128     rover    R63      8\n",
       "129     rover     R9     38\n",
       "130  springer     H1      1\n",
       "\n",
       "[131 rows x 3 columns]"
      ]
     },
     "execution_count": 17,
     "metadata": {},
     "output_type": "execute_result"
    }
   ],
   "source": [
    "ins_df"
   ]
  },
  {
   "cell_type": "code",
   "execution_count": 18,
   "metadata": {
    "execution": {
     "iopub.execute_input": "2020-08-12T11:15:42.505648Z",
     "iopub.status.busy": "2020-08-12T11:15:42.505070Z",
     "iopub.status.idle": "2020-08-12T11:15:42.506950Z",
     "shell.execute_reply": "2020-08-12T11:15:42.507342Z"
    },
    "papermill": {
     "duration": 0.018616,
     "end_time": "2020-08-12T11:15:42.507501",
     "exception": false,
     "start_time": "2020-08-12T11:15:42.488885",
     "status": "completed"
    },
    "tags": []
   },
   "outputs": [],
   "source": [
    "insertions['tsd_len'] = insertions['end'] - insertions['start']"
   ]
  },
  {
   "cell_type": "code",
   "execution_count": 19,
   "metadata": {
    "execution": {
     "iopub.execute_input": "2020-08-12T11:15:42.537836Z",
     "iopub.status.busy": "2020-08-12T11:15:42.537264Z",
     "iopub.status.idle": "2020-08-12T11:15:42.539063Z",
     "shell.execute_reply": "2020-08-12T11:15:42.539459Z"
    },
    "papermill": {
     "duration": 0.018856,
     "end_time": "2020-08-12T11:15:42.539615",
     "exception": false,
     "start_time": "2020-08-12T11:15:42.520759",
     "status": "completed"
    },
    "tags": []
   },
   "outputs": [],
   "source": [
    "# this one is bizarre, shouldn't be a TSD element\n",
    "insertions = insertions[insertions['tsd_len'] != 0]"
   ]
  },
  {
   "cell_type": "code",
   "execution_count": 20,
   "metadata": {
    "execution": {
     "iopub.execute_input": "2020-08-12T11:15:42.570709Z",
     "iopub.status.busy": "2020-08-12T11:15:42.569948Z",
     "iopub.status.idle": "2020-08-12T11:15:42.572022Z",
     "shell.execute_reply": "2020-08-12T11:15:42.572426Z"
    },
    "papermill": {
     "duration": 0.019825,
     "end_time": "2020-08-12T11:15:42.572602",
     "exception": false,
     "start_time": "2020-08-12T11:15:42.552777",
     "status": "completed"
    },
    "tags": []
   },
   "outputs": [],
   "source": [
    "tsd_df = insertions[['class', 'tsd_len']]\n",
    "tsd_df.columns = ['Transposable Element', 'TSD length']"
   ]
  },
  {
   "cell_type": "code",
   "execution_count": 21,
   "metadata": {
    "execution": {
     "iopub.execute_input": "2020-08-12T11:15:42.602488Z",
     "iopub.status.busy": "2020-08-12T11:15:42.601936Z",
     "iopub.status.idle": "2020-08-12T11:15:42.606714Z",
     "shell.execute_reply": "2020-08-12T11:15:42.607116Z"
    },
    "papermill": {
     "duration": 0.021291,
     "end_time": "2020-08-12T11:15:42.607336",
     "exception": false,
     "start_time": "2020-08-12T11:15:42.586045",
     "status": "completed"
    },
    "tags": []
   },
   "outputs": [],
   "source": [
    "tsd_df.to_csv(os.path.join(LABEL, 'TSD lengths.csv'))"
   ]
  },
  {
   "cell_type": "code",
   "execution_count": 22,
   "metadata": {
    "execution": {
     "iopub.execute_input": "2020-08-12T11:15:42.843109Z",
     "iopub.status.busy": "2020-08-12T11:15:42.842398Z",
     "iopub.status.idle": "2020-08-12T11:15:43.425734Z",
     "shell.execute_reply": "2020-08-12T11:15:43.426145Z"
    },
    "papermill": {
     "duration": 0.805602,
     "end_time": "2020-08-12T11:15:43.426314",
     "exception": false,
     "start_time": "2020-08-12T11:15:42.620712",
     "status": "completed"
    },
    "tags": []
   },
   "outputs": [],
   "source": [
    "fig, ax = plt.subplots(figsize=(25, 7.5))\n",
    "sns.boxplot(y='TSD length', x='Transposable Element', data=tsd_df, ax=ax)\n",
    "ax = plt.gca()\n",
    "despine(ax)\n",
    "ax.set_xticklabels(ax.get_xticklabels(),rotation=45)\n",
    "save_fig_in_dir(fig, 'TSD_length_boxplot.pdf %s.%s' % (LABEL, IMAGE_EXTENSION), directory=LABEL, bbox_inches='tight')"
   ]
  },
  {
   "cell_type": "code",
   "execution_count": 23,
   "metadata": {
    "execution": {
     "iopub.execute_input": "2020-08-12T11:15:43.634998Z",
     "iopub.status.busy": "2020-08-12T11:15:43.512465Z",
     "iopub.status.idle": "2020-08-12T11:15:45.954322Z",
     "shell.execute_reply": "2020-08-12T11:15:45.954786Z"
    },
    "papermill": {
     "duration": 2.514917,
     "end_time": "2020-08-12T11:15:45.955007",
     "exception": false,
     "start_time": "2020-08-12T11:15:43.440090",
     "status": "completed"
    },
    "tags": []
   },
   "outputs": [],
   "source": [
    "fig, ax = plt.subplots(figsize=(25, 7.5))\n",
    "sns.swarmplot(y='TSD length', x='Transposable Element', data=tsd_df, ax=ax)\n",
    "ax = plt.gca()\n",
    "despine(ax)\n",
    "ax.set_xticklabels(ax.get_xticklabels(),rotation=45)\n",
    "save_fig_in_dir(fig, 'TSD_length_swarmplot.pdf %s.%s' % (LABEL, IMAGE_EXTENSION), directory=LABEL, bbox_inches='tight')"
   ]
  },
  {
   "cell_type": "code",
   "execution_count": null,
   "metadata": {
    "papermill": {
     "duration": 0.013173,
     "end_time": "2020-08-12T11:15:45.981688",
     "exception": false,
     "start_time": "2020-08-12T11:15:45.968515",
     "status": "completed"
    },
    "tags": []
   },
   "outputs": [],
   "source": []
  }
 ],
 "metadata": {
  "kernelspec": {
   "display_name": "Python 3",
   "language": "python",
   "name": "python3"
  },
  "language_info": {
   "codemirror_mode": {
    "name": "ipython",
    "version": 3
   },
   "file_extension": ".py",
   "mimetype": "text/x-python",
   "name": "python",
   "nbconvert_exporter": "python",
   "pygments_lexer": "ipython3",
   "version": "3.6.11"
  },
  "papermill": {
   "duration": 10.8693,
   "end_time": "2020-08-12T11:15:46.413506",
   "environment_variables": {},
   "exception": null,
   "input_path": "somatic_overview.ipynb",
   "output_path": "ProsGFP gut somatic_overview.ipynb",
   "parameters": {
    "INSERTIONS": "0.5.21.filtered_calls_prosgfp_guts.gff",
    "LABEL": "ProsGFP calls guts",
    "SAMPLE_FILE": "ProsGFP_gut_samples.csv"
   },
   "start_time": "2020-08-12T11:15:35.544206",
   "version": "2.1.2"
  }
 },
 "nbformat": 4,
 "nbformat_minor": 4
}