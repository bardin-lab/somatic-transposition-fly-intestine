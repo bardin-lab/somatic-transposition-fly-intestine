{
 "cells": [
  {
   "cell_type": "code",
   "execution_count": 1,
   "metadata": {
    "execution": {
     "iopub.execute_input": "2020-08-12T11:14:40.304406Z",
     "iopub.status.busy": "2020-08-12T11:14:40.303616Z",
     "iopub.status.idle": "2020-08-12T11:14:40.305708Z",
     "shell.execute_reply": "2020-08-12T11:14:40.306289Z"
    },
    "papermill": {
     "duration": 0.014771,
     "end_time": "2020-08-12T11:14:40.306493",
     "exception": false,
     "start_time": "2020-08-12T11:14:40.291722",
     "status": "completed"
    },
    "tags": []
   },
   "outputs": [],
   "source": [
    "# Genomic density plots"
   ]
  },
  {
   "cell_type": "code",
   "execution_count": 2,
   "metadata": {
    "execution": {
     "iopub.execute_input": "2020-08-12T11:14:40.320369Z",
     "iopub.status.busy": "2020-08-12T11:14:40.319558Z",
     "iopub.status.idle": "2020-08-12T11:14:40.321601Z",
     "shell.execute_reply": "2020-08-12T11:14:40.322080Z"
    },
    "papermill": {
     "duration": 0.010855,
     "end_time": "2020-08-12T11:14:40.322265",
     "exception": false,
     "start_time": "2020-08-12T11:14:40.311410",
     "status": "completed"
    },
    "tags": [
     "injected-parameters"
    ]
   },
   "outputs": [],
   "source": [
    "# Parameters\n",
    "INSERTIONS = \"0.5.21.filtered_calls_prosgfp_heads.gff\"\n",
    "LABEL = \"ProsGFP calls heads\"\n",
    "SAMPLE_FILE = \"ProsGFP_head_samples.csv\"\n"
   ]
  },
  {
   "cell_type": "code",
   "execution_count": 3,
   "metadata": {
    "execution": {
     "iopub.execute_input": "2020-08-12T11:14:40.336523Z",
     "iopub.status.busy": "2020-08-12T11:14:40.335718Z",
     "iopub.status.idle": "2020-08-12T11:14:41.327728Z",
     "shell.execute_reply": "2020-08-12T11:14:41.328036Z"
    },
    "papermill": {
     "duration": 1.00159,
     "end_time": "2020-08-12T11:14:41.328188",
     "exception": false,
     "start_time": "2020-08-12T11:14:40.326598",
     "status": "completed"
    },
    "tags": []
   },
   "outputs": [],
   "source": [
    "import matplotlib.pyplot as plt\n",
    "import numpy as np\n",
    "import pandas as pd\n",
    "import pybedtools\n",
    "from matplotlib import transforms\n",
    "\n",
    "\n",
    "from seaplotlib.helper import despine\n",
    "\n",
    "%matplotlib inline"
   ]
  },
  {
   "cell_type": "code",
   "execution_count": 4,
   "metadata": {
    "execution": {
     "iopub.execute_input": "2020-08-12T11:14:41.337326Z",
     "iopub.status.busy": "2020-08-12T11:14:41.336831Z",
     "iopub.status.idle": "2020-08-12T11:14:41.356248Z",
     "shell.execute_reply": "2020-08-12T11:14:41.356662Z"
    },
    "papermill": {
     "duration": 0.02553,
     "end_time": "2020-08-12T11:14:41.356834",
     "exception": false,
     "start_time": "2020-08-12T11:14:41.331304",
     "status": "completed"
    },
    "tags": []
   },
   "outputs": [],
   "source": [
    "insertions = pybedtools.BedTool(INSERTIONS).sort().to_dataframe()"
   ]
  },
  {
   "cell_type": "code",
   "execution_count": 5,
   "metadata": {
    "execution": {
     "iopub.execute_input": "2020-08-12T11:14:41.371761Z",
     "iopub.status.busy": "2020-08-12T11:14:41.370336Z",
     "iopub.status.idle": "2020-08-12T11:14:41.373986Z",
     "shell.execute_reply": "2020-08-12T11:14:41.374374Z"
    },
    "papermill": {
     "duration": 0.013973,
     "end_time": "2020-08-12T11:14:41.374531",
     "exception": false,
     "start_time": "2020-08-12T11:14:41.360558",
     "status": "completed"
    },
    "tags": []
   },
   "outputs": [
    {
     "name": "stderr",
     "output_type": "stream",
     "text": [
      "/Users/mvandenb/miniconda3/envs/somatic-transposition-fly-intestine/lib/python3.6/site-packages/ipykernel_launcher.py:4: SettingWithCopyWarning: \n",
      "A value is trying to be set on a copy of a slice from a DataFrame.\n",
      "Try using .loc[row_indexer,col_indexer] = value instead\n",
      "\n",
      "See the caveats in the documentation: https://pandas.pydata.org/pandas-docs/stable/user_guide/indexing.html#returning-a-view-versus-a-copy\n",
      "  after removing the cwd from sys.path.\n",
      "/Users/mvandenb/miniconda3/envs/somatic-transposition-fly-intestine/lib/python3.6/site-packages/ipykernel_launcher.py:6: SettingWithCopyWarning: \n",
      "A value is trying to be set on a copy of a slice from a DataFrame.\n",
      "Try using .loc[row_indexer,col_indexer] = value instead\n",
      "\n",
      "See the caveats in the documentation: https://pandas.pydata.org/pandas-docs/stable/user_guide/indexing.html#returning-a-view-versus-a-copy\n",
      "  \n"
     ]
    }
   ],
   "source": [
    "insertions.seqname.unique()\n",
    "\n",
    "subset = insertions[insertions.seqname == '2L']\n",
    "subset['Distance'] = np.log10(subset.start.diff())\n",
    "subset_2 = insertions[insertions.seqname == '3R']\n",
    "subset_2['Distance'] = np.log10(subset_2.start.diff())"
   ]
  },
  {
   "cell_type": "code",
   "execution_count": 6,
   "metadata": {
    "execution": {
     "iopub.execute_input": "2020-08-12T11:14:41.526405Z",
     "iopub.status.busy": "2020-08-12T11:14:41.525814Z",
     "iopub.status.idle": "2020-08-12T11:14:43.575291Z",
     "shell.execute_reply": "2020-08-12T11:14:43.575617Z"
    },
    "papermill": {
     "duration": 2.197345,
     "end_time": "2020-08-12T11:14:43.575761",
     "exception": false,
     "start_time": "2020-08-12T11:14:41.378416",
     "status": "completed"
    },
    "tags": []
   },
   "outputs": [
    {
     "name": "stderr",
     "output_type": "stream",
     "text": [
      "/Users/mvandenb/miniconda3/envs/somatic-transposition-fly-intestine/lib/python3.6/site-packages/pandas/core/indexing.py:670: SettingWithCopyWarning: \n",
      "A value is trying to be set on a copy of a slice from a DataFrame\n",
      "\n",
      "See the caveats in the documentation: https://pandas.pydata.org/pandas-docs/stable/user_guide/indexing.html#returning-a-view-versus-a-copy\n",
      "  iloc._setitem_with_indexer(indexer, value)\n"
     ]
    },
    {
     "name": "stderr",
     "output_type": "stream",
     "text": [
      "/Users/mvandenb/miniconda3/envs/somatic-transposition-fly-intestine/lib/python3.6/site-packages/pandas/core/series.py:726: RuntimeWarning: divide by zero encountered in log10\n",
      "  result = getattr(ufunc, method)(*inputs, **kwargs)\n",
      "/Users/mvandenb/miniconda3/envs/somatic-transposition-fly-intestine/lib/python3.6/site-packages/pandas/core/indexing.py:670: SettingWithCopyWarning: \n",
      "A value is trying to be set on a copy of a slice from a DataFrame\n",
      "\n",
      "See the caveats in the documentation: https://pandas.pydata.org/pandas-docs/stable/user_guide/indexing.html#returning-a-view-versus-a-copy\n",
      "  iloc._setitem_with_indexer(indexer, value)\n"
     ]
    },
    {
     "name": "stderr",
     "output_type": "stream",
     "text": [
      "/Users/mvandenb/miniconda3/envs/somatic-transposition-fly-intestine/lib/python3.6/site-packages/pandas/core/series.py:726: RuntimeWarning: divide by zero encountered in log10\n",
      "  result = getattr(ufunc, method)(*inputs, **kwargs)\n",
      "/Users/mvandenb/miniconda3/envs/somatic-transposition-fly-intestine/lib/python3.6/site-packages/pandas/core/indexing.py:670: SettingWithCopyWarning: \n",
      "A value is trying to be set on a copy of a slice from a DataFrame\n",
      "\n",
      "See the caveats in the documentation: https://pandas.pydata.org/pandas-docs/stable/user_guide/indexing.html#returning-a-view-versus-a-copy\n",
      "  iloc._setitem_with_indexer(indexer, value)\n"
     ]
    },
    {
     "name": "stderr",
     "output_type": "stream",
     "text": [
      "/Users/mvandenb/miniconda3/envs/somatic-transposition-fly-intestine/lib/python3.6/site-packages/pandas/core/indexing.py:670: SettingWithCopyWarning: \n",
      "A value is trying to be set on a copy of a slice from a DataFrame\n",
      "\n",
      "See the caveats in the documentation: https://pandas.pydata.org/pandas-docs/stable/user_guide/indexing.html#returning-a-view-versus-a-copy\n",
      "  iloc._setitem_with_indexer(indexer, value)\n",
      "/Users/mvandenb/miniconda3/envs/somatic-transposition-fly-intestine/lib/python3.6/site-packages/pandas/core/series.py:726: RuntimeWarning: divide by zero encountered in log10\n",
      "  result = getattr(ufunc, method)(*inputs, **kwargs)\n",
      "/Users/mvandenb/miniconda3/envs/somatic-transposition-fly-intestine/lib/python3.6/site-packages/pandas/core/indexing.py:670: SettingWithCopyWarning: \n",
      "A value is trying to be set on a copy of a slice from a DataFrame\n",
      "\n",
      "See the caveats in the documentation: https://pandas.pydata.org/pandas-docs/stable/user_guide/indexing.html#returning-a-view-versus-a-copy\n",
      "  iloc._setitem_with_indexer(indexer, value)\n"
     ]
    },
    {
     "data": {
      "image/png": "[encoded data removed]",
      "text/plain": [
       "<Figure size 360x720 with 10 Axes>"
      ]
     },
     "metadata": {
      "needs_background": "light"
     },
     "output_type": "display_data"
    }
   ],
   "source": [
    "chroms = ['2L', '2R', '3L', '3R', 'X']\n",
    "max_x = insertions.start.max()\n",
    "\n",
    "nrows = len(chroms) * 2\n",
    "\n",
    "fig, axes = plt.subplots(ncols=1, nrows=nrows, figsize=(5, nrows), sharex=True)\n",
    "def plot_density_distance(subset, axes):\n",
    "    seq = subset.reset_index().seqname.loc[0]\n",
    "    despine(subset.start.plot.kde(ind=100000, bw_method=0.005, xlim=(0, 31914491), ax=axes[0], color='k'))\n",
    "    axes[0].get_xaxis().set_visible(False)\n",
    "    axes[0].set_title(seq)\n",
    "    despine(subset.plot.scatter(x='start', y='Distance', xlim=(0, 31914491), alpha=0.5, ax=axes[1], color='k'))\n",
    "    plt.tight_layout()\n",
    "\n",
    "for i, chrom in enumerate(chroms):\n",
    "    subset = insertions[insertions['seqname'] == chrom].reset_index()\n",
    "    subset['Distance'] = np.log10(subset.start.diff())\n",
    "    # First insertion shares distance with 2nd\n",
    "    try:\n",
    "        # Fails if no insertions on chromosome. that's fine\n",
    "        subset['Distance'].loc[0] = subset['Distance'].loc[1]\n",
    "        # first dot shares distance with second\n",
    "        plot_density_distance(subset, axes=axes[i*2:i*2+2])\n",
    "    except Exception:\n",
    "        pass\n",
    "\n",
    "fig.savefig('Density and Rainfall %s.pdf' % LABEL)"
   ]
  }
 ],
 "metadata": {
  "kernelspec": {
   "display_name": "Python 3",
   "language": "python",
   "name": "python3"
  },
  "language_info": {
   "codemirror_mode": {
    "name": "ipython",
    "version": 3
   },
   "file_extension": ".py",
   "mimetype": "text/x-python",
   "name": "python",
   "nbconvert_exporter": "python",
   "pygments_lexer": "ipython3",
   "version": "3.6.11"
  },
  "papermill": {
   "duration": 4.619406,
   "end_time": "2020-08-12T11:14:43.993123",
   "environment_variables": {},
   "exception": null,
   "input_path": "Density and Rainfallplot.ipynb",
   "output_path": "ProsGFP heads Density and Rainfallplot.ipynb",
   "parameters": {
    "INSERTIONS": "0.5.21.filtered_calls_prosgfp_heads.gff",
    "LABEL": "ProsGFP calls heads",
    "SAMPLE_FILE": "ProsGFP_head_samples.csv"
   },
   "start_time": "2020-08-12T11:14:39.373717",
   "version": "2.1.2"
  }
 },
 "nbformat": 4,
 "nbformat_minor": 4
}