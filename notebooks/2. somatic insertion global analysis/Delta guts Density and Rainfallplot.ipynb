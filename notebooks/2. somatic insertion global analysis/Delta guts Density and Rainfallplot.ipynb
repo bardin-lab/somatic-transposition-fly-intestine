{
 "cells": [
  {
   "cell_type": "code",
   "execution_count": 1,
   "metadata": {
    "execution": {
     "iopub.execute_input": "2020-08-12T11:14:35.296456Z",
     "iopub.status.busy": "2020-08-12T11:14:35.295650Z",
     "iopub.status.idle": "2020-08-12T11:14:35.297649Z",
     "shell.execute_reply": "2020-08-12T11:14:35.298315Z"
    },
    "papermill": {
     "duration": 0.013322,
     "end_time": "2020-08-12T11:14:35.298525",
     "exception": false,
     "start_time": "2020-08-12T11:14:35.285203",
     "status": "completed"
    },
    "tags": []
   },
   "outputs": [],
   "source": [
    "# Genomic density plots"
   ]
  },
  {
   "cell_type": "code",
   "execution_count": 2,
   "metadata": {
    "execution": {
     "iopub.execute_input": "2020-08-12T11:14:35.312012Z",
     "iopub.status.busy": "2020-08-12T11:14:35.311305Z",
     "iopub.status.idle": "2020-08-12T11:14:35.313279Z",
     "shell.execute_reply": "2020-08-12T11:14:35.313958Z"
    },
    "papermill": {
     "duration": 0.010654,
     "end_time": "2020-08-12T11:14:35.314260",
     "exception": false,
     "start_time": "2020-08-12T11:14:35.303606",
     "status": "completed"
    },
    "tags": [
     "injected-parameters"
    ]
   },
   "outputs": [],
   "source": [
    "# Parameters\n",
    "INSERTIONS = \"0.5.21.filtered_calls_delta_guts.gff\"\n",
    "LABEL = \"Delta calls guts\"\n",
    "SAMPLE_FILE = \"Delta_gut_samples.csv\"\n"
   ]
  },
  {
   "cell_type": "code",
   "execution_count": 3,
   "metadata": {
    "execution": {
     "iopub.execute_input": "2020-08-12T11:14:35.327795Z",
     "iopub.status.busy": "2020-08-12T11:14:35.327118Z",
     "iopub.status.idle": "2020-08-12T11:14:36.321247Z",
     "shell.execute_reply": "2020-08-12T11:14:36.321614Z"
    },
    "papermill": {
     "duration": 1.003296,
     "end_time": "2020-08-12T11:14:36.321784",
     "exception": false,
     "start_time": "2020-08-12T11:14:35.318488",
     "status": "completed"
    },
    "tags": []
   },
   "outputs": [],
   "source": [
    "import matplotlib.pyplot as plt\n",
    "import numpy as np\n",
    "import pandas as pd\n",
    "import pybedtools\n",
    "from matplotlib import transforms\n",
    "\n",
    "\n",
    "from seaplotlib.helper import despine\n",
    "\n",
    "%matplotlib inline"
   ]
  },
  {
   "cell_type": "code",
   "execution_count": 4,
   "metadata": {
    "execution": {
     "iopub.execute_input": "2020-08-12T11:14:36.332235Z",
     "iopub.status.busy": "2020-08-12T11:14:36.331681Z",
     "iopub.status.idle": "2020-08-12T11:14:36.354057Z",
     "shell.execute_reply": "2020-08-12T11:14:36.354473Z"
    },
    "papermill": {
     "duration": 0.029191,
     "end_time": "2020-08-12T11:14:36.354642",
     "exception": false,
     "start_time": "2020-08-12T11:14:36.325451",
     "status": "completed"
    },
    "tags": []
   },
   "outputs": [],
   "source": [
    "insertions = pybedtools.BedTool(INSERTIONS).sort().to_dataframe()"
   ]
  },
  {
   "cell_type": "code",
   "execution_count": 5,
   "metadata": {
    "execution": {
     "iopub.execute_input": "2020-08-12T11:14:36.368635Z",
     "iopub.status.busy": "2020-08-12T11:14:36.368023Z",
     "iopub.status.idle": "2020-08-12T11:14:36.371725Z",
     "shell.execute_reply": "2020-08-12T11:14:36.372141Z"
    },
    "papermill": {
     "duration": 0.013971,
     "end_time": "2020-08-12T11:14:36.372328",
     "exception": false,
     "start_time": "2020-08-12T11:14:36.358357",
     "status": "completed"
    },
    "tags": []
   },
   "outputs": [
    {
     "name": "stderr",
     "output_type": "stream",
     "text": [
      "/Users/mvandenb/miniconda3/envs/somatic-transposition-fly-intestine/lib/python3.6/site-packages/ipykernel_launcher.py:4: SettingWithCopyWarning: \n",
      "A value is trying to be set on a copy of a slice from a DataFrame.\n",
      "Try using .loc[row_indexer,col_indexer] = value instead\n",
      "\n",
      "See the caveats in the documentation: https://pandas.pydata.org/pandas-docs/stable/user_guide/indexing.html#returning-a-view-versus-a-copy\n",
      "  after removing the cwd from sys.path.\n",
      "/Users/mvandenb/miniconda3/envs/somatic-transposition-fly-intestine/lib/python3.6/site-packages/ipykernel_launcher.py:6: SettingWithCopyWarning: \n",
      "A value is trying to be set on a copy of a slice from a DataFrame.\n",
      "Try using .loc[row_indexer,col_indexer] = value instead\n",
      "\n",
      "See the caveats in the documentation: https://pandas.pydata.org/pandas-docs/stable/user_guide/indexing.html#returning-a-view-versus-a-copy\n",
      "  \n"
     ]
    }
   ],
   "source": [
    "insertions.seqname.unique()\n",
    "\n",
    "subset = insertions[insertions.seqname == '2L']\n",
    "subset['Distance'] = np.log10(subset.start.diff())\n",
    "subset_2 = insertions[insertions.seqname == '3R']\n",
    "subset_2['Distance'] = np.log10(subset_2.start.diff())"
   ]
  },
  {
   "cell_type": "code",
   "execution_count": 6,
   "metadata": {
    "execution": {
     "iopub.execute_input": "2020-08-12T11:14:36.481604Z",
     "iopub.status.busy": "2020-08-12T11:14:36.480898Z",
     "iopub.status.idle": "2020-08-12T11:14:38.586820Z",
     "shell.execute_reply": "2020-08-12T11:14:38.587204Z"
    },
    "papermill": {
     "duration": 2.210956,
     "end_time": "2020-08-12T11:14:38.587345",
     "exception": false,
     "start_time": "2020-08-12T11:14:36.376389",
     "status": "completed"
    },
    "tags": []
   },
   "outputs": [
    {
     "name": "stderr",
     "output_type": "stream",
     "text": [
      "/Users/mvandenb/miniconda3/envs/somatic-transposition-fly-intestine/lib/python3.6/site-packages/pandas/core/indexing.py:670: SettingWithCopyWarning: \n",
      "A value is trying to be set on a copy of a slice from a DataFrame\n",
      "\n",
      "See the caveats in the documentation: https://pandas.pydata.org/pandas-docs/stable/user_guide/indexing.html#returning-a-view-versus-a-copy\n",
      "  iloc._setitem_with_indexer(indexer, value)\n"
     ]
    },
    {
     "name": "stderr",
     "output_type": "stream",
     "text": [
      "/Users/mvandenb/miniconda3/envs/somatic-transposition-fly-intestine/lib/python3.6/site-packages/pandas/core/series.py:726: RuntimeWarning: divide by zero encountered in log10\n",
      "  result = getattr(ufunc, method)(*inputs, **kwargs)\n",
      "/Users/mvandenb/miniconda3/envs/somatic-transposition-fly-intestine/lib/python3.6/site-packages/pandas/core/indexing.py:670: SettingWithCopyWarning: \n",
      "A value is trying to be set on a copy of a slice from a DataFrame\n",
      "\n",
      "See the caveats in the documentation: https://pandas.pydata.org/pandas-docs/stable/user_guide/indexing.html#returning-a-view-versus-a-copy\n",
      "  iloc._setitem_with_indexer(indexer, value)\n"
     ]
    },
    {
     "name": "stderr",
     "output_type": "stream",
     "text": [
      "/Users/mvandenb/miniconda3/envs/somatic-transposition-fly-intestine/lib/python3.6/site-packages/pandas/core/series.py:726: RuntimeWarning: divide by zero encountered in log10\n",
      "  result = getattr(ufunc, method)(*inputs, **kwargs)\n",
      "/Users/mvandenb/miniconda3/envs/somatic-transposition-fly-intestine/lib/python3.6/site-packages/pandas/core/indexing.py:670: SettingWithCopyWarning: \n",
      "A value is trying to be set on a copy of a slice from a DataFrame\n",
      "\n",
      "See the caveats in the documentation: https://pandas.pydata.org/pandas-docs/stable/user_guide/indexing.html#returning-a-view-versus-a-copy\n",
      "  iloc._setitem_with_indexer(indexer, value)\n"
     ]
    },
    {
     "name": "stderr",
     "output_type": "stream",
     "text": [
      "/Users/mvandenb/miniconda3/envs/somatic-transposition-fly-intestine/lib/python3.6/site-packages/pandas/core/indexing.py:670: SettingWithCopyWarning: \n",
      "A value is trying to be set on a copy of a slice from a DataFrame\n",
      "\n",
      "See the caveats in the documentation: https://pandas.pydata.org/pandas-docs/stable/user_guide/indexing.html#returning-a-view-versus-a-copy\n",
      "  iloc._setitem_with_indexer(indexer, value)\n"
     ]
    },
    {
     "name": "stderr",
     "output_type": "stream",
     "text": [
      "/Users/mvandenb/miniconda3/envs/somatic-transposition-fly-intestine/lib/python3.6/site-packages/pandas/core/indexing.py:670: SettingWithCopyWarning: \n",
      "A value is trying to be set on a copy of a slice from a DataFrame\n",
      "\n",
      "See the caveats in the documentation: https://pandas.pydata.org/pandas-docs/stable/user_guide/indexing.html#returning-a-view-versus-a-copy\n",
      "  iloc._setitem_with_indexer(indexer, value)\n"
     ]
    },
    {
     "data": {
      "image/png": "[encoded data removed]",
      "text/plain": [
       "<Figure size 360x720 with 10 Axes>"
      ]
     },
     "metadata": {
      "needs_background": "light"
     },
     "output_type": "display_data"
    }
   ],
   "source": [
    "chroms = ['2L', '2R', '3L', '3R', 'X']\n",
    "max_x = insertions.start.max()\n",
    "\n",
    "nrows = len(chroms) * 2\n",
    "\n",
    "fig, axes = plt.subplots(ncols=1, nrows=nrows, figsize=(5, nrows), sharex=True)\n",
    "def plot_density_distance(subset, axes):\n",
    "    seq = subset.reset_index().seqname.loc[0]\n",
    "    despine(subset.start.plot.kde(ind=100000, bw_method=0.005, xlim=(0, 31914491), ax=axes[0], color='k'))\n",
    "    axes[0].get_xaxis().set_visible(False)\n",
    "    axes[0].set_title(seq)\n",
    "    despine(subset.plot.scatter(x='start', y='Distance', xlim=(0, 31914491), alpha=0.5, ax=axes[1], color='k'))\n",
    "    plt.tight_layout()\n",
    "\n",
    "for i, chrom in enumerate(chroms):\n",
    "    subset = insertions[insertions['seqname'] == chrom].reset_index()\n",
    "    subset['Distance'] = np.log10(subset.start.diff())\n",
    "    # First insertion shares distance with 2nd\n",
    "    try:\n",
    "        # Fails if no insertions on chromosome. that's fine\n",
    "        subset['Distance'].loc[0] = subset['Distance'].loc[1]\n",
    "        # first dot shares distance with second\n",
    "        plot_density_distance(subset, axes=axes[i*2:i*2+2])\n",
    "    except Exception:\n",
    "        pass\n",
    "\n",
    "fig.savefig('Density and Rainfall %s.pdf' % LABEL)"
   ]
  }
 ],
 "metadata": {
  "kernelspec": {
   "display_name": "Python 3",
   "language": "python",
   "name": "python3"
  },
  "language_info": {
   "codemirror_mode": {
    "name": "ipython",
    "version": 3
   },
   "file_extension": ".py",
   "mimetype": "text/x-python",
   "name": "python",
   "nbconvert_exporter": "python",
   "pygments_lexer": "ipython3",
   "version": "3.6.11"
  },
  "papermill": {
   "duration": 4.538999,
   "end_time": "2020-08-12T11:14:38.906942",
   "environment_variables": {},
   "exception": null,
   "input_path": "Density and Rainfallplot.ipynb",
   "output_path": "Delta guts Density and Rainfallplot.ipynb",
   "parameters": {
    "INSERTIONS": "0.5.21.filtered_calls_delta_guts.gff",
    "LABEL": "Delta calls guts",
    "SAMPLE_FILE": "Delta_gut_samples.csv"
   },
   "start_time": "2020-08-12T11:14:34.367943",
   "version": "2.1.2"
  }
 },
 "nbformat": 4,
 "nbformat_minor": 4
}