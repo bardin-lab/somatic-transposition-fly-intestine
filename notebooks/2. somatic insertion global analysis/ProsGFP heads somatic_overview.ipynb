{
 "cells": [
  {
   "cell_type": "code",
   "execution_count": 1,
   "metadata": {
    "execution": {
     "iopub.execute_input": "2020-08-12T11:15:25.572644Z",
     "iopub.status.busy": "2020-08-12T11:15:25.571938Z",
     "iopub.status.idle": "2020-08-12T11:15:26.360900Z",
     "shell.execute_reply": "2020-08-12T11:15:26.361309Z"
    },
    "papermill": {
     "duration": 0.812401,
     "end_time": "2020-08-12T11:15:26.361499",
     "exception": false,
     "start_time": "2020-08-12T11:15:25.549098",
     "status": "completed"
    },
    "tags": []
   },
   "outputs": [],
   "source": [
    "%matplotlib inline\n",
    "import os\n",
    "\n",
    "import collections\n",
    "\n",
    "import pandas as pd\n",
    "import matplotlib.pyplot as plt\n",
    "import seaborn as sns\n",
    "\n",
    "from seaplotlib.helper import abline, despine, save_fig_in_dir, styles"
   ]
  },
  {
   "cell_type": "code",
   "execution_count": 2,
   "metadata": {
    "execution": {
     "iopub.execute_input": "2020-08-12T11:15:26.386365Z",
     "iopub.status.busy": "2020-08-12T11:15:26.385800Z",
     "iopub.status.idle": "2020-08-12T11:15:26.387285Z",
     "shell.execute_reply": "2020-08-12T11:15:26.387834Z"
    },
    "papermill": {
     "duration": 0.015307,
     "end_time": "2020-08-12T11:15:26.388000",
     "exception": false,
     "start_time": "2020-08-12T11:15:26.372693",
     "status": "completed"
    },
    "tags": [
     "parameters"
    ]
   },
   "outputs": [],
   "source": [
    "INSERTIONS = '0.5.21.filtered_calls_prosgfp_guts.gff'\n",
    "LABEL = \"ProsGFP calls guts\"\n",
    "IMAGE_EXTENSION = 'pdf'\n",
    "SAMPLE_FILE = 'ProsGFP_tumor_samples.csv'"
   ]
  },
  {
   "cell_type": "code",
   "execution_count": 3,
   "metadata": {
    "execution": {
     "iopub.execute_input": "2020-08-12T11:15:26.412974Z",
     "iopub.status.busy": "2020-08-12T11:15:26.412317Z",
     "iopub.status.idle": "2020-08-12T11:15:26.413982Z",
     "shell.execute_reply": "2020-08-12T11:15:26.414392Z"
    },
    "papermill": {
     "duration": 0.015795,
     "end_time": "2020-08-12T11:15:26.414555",
     "exception": false,
     "start_time": "2020-08-12T11:15:26.398760",
     "status": "completed"
    },
    "tags": [
     "injected-parameters"
    ]
   },
   "outputs": [],
   "source": [
    "# Parameters\n",
    "INSERTIONS = \"0.5.21.filtered_calls_prosgfp_heads.gff\"\n",
    "LABEL = \"ProsGFP calls heads\"\n",
    "SAMPLE_FILE = \"ProsGFP_head_samples.csv\"\n"
   ]
  },
  {
   "cell_type": "code",
   "execution_count": 4,
   "metadata": {
    "execution": {
     "iopub.execute_input": "2020-08-12T11:15:26.448035Z",
     "iopub.status.busy": "2020-08-12T11:15:26.447443Z",
     "iopub.status.idle": "2020-08-12T11:15:26.449283Z",
     "shell.execute_reply": "2020-08-12T11:15:26.449744Z"
    },
    "papermill": {
     "duration": 0.024302,
     "end_time": "2020-08-12T11:15:26.449903",
     "exception": false,
     "start_time": "2020-08-12T11:15:26.425601",
     "status": "completed"
    },
    "tags": []
   },
   "outputs": [],
   "source": [
    "def get_insertions(path):\n",
    "    insertions = []\n",
    "    with open(path) as f:\n",
    "        for line in f:\n",
    "            fields = line.split('\\t')\n",
    "            insertions.append({'start': int(fields[3]),\n",
    "                               'end': int(fields[4]),\n",
    "                               'class': fields[2], \n",
    "                               'score': int(fields[5]), \n",
    "                               'nref': int(fields[8].split(';')[7].split('=')[1].split('_')[0]), \n",
    "                               'sample': fields[8].split(';')[0].split('=')[1].split('_')[0]})\n",
    "    insertions = pd.DataFrame.from_records(insertions)\n",
    "    return insertions\n",
    "\n",
    "\n",
    "def transform_summary(insertions):\n",
    "    g = insertions.groupby(['class', 'sample'])\n",
    "    s = g.aggregate('class').count()\n",
    "    ins_df = s.to_frame()\n",
    "    ins_df.columns = ['count']\n",
    "    ins_df = ins_df.reset_index()\n",
    "    return ins_df\n",
    "\n",
    "\n",
    "\n",
    "def fill_missing_with_zero(df, all_sample_list):\n",
    "    for sample in all_sample_list:\n",
    "        if sample not in df['sample'].unique():\n",
    "            if 'class' in df:\n",
    "                for kls in df['class'].unique():\n",
    "                    entry = {0: {'class': kls, 'sample': sample, 'count': 0}}\n",
    "                    df = df.append(pd.DataFrame.from_dict(entry, orient='index'))\n",
    "            else:\n",
    "                entry = {0: {'sample': sample, 'count': 0}}\n",
    "                df = df.append(pd.DataFrame.from_dict(entry, orient='index'))\n",
    "    return df\n",
    "\n",
    "            \n",
    "def insertions_per_sample(df, color='r', title=None, all_sample_list=None):\n",
    "    if all_sample_list is not None:\n",
    "        df = fill_missing_with_zero(df, all_sample_list)\n",
    "    df = df.sort_values('count', ascending=False)\n",
    "    ax = despine(df.plot(kind='bar', x='sample', y='count', color=color, figsize=(8, 5), legend=False, title=title))\n",
    "    mean = df['count'].mean()\n",
    "    max_y = df['count'].max()\n",
    "    abline(slope=0, intercept=mean)\n",
    "    x = len(df['sample'].unique())\n",
    "    x = x - x / 8  # 12,5 % from the right\n",
    "    y = mean + max_y / 50  # 2 % of the y + mean position\n",
    "    ax.annotate('Mean=%.2f' % mean, (x, y))\n",
    "    return ax"
   ]
  },
  {
   "cell_type": "code",
   "execution_count": 5,
   "metadata": {
    "execution": {
     "iopub.execute_input": "2020-08-12T11:15:26.477842Z",
     "iopub.status.busy": "2020-08-12T11:15:26.477255Z",
     "iopub.status.idle": "2020-08-12T11:15:27.320788Z",
     "shell.execute_reply": "2020-08-12T11:15:27.321232Z"
    },
    "papermill": {
     "duration": 0.861038,
     "end_time": "2020-08-12T11:15:27.321397",
     "exception": false,
     "start_time": "2020-08-12T11:15:26.460359",
     "status": "completed"
    },
    "tags": []
   },
   "outputs": [],
   "source": [
    "def plot_insertions(ins_df, all_sample_list, suffix=''):\n",
    "    all_insertions = ins_df.groupby(['sample']).sum().reset_index()\n",
    "    rover_insertions = ins_df[ins_df['class'] == 'rover']\n",
    "    copia_insertions = ins_df[ins_df['class'] == 'copia']\n",
    "    i_element_insertions = ins_df[ins_df['class'] == 'I-element']\n",
    "\n",
    "    kwargs = {\n",
    "        'All insertions': [all_insertions, 'r'],\n",
    "        'Rover insertions': [rover_insertions, 'k'],\n",
    "        'Copia insertions': [copia_insertions, 'b'],\n",
    "        'I-element insertions': [i_element_insertions, 'g'],\n",
    "    }\n",
    "    kwargs = {k: v for k, v in kwargs.items() if len(v[0]) > 0}\n",
    "\n",
    "    for title, args in kwargs.items():\n",
    "        title = \"%s per sample\" % title\n",
    "        f = insertions_per_sample(all_sample_list=all_sample_list, title=title, *args).figure\n",
    "        save_fig_in_dir(f, \"%s%s.%s\" % (title, suffix, IMAGE_EXTENSION), directory=LABEL, bbox_inches='tight')\n",
    "\n",
    "\n",
    "with open(SAMPLE_FILE) as fh:\n",
    "    SAMPLES = fh.read().strip().split(',')\n",
    "insertions = get_insertions(INSERTIONS)\n",
    "ins_df = transform_summary(insertions)\n",
    "plot_insertions(ins_df, SAMPLES, suffix=' %s' % LABEL)"
   ]
  },
  {
   "cell_type": "code",
   "execution_count": 6,
   "metadata": {
    "execution": {
     "iopub.execute_input": "2020-08-12T11:15:27.419160Z",
     "iopub.status.busy": "2020-08-12T11:15:27.418293Z",
     "iopub.status.idle": "2020-08-12T11:15:27.573205Z",
     "shell.execute_reply": "2020-08-12T11:15:27.573799Z"
    },
    "papermill": {
     "duration": 0.241961,
     "end_time": "2020-08-12T11:15:27.574038",
     "exception": false,
     "start_time": "2020-08-12T11:15:27.332077",
     "status": "completed"
    },
    "tags": []
   },
   "outputs": [],
   "source": [
    "# overview boxplot\n",
    "\n",
    "fig, ax = plt.subplots(figsize=(2, 5))\n",
    "bp_data = ins_df.groupby(['sample']).sum().reset_index()\n",
    "sns.boxplot(y='count', hue=\"sample\", ax=ax, data=bp_data, color='r')\n",
    "despine(sns.swarmplot(y='count', hue=\"sample\", ax=ax, data=bp_data, color=\"0.2\", size=8))\n",
    "ax.set_title('All insertions tumorseq')\n",
    "save_fig_in_dir(fig, 'all_insertions_all_samples.%s' % IMAGE_EXTENSION, directory=LABEL, bbox_inches='tight')"
   ]
  },
  {
   "cell_type": "code",
   "execution_count": 7,
   "metadata": {
    "execution": {
     "iopub.execute_input": "2020-08-12T11:15:27.615446Z",
     "iopub.status.busy": "2020-08-12T11:15:27.614757Z",
     "iopub.status.idle": "2020-08-12T11:15:27.620193Z",
     "shell.execute_reply": "2020-08-12T11:15:27.620591Z"
    },
    "papermill": {
     "duration": 0.030846,
     "end_time": "2020-08-12T11:15:27.620782",
     "exception": false,
     "start_time": "2020-08-12T11:15:27.589936",
     "status": "completed"
    },
    "tags": []
   },
   "outputs": [
    {
     "data": {
      "text/html": [
       "<div>\n",
       "<style scoped>\n",
       "    .dataframe tbody tr th:only-of-type {\n",
       "        vertical-align: middle;\n",
       "    }\n",
       "\n",
       "    .dataframe tbody tr th {\n",
       "        vertical-align: top;\n",
       "    }\n",
       "\n",
       "    .dataframe thead th {\n",
       "        text-align: right;\n",
       "    }\n",
       "</style>\n",
       "<table border=\"1\" class=\"dataframe\">\n",
       "  <thead>\n",
       "    <tr style=\"text-align: right;\">\n",
       "      <th></th>\n",
       "      <th>sample</th>\n",
       "      <th>count</th>\n",
       "    </tr>\n",
       "  </thead>\n",
       "  <tbody>\n",
       "    <tr>\n",
       "      <th>0</th>\n",
       "      <td>H3</td>\n",
       "      <td>2</td>\n",
       "    </tr>\n",
       "    <tr>\n",
       "      <th>1</th>\n",
       "      <td>H6</td>\n",
       "      <td>5</td>\n",
       "    </tr>\n",
       "    <tr>\n",
       "      <th>2</th>\n",
       "      <td>H9</td>\n",
       "      <td>9</td>\n",
       "    </tr>\n",
       "    <tr>\n",
       "      <th>3</th>\n",
       "      <td>R12</td>\n",
       "      <td>4</td>\n",
       "    </tr>\n",
       "    <tr>\n",
       "      <th>4</th>\n",
       "      <td>R18</td>\n",
       "      <td>2</td>\n",
       "    </tr>\n",
       "    <tr>\n",
       "      <th>5</th>\n",
       "      <td>R20</td>\n",
       "      <td>4</td>\n",
       "    </tr>\n",
       "    <tr>\n",
       "      <th>6</th>\n",
       "      <td>R22</td>\n",
       "      <td>4</td>\n",
       "    </tr>\n",
       "    <tr>\n",
       "      <th>7</th>\n",
       "      <td>R24</td>\n",
       "      <td>1</td>\n",
       "    </tr>\n",
       "    <tr>\n",
       "      <th>8</th>\n",
       "      <td>R26</td>\n",
       "      <td>4</td>\n",
       "    </tr>\n",
       "    <tr>\n",
       "      <th>9</th>\n",
       "      <td>R30</td>\n",
       "      <td>3</td>\n",
       "    </tr>\n",
       "    <tr>\n",
       "      <th>10</th>\n",
       "      <td>R36</td>\n",
       "      <td>1</td>\n",
       "    </tr>\n",
       "    <tr>\n",
       "      <th>11</th>\n",
       "      <td>R4</td>\n",
       "      <td>2</td>\n",
       "    </tr>\n",
       "    <tr>\n",
       "      <th>12</th>\n",
       "      <td>R40</td>\n",
       "      <td>1</td>\n",
       "    </tr>\n",
       "    <tr>\n",
       "      <th>13</th>\n",
       "      <td>R42A</td>\n",
       "      <td>4</td>\n",
       "    </tr>\n",
       "    <tr>\n",
       "      <th>14</th>\n",
       "      <td>R42B</td>\n",
       "      <td>4</td>\n",
       "    </tr>\n",
       "    <tr>\n",
       "      <th>15</th>\n",
       "      <td>R44</td>\n",
       "      <td>5</td>\n",
       "    </tr>\n",
       "    <tr>\n",
       "      <th>16</th>\n",
       "      <td>R50</td>\n",
       "      <td>7</td>\n",
       "    </tr>\n",
       "    <tr>\n",
       "      <th>17</th>\n",
       "      <td>R54</td>\n",
       "      <td>3</td>\n",
       "    </tr>\n",
       "    <tr>\n",
       "      <th>18</th>\n",
       "      <td>R56</td>\n",
       "      <td>3</td>\n",
       "    </tr>\n",
       "    <tr>\n",
       "      <th>19</th>\n",
       "      <td>R58</td>\n",
       "      <td>1</td>\n",
       "    </tr>\n",
       "    <tr>\n",
       "      <th>20</th>\n",
       "      <td>R6</td>\n",
       "      <td>2</td>\n",
       "    </tr>\n",
       "    <tr>\n",
       "      <th>21</th>\n",
       "      <td>R60</td>\n",
       "      <td>1</td>\n",
       "    </tr>\n",
       "    <tr>\n",
       "      <th>22</th>\n",
       "      <td>R62</td>\n",
       "      <td>7</td>\n",
       "    </tr>\n",
       "    <tr>\n",
       "      <th>23</th>\n",
       "      <td>R64</td>\n",
       "      <td>5</td>\n",
       "    </tr>\n",
       "    <tr>\n",
       "      <th>24</th>\n",
       "      <td>R8</td>\n",
       "      <td>2</td>\n",
       "    </tr>\n",
       "  </tbody>\n",
       "</table>\n",
       "</div>"
      ],
      "text/plain": [
       "   sample  count\n",
       "0      H3      2\n",
       "1      H6      5\n",
       "2      H9      9\n",
       "3     R12      4\n",
       "4     R18      2\n",
       "5     R20      4\n",
       "6     R22      4\n",
       "7     R24      1\n",
       "8     R26      4\n",
       "9     R30      3\n",
       "10    R36      1\n",
       "11     R4      2\n",
       "12    R40      1\n",
       "13   R42A      4\n",
       "14   R42B      4\n",
       "15    R44      5\n",
       "16    R50      7\n",
       "17    R54      3\n",
       "18    R56      3\n",
       "19    R58      1\n",
       "20     R6      2\n",
       "21    R60      1\n",
       "22    R62      7\n",
       "23    R64      5\n",
       "24     R8      2"
      ]
     },
     "execution_count": 7,
     "metadata": {},
     "output_type": "execute_result"
    }
   ],
   "source": [
    "ins_df.groupby(['sample']).sum().reset_index()"
   ]
  },
  {
   "cell_type": "code",
   "execution_count": 8,
   "metadata": {
    "execution": {
     "iopub.execute_input": "2020-08-12T11:15:27.653189Z",
     "iopub.status.busy": "2020-08-12T11:15:27.652599Z",
     "iopub.status.idle": "2020-08-12T11:15:27.654954Z",
     "shell.execute_reply": "2020-08-12T11:15:27.654410Z"
    },
    "papermill": {
     "duration": 0.023049,
     "end_time": "2020-08-12T11:15:27.655138",
     "exception": false,
     "start_time": "2020-08-12T11:15:27.632089",
     "status": "completed"
    },
    "tags": []
   },
   "outputs": [],
   "source": [
    "def plot_with_broken_axis(df):\n",
    "    fig, (ax1, ax2) = plt.subplots(2, 1, sharex=True, figsize=(12, 5))\n",
    "    df.plot(kind='bar', ax=ax1, color='r')\n",
    "    df.plot(kind='bar', ax=ax2, color='r')\n",
    "    ax1.set_ylim(400, 500.)  # outliers only\n",
    "    ax2.set_ylim(0, 100)  # most of the data\n",
    "    ax1.spines['bottom'].set_visible(False)\n",
    "    ax1.spines['top'].set_visible(False)\n",
    "    ax2.spines['top'].set_visible(False)\n",
    "    ax2.spines['bottom'].set_visible(False)\n",
    "    # ax1.xaxis.tick_top()\n",
    "    ax1.xaxis.set_ticks_position('none') \n",
    "\n",
    "    ax1.tick_params(labeltop=False)  # don't put tick labels at the top\n",
    "    # plt.xticks(rotation=45)\n",
    "    ax2.xaxis.tick_bottom()\n",
    "\n",
    "    d = 0.015  # how big to make the diagonal lines in axes coordinates\n",
    "    # arguments to pass to plot, just so we don't keep repeating them\n",
    "    kwargs = dict(transform=ax1.transAxes, color='k', clip_on=False)\n",
    "    ax1.plot((-d, +d), (-d, +d), **kwargs)        # top-left diagonal\n",
    "    ax1.plot((1 - d, 1 + d), (-d, +d), **kwargs)  # top-right diagonal\n",
    "\n",
    "    kwargs.update(transform=ax2.transAxes)  # switch to the bottom axes\n",
    "    ax2.plot((-d, +d), (1 - d, 1 + d), **kwargs)  # bottom-left diagonal\n",
    "    ax2.plot((1 - d, 1 + d), (1 - d, 1 + d), **kwargs)  # bottom-right diagonal\n",
    "\n",
    "    rects = ax2.patches\n",
    "    # # Make some labels.\n",
    "    labels = df.values\n",
    "\n",
    "    for rect, label in zip(rects, labels):\n",
    "        if label > 120:\n",
    "            ax = ax1\n",
    "        else:\n",
    "            ax = ax2\n",
    "        height = rect.get_height()\n",
    "        ax.text(rect.get_x() + rect.get_width() / 2, height + 5, label,\n",
    "                ha='center', va='bottom')\n",
    "    return fig"
   ]
  },
  {
   "cell_type": "code",
   "execution_count": 9,
   "metadata": {
    "execution": {
     "iopub.execute_input": "2020-08-12T11:15:27.783087Z",
     "iopub.status.busy": "2020-08-12T11:15:27.782497Z",
     "iopub.status.idle": "2020-08-12T11:15:28.300303Z",
     "shell.execute_reply": "2020-08-12T11:15:28.300719Z"
    },
    "papermill": {
     "duration": 0.616562,
     "end_time": "2020-08-12T11:15:28.300935",
     "exception": false,
     "start_time": "2020-08-12T11:15:27.684373",
     "status": "completed"
    },
    "tags": []
   },
   "outputs": [],
   "source": [
    "class_overview = ins_df.groupby('class').sum().sort_values('count', ascending=False).unstack().reset_index()\n",
    "class_overview.index = class_overview['class']\n",
    "# fig = plot_with_broken_axis(class_overview[0])\n",
    "fig = despine(class_overview[0].plot(kind='bar', color='red', figsize=(15,5)))\n",
    "save_fig_in_dir(fig.figure, 'transposon classes %s.%s' % (LABEL, IMAGE_EXTENSION), directory=LABEL, bbox_inches='tight')"
   ]
  },
  {
   "cell_type": "code",
   "execution_count": 10,
   "metadata": {
    "execution": {
     "iopub.execute_input": "2020-08-12T11:15:28.329344Z",
     "iopub.status.busy": "2020-08-12T11:15:28.328585Z",
     "iopub.status.idle": "2020-08-12T11:15:28.331125Z",
     "shell.execute_reply": "2020-08-12T11:15:28.331520Z"
    },
    "papermill": {
     "duration": 0.019282,
     "end_time": "2020-08-12T11:15:28.331703",
     "exception": false,
     "start_time": "2020-08-12T11:15:28.312421",
     "status": "completed"
    },
    "tags": []
   },
   "outputs": [
    {
     "data": {
      "text/plain": [
       "class\n",
       "opus            5\n",
       "3S18            5\n",
       "R1A1-element    4\n",
       "Tirant          4\n",
       "F-element       4\n",
       "1360            3\n",
       "gypsy4          3\n",
       "flea            3\n",
       "McClintock      3\n",
       "Stalker4        2\n",
       "Rt1b            2\n",
       "Stalker         2\n",
       "accord2         2\n",
       "TART-A          2\n",
       "invader1        2\n",
       "micropia        2\n",
       "roo             2\n",
       "17.6            2\n",
       "Quasimodo       2\n",
       "1731            2\n",
       "GATE            2\n",
       "Doc             2\n",
       "Idefix          2\n",
       "Max-element     1\n",
       "baggins         1\n",
       "297             1\n",
       "412             1\n",
       "invader2        1\n",
       "Bari1           1\n",
       "gypsy6          1\n",
       "Circe           1\n",
       "gypsy2          1\n",
       "gtwin           1\n",
       "Cr1a            1\n",
       "accord          1\n",
       "Dm88            1\n",
       "Xanthias        1\n",
       "G4              1\n",
       "Stalker3        1\n",
       "HMS-Beagle      1\n",
       "HeT-A           1\n",
       "R2-element      1\n",
       "I-element       1\n",
       "INE-1           1\n",
       "Q-element       1\n",
       "NOF             1\n",
       "transib4        1\n",
       "Name: count, dtype: int64"
      ]
     },
     "execution_count": 10,
     "metadata": {},
     "output_type": "execute_result"
    }
   ],
   "source": [
    "class_overview.columns = ['kind', 'class', 'count']\n",
    "class_overview['count']"
   ]
  },
  {
   "cell_type": "code",
   "execution_count": 11,
   "metadata": {
    "execution": {
     "iopub.execute_input": "2020-08-12T11:15:28.362410Z",
     "iopub.status.busy": "2020-08-12T11:15:28.361841Z",
     "iopub.status.idle": "2020-08-12T11:15:28.518656Z",
     "shell.execute_reply": "2020-08-12T11:15:28.519116Z"
    },
    "papermill": {
     "duration": 0.175804,
     "end_time": "2020-08-12T11:15:28.519289",
     "exception": false,
     "start_time": "2020-08-12T11:15:28.343485",
     "status": "completed"
    },
    "tags": []
   },
   "outputs": [],
   "source": [
    "insertions = get_insertions(INSERTIONS)\n",
    "insertions['total'] = insertions['nref'] + insertions['score']\n",
    "total = insertions.sort_values('total')\n",
    "total_above_10 = total[(total['total'] > 10) & (total['total'] < 120)]\n",
    "ax = despine(total_above_10.plot(kind='scatter', x='score', y='total', xlim=(0, 120), color='red', figsize=(12, 5)))\n",
    "ax.set_xlabel('Read pairs supporting an insertion')\n",
    "ax.set_ylabel('Read depth over insertion site')\n",
    "save_fig_in_dir(ax.figure, 'transposon classes Read support per insertion %s.%s' % (LABEL, IMAGE_EXTENSION), directory=LABEL, bbox_inches='tight')"
   ]
  },
  {
   "cell_type": "code",
   "execution_count": 12,
   "metadata": {
    "execution": {
     "iopub.execute_input": "2020-08-12T11:15:28.669541Z",
     "iopub.status.busy": "2020-08-12T11:15:28.602497Z",
     "iopub.status.idle": "2020-08-12T11:15:29.768839Z",
     "shell.execute_reply": "2020-08-12T11:15:29.769315Z"
    },
    "papermill": {
     "duration": 1.238543,
     "end_time": "2020-08-12T11:15:29.769481",
     "exception": false,
     "start_time": "2020-08-12T11:15:28.530938",
     "status": "completed"
    },
    "tags": []
   },
   "outputs": [],
   "source": [
    "class_overview = ins_df.groupby('class').sum().sort_values('count', ascending=False).unstack().reset_index()\n",
    "class_overview.index = class_overview['class']\n",
    "fig = plot_with_broken_axis(class_overview[0])\n",
    "save_fig_in_dir(fig, 'transposon classes broken axis %s.%s' % (LABEL, IMAGE_EXTENSION), directory=LABEL, bbox_inches='tight')"
   ]
  },
  {
   "cell_type": "code",
   "execution_count": 13,
   "metadata": {
    "execution": {
     "iopub.execute_input": "2020-08-12T11:15:29.887272Z",
     "iopub.status.busy": "2020-08-12T11:15:29.886703Z",
     "iopub.status.idle": "2020-08-12T11:15:30.006166Z",
     "shell.execute_reply": "2020-08-12T11:15:30.006580Z"
    },
    "papermill": {
     "duration": 0.225239,
     "end_time": "2020-08-12T11:15:30.006749",
     "exception": false,
     "start_time": "2020-08-12T11:15:29.781510",
     "status": "completed"
    },
    "tags": []
   },
   "outputs": [
    {
     "data": {
      "text/plain": [
       "<AxesSubplot:ylabel='class'>"
      ]
     },
     "execution_count": 13,
     "metadata": {},
     "output_type": "execute_result"
    }
   ],
   "source": [
    "class_overview.plot(y=0, kind='barh', stacked=True)"
   ]
  },
  {
   "cell_type": "code",
   "execution_count": 14,
   "metadata": {
    "execution": {
     "iopub.execute_input": "2020-08-12T11:15:30.118956Z",
     "iopub.status.busy": "2020-08-12T11:15:30.074794Z",
     "iopub.status.idle": "2020-08-12T11:15:30.384294Z",
     "shell.execute_reply": "2020-08-12T11:15:30.384778Z"
    },
    "papermill": {
     "duration": 0.365792,
     "end_time": "2020-08-12T11:15:30.384949",
     "exception": false,
     "start_time": "2020-08-12T11:15:30.019157",
     "status": "completed"
    },
    "tags": []
   },
   "outputs": [],
   "source": [
    "sns.set(context='paper', style=\"white\")\n",
    "fig, ax = plt.subplots(figsize=(1, 6))\n",
    "class_overview[0].reset_index().set_index('class').sort_values(by=0, ascending=False).T.plot(kind='bar', label=['rover', 'copia', 'I-element', 'blood'], stacked=True, ax=ax)\n",
    "h, l = ax.get_legend_handles_labels()\n",
    "plt.legend(h[:5], l[:5])\n",
    "despine(ax)\n",
    "save_fig_in_dir(fig, 'te_family_stacked_barplot %s.%s' % (LABEL, IMAGE_EXTENSION), directory=LABEL, bbox_inches='tight')"
   ]
  },
  {
   "cell_type": "code",
   "execution_count": 15,
   "metadata": {
    "execution": {
     "iopub.execute_input": "2020-08-12T11:15:30.416762Z",
     "iopub.status.busy": "2020-08-12T11:15:30.416096Z",
     "iopub.status.idle": "2020-08-12T11:15:30.417951Z",
     "shell.execute_reply": "2020-08-12T11:15:30.418374Z"
    },
    "papermill": {
     "duration": 0.020546,
     "end_time": "2020-08-12T11:15:30.418546",
     "exception": false,
     "start_time": "2020-08-12T11:15:30.398000",
     "status": "completed"
    },
    "tags": []
   },
   "outputs": [],
   "source": [
    "df = class_overview[0].reset_index().set_index('class').sort_values(by=0, ascending=False)"
   ]
  },
  {
   "cell_type": "code",
   "execution_count": 16,
   "metadata": {
    "execution": {
     "iopub.execute_input": "2020-08-12T11:15:30.527720Z",
     "iopub.status.busy": "2020-08-12T11:15:30.527122Z",
     "iopub.status.idle": "2020-08-12T11:15:31.701688Z",
     "shell.execute_reply": "2020-08-12T11:15:31.702246Z"
    },
    "papermill": {
     "duration": 1.27075,
     "end_time": "2020-08-12T11:15:31.702432",
     "exception": false,
     "start_time": "2020-08-12T11:15:30.431682",
     "status": "completed"
    },
    "tags": []
   },
   "outputs": [],
   "source": [
    "sns.set(context='paper', style=\"white\")\n",
    "fig, ax = plt.subplots(figsize=(4, 6))\n",
    "df.plot(y=0, kind='pie', label=\"Transposon families\", ax=ax)\n",
    "h, l = ax.get_legend_handles_labels()\n",
    "plt.legend(h[:5], l[:5])\n",
    "despine(ax)\n",
    "save_fig_in_dir(fig, 'te_family_stacked_pie_plot %s.%s' % (LABEL, IMAGE_EXTENSION), directory=LABEL, bbox_inches='tight')"
   ]
  },
  {
   "cell_type": "code",
   "execution_count": 17,
   "metadata": {
    "execution": {
     "iopub.execute_input": "2020-08-12T11:15:31.736769Z",
     "iopub.status.busy": "2020-08-12T11:15:31.736127Z",
     "iopub.status.idle": "2020-08-12T11:15:31.738401Z",
     "shell.execute_reply": "2020-08-12T11:15:31.738857Z"
    },
    "papermill": {
     "duration": 0.023797,
     "end_time": "2020-08-12T11:15:31.739027",
     "exception": false,
     "start_time": "2020-08-12T11:15:31.715230",
     "status": "completed"
    },
    "tags": []
   },
   "outputs": [
    {
     "data": {
      "text/html": [
       "<div>\n",
       "<style scoped>\n",
       "    .dataframe tbody tr th:only-of-type {\n",
       "        vertical-align: middle;\n",
       "    }\n",
       "\n",
       "    .dataframe tbody tr th {\n",
       "        vertical-align: top;\n",
       "    }\n",
       "\n",
       "    .dataframe thead th {\n",
       "        text-align: right;\n",
       "    }\n",
       "</style>\n",
       "<table border=\"1\" class=\"dataframe\">\n",
       "  <thead>\n",
       "    <tr style=\"text-align: right;\">\n",
       "      <th></th>\n",
       "      <th>class</th>\n",
       "      <th>sample</th>\n",
       "      <th>count</th>\n",
       "    </tr>\n",
       "  </thead>\n",
       "  <tbody>\n",
       "    <tr>\n",
       "      <th>0</th>\n",
       "      <td>1360</td>\n",
       "      <td>H6</td>\n",
       "      <td>1</td>\n",
       "    </tr>\n",
       "    <tr>\n",
       "      <th>1</th>\n",
       "      <td>1360</td>\n",
       "      <td>H9</td>\n",
       "      <td>1</td>\n",
       "    </tr>\n",
       "    <tr>\n",
       "      <th>2</th>\n",
       "      <td>1360</td>\n",
       "      <td>R26</td>\n",
       "      <td>1</td>\n",
       "    </tr>\n",
       "    <tr>\n",
       "      <th>3</th>\n",
       "      <td>17.6</td>\n",
       "      <td>R22</td>\n",
       "      <td>1</td>\n",
       "    </tr>\n",
       "    <tr>\n",
       "      <th>4</th>\n",
       "      <td>17.6</td>\n",
       "      <td>R44</td>\n",
       "      <td>1</td>\n",
       "    </tr>\n",
       "    <tr>\n",
       "      <th>...</th>\n",
       "      <td>...</td>\n",
       "      <td>...</td>\n",
       "      <td>...</td>\n",
       "    </tr>\n",
       "    <tr>\n",
       "      <th>78</th>\n",
       "      <td>opus</td>\n",
       "      <td>R50</td>\n",
       "      <td>1</td>\n",
       "    </tr>\n",
       "    <tr>\n",
       "      <th>79</th>\n",
       "      <td>opus</td>\n",
       "      <td>R56</td>\n",
       "      <td>1</td>\n",
       "    </tr>\n",
       "    <tr>\n",
       "      <th>80</th>\n",
       "      <td>roo</td>\n",
       "      <td>R30</td>\n",
       "      <td>1</td>\n",
       "    </tr>\n",
       "    <tr>\n",
       "      <th>81</th>\n",
       "      <td>roo</td>\n",
       "      <td>R6</td>\n",
       "      <td>1</td>\n",
       "    </tr>\n",
       "    <tr>\n",
       "      <th>82</th>\n",
       "      <td>transib4</td>\n",
       "      <td>R58</td>\n",
       "      <td>1</td>\n",
       "    </tr>\n",
       "  </tbody>\n",
       "</table>\n",
       "<p>83 rows × 3 columns</p>\n",
       "</div>"
      ],
      "text/plain": [
       "       class sample  count\n",
       "0       1360     H6      1\n",
       "1       1360     H9      1\n",
       "2       1360    R26      1\n",
       "3       17.6    R22      1\n",
       "4       17.6    R44      1\n",
       "..       ...    ...    ...\n",
       "78      opus    R50      1\n",
       "79      opus    R56      1\n",
       "80       roo    R30      1\n",
       "81       roo     R6      1\n",
       "82  transib4    R58      1\n",
       "\n",
       "[83 rows x 3 columns]"
      ]
     },
     "execution_count": 17,
     "metadata": {},
     "output_type": "execute_result"
    }
   ],
   "source": [
    "ins_df"
   ]
  },
  {
   "cell_type": "code",
   "execution_count": 18,
   "metadata": {
    "execution": {
     "iopub.execute_input": "2020-08-12T11:15:31.769512Z",
     "iopub.status.busy": "2020-08-12T11:15:31.768781Z",
     "iopub.status.idle": "2020-08-12T11:15:31.770547Z",
     "shell.execute_reply": "2020-08-12T11:15:31.770952Z"
    },
    "papermill": {
     "duration": 0.019047,
     "end_time": "2020-08-12T11:15:31.771112",
     "exception": false,
     "start_time": "2020-08-12T11:15:31.752065",
     "status": "completed"
    },
    "tags": []
   },
   "outputs": [],
   "source": [
    "insertions['tsd_len'] = insertions['end'] - insertions['start']"
   ]
  },
  {
   "cell_type": "code",
   "execution_count": 19,
   "metadata": {
    "execution": {
     "iopub.execute_input": "2020-08-12T11:15:31.801432Z",
     "iopub.status.busy": "2020-08-12T11:15:31.800717Z",
     "iopub.status.idle": "2020-08-12T11:15:31.802589Z",
     "shell.execute_reply": "2020-08-12T11:15:31.803024Z"
    },
    "papermill": {
     "duration": 0.018963,
     "end_time": "2020-08-12T11:15:31.803201",
     "exception": false,
     "start_time": "2020-08-12T11:15:31.784238",
     "status": "completed"
    },
    "tags": []
   },
   "outputs": [],
   "source": [
    "# this one is bizarre, shouldn't be a TSD element\n",
    "insertions = insertions[insertions['tsd_len'] != 0]"
   ]
  },
  {
   "cell_type": "code",
   "execution_count": 20,
   "metadata": {
    "execution": {
     "iopub.execute_input": "2020-08-12T11:15:31.835928Z",
     "iopub.status.busy": "2020-08-12T11:15:31.835312Z",
     "iopub.status.idle": "2020-08-12T11:15:31.836959Z",
     "shell.execute_reply": "2020-08-12T11:15:31.837590Z"
    },
    "papermill": {
     "duration": 0.021031,
     "end_time": "2020-08-12T11:15:31.837758",
     "exception": false,
     "start_time": "2020-08-12T11:15:31.816727",
     "status": "completed"
    },
    "tags": []
   },
   "outputs": [],
   "source": [
    "tsd_df = insertions[['class', 'tsd_len']]\n",
    "tsd_df.columns = ['Transposable Element', 'TSD length']"
   ]
  },
  {
   "cell_type": "code",
   "execution_count": 21,
   "metadata": {
    "execution": {
     "iopub.execute_input": "2020-08-12T11:15:31.867980Z",
     "iopub.status.busy": "2020-08-12T11:15:31.866877Z",
     "iopub.status.idle": "2020-08-12T11:15:31.871243Z",
     "shell.execute_reply": "2020-08-12T11:15:31.871712Z"
    },
    "papermill": {
     "duration": 0.020752,
     "end_time": "2020-08-12T11:15:31.871904",
     "exception": false,
     "start_time": "2020-08-12T11:15:31.851152",
     "status": "completed"
    },
    "tags": []
   },
   "outputs": [],
   "source": [
    "tsd_df.to_csv(os.path.join(LABEL, 'TSD lengths.csv'))"
   ]
  },
  {
   "cell_type": "code",
   "execution_count": 22,
   "metadata": {
    "execution": {
     "iopub.execute_input": "2020-08-12T11:15:32.241685Z",
     "iopub.status.busy": "2020-08-12T11:15:32.104323Z",
     "iopub.status.idle": "2020-08-12T11:15:32.999073Z",
     "shell.execute_reply": "2020-08-12T11:15:32.999471Z"
    },
    "papermill": {
     "duration": 1.114384,
     "end_time": "2020-08-12T11:15:32.999634",
     "exception": false,
     "start_time": "2020-08-12T11:15:31.885250",
     "status": "completed"
    },
    "tags": []
   },
   "outputs": [],
   "source": [
    "fig, ax = plt.subplots(figsize=(25, 7.5))\n",
    "sns.boxplot(y='TSD length', x='Transposable Element', data=tsd_df, ax=ax)\n",
    "ax = plt.gca()\n",
    "despine(ax)\n",
    "ax.set_xticklabels(ax.get_xticklabels(),rotation=45)\n",
    "save_fig_in_dir(fig, 'TSD_length_boxplot.pdf %s.%s' % (LABEL, IMAGE_EXTENSION), directory=LABEL, bbox_inches='tight')"
   ]
  },
  {
   "cell_type": "code",
   "execution_count": 23,
   "metadata": {
    "execution": {
     "iopub.execute_input": "2020-08-12T11:15:33.111498Z",
     "iopub.status.busy": "2020-08-12T11:15:33.045538Z",
     "iopub.status.idle": "2020-08-12T11:15:34.355981Z",
     "shell.execute_reply": "2020-08-12T11:15:34.356462Z"
    },
    "papermill": {
     "duration": 1.343716,
     "end_time": "2020-08-12T11:15:34.356683",
     "exception": false,
     "start_time": "2020-08-12T11:15:33.012967",
     "status": "completed"
    },
    "tags": []
   },
   "outputs": [],
   "source": [
    "fig, ax = plt.subplots(figsize=(25, 7.5))\n",
    "sns.swarmplot(y='TSD length', x='Transposable Element', data=tsd_df, ax=ax)\n",
    "ax = plt.gca()\n",
    "despine(ax)\n",
    "ax.set_xticklabels(ax.get_xticklabels(),rotation=45)\n",
    "save_fig_in_dir(fig, 'TSD_length_swarmplot.pdf %s.%s' % (LABEL, IMAGE_EXTENSION), directory=LABEL, bbox_inches='tight')"
   ]
  },
  {
   "cell_type": "code",
   "execution_count": null,
   "metadata": {
    "papermill": {
     "duration": 0.013667,
     "end_time": "2020-08-12T11:15:34.383852",
     "exception": false,
     "start_time": "2020-08-12T11:15:34.370185",
     "status": "completed"
    },
    "tags": []
   },
   "outputs": [],
   "source": []
  }
 ],
 "metadata": {
  "kernelspec": {
   "display_name": "Python 3",
   "language": "python",
   "name": "python3"
  },
  "language_info": {
   "codemirror_mode": {
    "name": "ipython",
    "version": 3
   },
   "file_extension": ".py",
   "mimetype": "text/x-python",
   "name": "python",
   "nbconvert_exporter": "python",
   "pygments_lexer": "ipython3",
   "version": "3.6.11"
  },
  "papermill": {
   "duration": 10.188126,
   "end_time": "2020-08-12T11:15:34.811931",
   "environment_variables": {},
   "exception": null,
   "input_path": "somatic_overview.ipynb",
   "output_path": "ProsGFP heads somatic_overview.ipynb",
   "parameters": {
    "INSERTIONS": "0.5.21.filtered_calls_prosgfp_heads.gff",
    "LABEL": "ProsGFP calls heads",
    "SAMPLE_FILE": "ProsGFP_head_samples.csv"
   },
   "start_time": "2020-08-12T11:15:24.623805",
   "version": "2.1.2"
  }
 },
 "nbformat": 4,
 "nbformat_minor": 4
}