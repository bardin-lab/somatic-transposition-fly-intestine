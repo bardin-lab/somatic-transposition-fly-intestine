{
 "cells": [
  {
   "cell_type": "code",
   "execution_count": 1,
   "metadata": {
    "execution": {
     "iopub.execute_input": "2020-09-21T08:54:10.191142Z",
     "iopub.status.busy": "2020-09-21T08:54:10.189959Z",
     "iopub.status.idle": "2020-09-21T08:54:10.193001Z",
     "shell.execute_reply": "2020-09-21T08:54:10.194027Z"
    },
    "papermill": {
     "duration": 0.035048,
     "end_time": "2020-09-21T08:54:10.194416",
     "exception": false,
     "start_time": "2020-09-21T08:54:10.159368",
     "status": "completed"
    },
    "tags": []
   },
   "outputs": [],
   "source": [
    "# looking again at TE frequency relative to causative event"
   ]
  },
  {
   "cell_type": "code",
   "execution_count": 2,
   "metadata": {
    "execution": {
     "iopub.execute_input": "2020-09-21T08:54:10.243034Z",
     "iopub.status.busy": "2020-09-21T08:54:10.241683Z",
     "iopub.status.idle": "2020-09-21T08:54:12.279248Z",
     "shell.execute_reply": "2020-09-21T08:54:12.280366Z"
    },
    "papermill": {
     "duration": 2.067507,
     "end_time": "2020-09-21T08:54:12.280748",
     "exception": false,
     "start_time": "2020-09-21T08:54:10.213241",
     "status": "completed"
    },
    "tags": []
   },
   "outputs": [],
   "source": [
    "%matplotlib inline\n",
    "import os\n",
    "\n",
    "import matplotlib.pyplot as plt\n",
    "import numpy as np\n",
    "import pandas as pd\n",
    "import seaborn as sns\n",
    "from collections import namedtuple\n",
    "from seaplotlib.helper import despine, save_fig_in_dir\n",
    "\n",
    "gff = namedtuple('GFF', 'chrom source feature start end score strand frame sample_id vaf')"
   ]
  },
  {
   "cell_type": "code",
   "execution_count": 3,
   "metadata": {
    "execution": {
     "iopub.execute_input": "2020-09-21T08:54:12.323921Z",
     "iopub.status.busy": "2020-09-21T08:54:12.321964Z",
     "iopub.status.idle": "2020-09-21T08:54:12.325430Z",
     "shell.execute_reply": "2020-09-21T08:54:12.326254Z"
    },
    "papermill": {
     "duration": 0.028515,
     "end_time": "2020-09-21T08:54:12.326672",
     "exception": false,
     "start_time": "2020-09-21T08:54:12.298157",
     "status": "completed"
    },
    "tags": [
     "parameters"
    ]
   },
   "outputs": [],
   "source": [
    "ALL_INSERTIONS = '0.5.21.filtered_calls_prosgfp_guts.gff'\n",
    "DELETION_READ_RATIO = 'pros_purity_estimates_deletion.tab'\n",
    "LABEL = 'ProsGFP guts'\n",
    "IMAGE_EXTENSION = 'pdf'"
   ]
  },
  {
   "cell_type": "code",
   "execution_count": 4,
   "metadata": {
    "execution": {
     "iopub.execute_input": "2020-09-21T08:54:12.368845Z",
     "iopub.status.busy": "2020-09-21T08:54:12.367043Z",
     "iopub.status.idle": "2020-09-21T08:54:12.370930Z",
     "shell.execute_reply": "2020-09-21T08:54:12.372849Z"
    },
    "papermill": {
     "duration": 0.029073,
     "end_time": "2020-09-21T08:54:12.373413",
     "exception": false,
     "start_time": "2020-09-21T08:54:12.344340",
     "status": "completed"
    },
    "tags": [
     "injected-parameters"
    ]
   },
   "outputs": [],
   "source": [
    "# Parameters\n",
    "ALL_INSERTIONS = \"0.5.21.filtered_calls_delta_guts.gff\"\n",
    "LABEL = \"Delta guts\"\n",
    "DELETION_READ_RATIO = \"delta_purity_estimates_deletion.tab\"\n"
   ]
  },
  {
   "cell_type": "code",
   "execution_count": 5,
   "metadata": {
    "execution": {
     "iopub.execute_input": "2020-09-21T08:54:12.429835Z",
     "iopub.status.busy": "2020-09-21T08:54:12.428260Z",
     "iopub.status.idle": "2020-09-21T08:54:12.432570Z",
     "shell.execute_reply": "2020-09-21T08:54:12.431709Z"
    },
    "papermill": {
     "duration": 0.040622,
     "end_time": "2020-09-21T08:54:12.433003",
     "exception": false,
     "start_time": "2020-09-21T08:54:12.392381",
     "status": "completed"
    },
    "tags": []
   },
   "outputs": [],
   "source": [
    "def read_readtagger_confirmed_insertions(path):\n",
    "    entries = []\n",
    "    with open(path) as in_file:\n",
    "        for line in in_file:\n",
    "            fields = line.strip().split('\\t')\n",
    "            attributes = fields[8]\n",
    "            attributes = dict([a.split('=') for a in attributes.split(';')])\n",
    "            fields[8] = attributes['ID'].split('_')[0]\n",
    "            left_count = int(attributes['left_mate_count'])\n",
    "            right_count = int( attributes['right_mate_count'])\n",
    "            ref_count = int(attributes['nref'])\n",
    "            fields.append((left_count + right_count) / (left_count + right_count + ref_count + 0.01))\n",
    "            entries.append(gff(*fields))\n",
    "    df = pd.DataFrame.from_records(entries)\n",
    "    df.columns = list(entries[0]._asdict().keys())\n",
    "    return df\n",
    "\n",
    "\n",
    "def transform_df_for_plotting(df):\n",
    "    \"\"\"Add autosome column, sorts by sample and variant allele frequency.\"\"\"\n",
    "    df['autosome'] = df.chrom.str.len() > 1\n",
    "    autosome_values = df[df['autosome'] == True].vaf * 2\n",
    "    # Multiply VAF for autosomes by 2 and cut values at 1\n",
    "    df.loc[autosome_values.index, 'vaf'] = autosome_values\n",
    "    # df.loc[df['vaf'] > 1, 'vaf'] = 1\n",
    "    return df\n",
    "\n",
    "\n",
    "def read_purity_values(path):\n",
    "    df = pd.read_csv(path, sep='\\t', header=None)\n",
    "    # This is the (normalized) read ratio of control to tumor\n",
    "    # We can get the purity \n",
    "    df['purity'] = (df[0] - 1) / df[0]\n",
    "    df.index = df[1]\n",
    "    return df.purity"
   ]
  },
  {
   "cell_type": "code",
   "execution_count": 6,
   "metadata": {
    "execution": {
     "iopub.execute_input": "2020-09-21T08:54:12.476913Z",
     "iopub.status.busy": "2020-09-21T08:54:12.475472Z",
     "iopub.status.idle": "2020-09-21T08:54:12.518766Z",
     "shell.execute_reply": "2020-09-21T08:54:12.519702Z"
    },
    "papermill": {
     "duration": 0.069992,
     "end_time": "2020-09-21T08:54:12.520015",
     "exception": false,
     "start_time": "2020-09-21T08:54:12.450023",
     "status": "completed"
    },
    "tags": []
   },
   "outputs": [],
   "source": [
    "df = read_readtagger_confirmed_insertions(ALL_INSERTIONS)\n",
    "raw_df = transform_df_for_plotting(df)\n",
    "df = raw_df.copy()\n",
    "df.loc[df['vaf'] > 1, 'vaf'] = 1\n",
    "deletion = read_purity_values(DELETION_READ_RATIO)\n",
    "for i, s_id in enumerate(df['sample_id'].unique()):\n",
    "    if s_id in deletion.index:\n",
    "        df.loc[df['sample_id'] == s_id, 'notch_vaf'] = deletion[s_id]\n",
    "    else:\n",
    "        # Give some very low AF for plotting\n",
    "        df.loc[df['sample_id'] == s_id, 'notch_vaf'] = 0 + (1/ (i+1) *100)\n",
    "# df = df[~df['notch_vaf'].isnull()]\n",
    "# uncomment this to color by TE\n",
    "# df['color'] = df['feature']\n",
    "# df.loc[~df.feature.str.match('rover|I-element|copia'), 'color'] = 'other'\n",
    "df['color'] = 'other'"
   ]
  },
  {
   "cell_type": "code",
   "execution_count": 7,
   "metadata": {
    "execution": {
     "iopub.execute_input": "2020-09-21T08:54:12.756936Z",
     "iopub.status.busy": "2020-09-21T08:54:12.755222Z",
     "iopub.status.idle": "2020-09-21T08:54:12.891340Z",
     "shell.execute_reply": "2020-09-21T08:54:12.893056Z"
    },
    "papermill": {
     "duration": 0.357313,
     "end_time": "2020-09-21T08:54:12.893439",
     "exception": false,
     "start_time": "2020-09-21T08:54:12.536126",
     "status": "completed"
    },
    "tags": []
   },
   "outputs": [],
   "source": [
    "plt.figure(figsize=(20, 5))\n",
    "ax = sns.boxplot(x=\"sample_id\", y=\"vaf\", hue='autosome', data=df)\n",
    "# sns.swarmplot(x='sample_id', y='vaf', hue='autosome', data=df, size=10)"
   ]
  },
  {
   "cell_type": "code",
   "execution_count": 8,
   "metadata": {
    "execution": {
     "iopub.execute_input": "2020-09-21T08:54:13.020474Z",
     "iopub.status.busy": "2020-09-21T08:54:13.019035Z",
     "iopub.status.idle": "2020-09-21T08:54:13.617056Z",
     "shell.execute_reply": "2020-09-21T08:54:13.616210Z"
    },
    "papermill": {
     "duration": 0.705336,
     "end_time": "2020-09-21T08:54:13.617320",
     "exception": false,
     "start_time": "2020-09-21T08:54:12.911984",
     "status": "completed"
    },
    "tags": []
   },
   "outputs": [],
   "source": [
    "# # Get only X chromosome\n",
    "# df = df[df['chrom'] == 'X']\n",
    "\n",
    "def plot_vaf(*args, **kwargs):\n",
    "    data = kwargs['data']\n",
    "    xmin = data.order.min() - 10\n",
    "    xmax = data.order.max() + 10\n",
    "    y = data.notch_vaf.max()\n",
    "    ax = plt.gca()\n",
    "    ax.hlines(y=y, xmin=xmin, xmax=xmax, color=kwargs['color'], label=kwargs['label'])\n",
    "    \n",
    "    \n",
    "def scatter(x, y, **kwargs):\n",
    "    kwargs.pop('color')\n",
    "    plt.scatter(x, y, color='grey', **kwargs)\n",
    "\n",
    "df = df.sort_values(['notch_vaf', 'vaf'])\n",
    "sample_order = {sample_id: i for i, sample_id in enumerate(df.sample_id.unique())}\n",
    "df['order'] = list(range(len(df)))\n",
    "last_addition = 0\n",
    "for index, group in df.groupby('sample_id').order:\n",
    "    df.loc[group.index, 'order'] = group.values + (sample_order[index] * 20)\n",
    "\n",
    "# g = sns.FacetGrid(df, hue=\"sample_id\", col=\"sample_id\",size=8, col_wrap=6, sharex=False)\n",
    "g = sns.FacetGrid(df, hue=\"color\", aspect=2, height=10)\n",
    "g.map(scatter, \"order\", \"vaf\")\n",
    "# g.map(plt.plot, \"order\", \"vaf\")\n",
    "# fg = g.map(plt.plot, \"order\", \"notch_vaf\")\n",
    "# plt.axvline(-10, color='k', linestyle='--')\n",
    "for sep in df.groupby('sample_id')['order'].max().values:\n",
    "    if not sep == df.order.max():\n",
    "        plt.axvline(sep + 10, color='k', linestyle='--')\n",
    "\n",
    "\n",
    "plot_vaf(data=df.groupby('sample_id'), color='black', label=None)\n",
    "# g.map_dataframe(plot_vaf, 'order', 'notch_vaf')\n",
    "midpoint_order = df.groupby('sample_id').order.mean()\n",
    "g.set(xticks=midpoint_order.values)\n",
    "g.set_xticklabels(midpoint_order.keys())\n",
    "\n",
    "g.set(xlim=(-10, df.order.max() + 10), ylim=(0, 1.01))\n",
    "\n",
    "g.set_axis_labels(y_var='Penetrance (Variant Allele Frequency * 2 on autosomes)')\n",
    "g.set_xlabels(label='')\n",
    "# fg.set_xticklabels(labels='')\n",
    "sns.despine(left=True, bottom=True)\n",
    "# g.add_legend()\n",
    "save_fig_in_dir(g, 'Insertion Penetrance Estimate %s.%s' % (LABEL, IMAGE_EXTENSION), directory=LABEL, bbox_inches='tight')\n"
   ]
  },
  {
   "cell_type": "code",
   "execution_count": 9,
   "metadata": {
    "execution": {
     "iopub.execute_input": "2020-09-21T08:54:13.664437Z",
     "iopub.status.busy": "2020-09-21T08:54:13.663124Z",
     "iopub.status.idle": "2020-09-21T08:54:13.667259Z",
     "shell.execute_reply": "2020-09-21T08:54:13.668686Z"
    },
    "papermill": {
     "duration": 0.033417,
     "end_time": "2020-09-21T08:54:13.668990",
     "exception": false,
     "start_time": "2020-09-21T08:54:13.635573",
     "status": "completed"
    },
    "tags": []
   },
   "outputs": [],
   "source": [
    "quantiles = raw_df.groupby('sample_id')['vaf'].quantile()"
   ]
  },
  {
   "cell_type": "code",
   "execution_count": 10,
   "metadata": {
    "execution": {
     "iopub.execute_input": "2020-09-21T08:54:13.719255Z",
     "iopub.status.busy": "2020-09-21T08:54:13.717886Z",
     "iopub.status.idle": "2020-09-21T08:54:13.747274Z",
     "shell.execute_reply": "2020-09-21T08:54:13.748058Z"
    },
    "papermill": {
     "duration": 0.060689,
     "end_time": "2020-09-21T08:54:13.748549",
     "exception": false,
     "start_time": "2020-09-21T08:54:13.687860",
     "status": "completed"
    },
    "tags": []
   },
   "outputs": [],
   "source": [
    "upper_half = raw_df[raw_df.apply(lambda row: quantiles[row['sample_id']] > row['vaf'], axis=1)]\n",
    "lower_half = raw_df[raw_df.apply(lambda row: quantiles[row['sample_id']] < row['vaf'], axis=1)]\n",
    "frequency_higher_than_notch = df[df.apply(lambda row: row['vaf'] > row['notch_vaf'], axis=1)]\n",
    "frequency_lower_than_notch = df[df.apply(lambda row: row['vaf'] < row['notch_vaf'], axis=1)]"
   ]
  },
  {
   "cell_type": "code",
   "execution_count": 11,
   "metadata": {
    "execution": {
     "iopub.execute_input": "2020-09-21T08:54:13.796498Z",
     "iopub.status.busy": "2020-09-21T08:54:13.795237Z",
     "iopub.status.idle": "2020-09-21T08:54:13.799652Z",
     "shell.execute_reply": "2020-09-21T08:54:13.800989Z"
    },
    "papermill": {
     "duration": 0.03521,
     "end_time": "2020-09-21T08:54:13.801323",
     "exception": false,
     "start_time": "2020-09-21T08:54:13.766113",
     "status": "completed"
    },
    "tags": []
   },
   "outputs": [
    {
     "data": {
      "text/plain": [
       "48"
      ]
     },
     "execution_count": 11,
     "metadata": {},
     "output_type": "execute_result"
    }
   ],
   "source": [
    "len(upper_half)"
   ]
  },
  {
   "cell_type": "code",
   "execution_count": 12,
   "metadata": {
    "execution": {
     "iopub.execute_input": "2020-09-21T08:54:13.849207Z",
     "iopub.status.busy": "2020-09-21T08:54:13.847693Z",
     "iopub.status.idle": "2020-09-21T08:54:13.853492Z",
     "shell.execute_reply": "2020-09-21T08:54:13.854313Z"
    },
    "papermill": {
     "duration": 0.035347,
     "end_time": "2020-09-21T08:54:13.854786",
     "exception": false,
     "start_time": "2020-09-21T08:54:13.819439",
     "status": "completed"
    },
    "tags": []
   },
   "outputs": [
    {
     "data": {
      "text/plain": [
       "48"
      ]
     },
     "execution_count": 12,
     "metadata": {},
     "output_type": "execute_result"
    }
   ],
   "source": [
    "len(lower_half)"
   ]
  },
  {
   "cell_type": "code",
   "execution_count": 13,
   "metadata": {
    "execution": {
     "iopub.execute_input": "2020-09-21T08:54:13.906138Z",
     "iopub.status.busy": "2020-09-21T08:54:13.904627Z",
     "iopub.status.idle": "2020-09-21T08:54:13.910355Z",
     "shell.execute_reply": "2020-09-21T08:54:13.911831Z"
    },
    "papermill": {
     "duration": 0.035375,
     "end_time": "2020-09-21T08:54:13.912207",
     "exception": false,
     "start_time": "2020-09-21T08:54:13.876832",
     "status": "completed"
    },
    "tags": []
   },
   "outputs": [
    {
     "data": {
      "text/plain": [
       "0"
      ]
     },
     "execution_count": 13,
     "metadata": {},
     "output_type": "execute_result"
    }
   ],
   "source": [
    "len(frequency_higher_than_notch)"
   ]
  },
  {
   "cell_type": "code",
   "execution_count": 14,
   "metadata": {
    "execution": {
     "iopub.execute_input": "2020-09-21T08:54:13.961383Z",
     "iopub.status.busy": "2020-09-21T08:54:13.960176Z",
     "iopub.status.idle": "2020-09-21T08:54:13.965436Z",
     "shell.execute_reply": "2020-09-21T08:54:13.966384Z"
    },
    "papermill": {
     "duration": 0.032924,
     "end_time": "2020-09-21T08:54:13.966730",
     "exception": false,
     "start_time": "2020-09-21T08:54:13.933806",
     "status": "completed"
    },
    "tags": []
   },
   "outputs": [
    {
     "data": {
      "text/plain": [
       "97"
      ]
     },
     "execution_count": 14,
     "metadata": {},
     "output_type": "execute_result"
    }
   ],
   "source": [
    "len(frequency_lower_than_notch)"
   ]
  },
  {
   "cell_type": "code",
   "execution_count": 15,
   "metadata": {
    "execution": {
     "iopub.execute_input": "2020-09-21T08:54:14.063116Z",
     "iopub.status.busy": "2020-09-21T08:54:14.061336Z",
     "iopub.status.idle": "2020-09-21T08:54:14.079091Z",
     "shell.execute_reply": "2020-09-21T08:54:14.080007Z"
    },
    "papermill": {
     "duration": 0.050816,
     "end_time": "2020-09-21T08:54:14.080523",
     "exception": false,
     "start_time": "2020-09-21T08:54:14.029707",
     "status": "completed"
    },
    "tags": []
   },
   "outputs": [],
   "source": [
    "def to_tsv(df, path):\n",
    "    df.to_csv(os.path.join(LABEL, path), sep='\\t', index=None)\n",
    "\n",
    "df_path = [\n",
    "    (upper_half, 'upper_half_insertions.tsv'),\n",
    "    (lower_half, 'lower_half_insertions.tsv'),\n",
    "    (frequency_higher_than_notch, 'frequency_higher_than_notch.tsv'),\n",
    "    (frequency_lower_than_notch, 'frequency_lower_than_notch.tsv'),\n",
    "]\n",
    "\n",
    "for df, path in df_path:\n",
    "    to_tsv(df, path)\n"
   ]
  },
  {
   "cell_type": "code",
   "execution_count": null,
   "metadata": {
    "papermill": {
     "duration": 0.022717,
     "end_time": "2020-09-21T08:54:14.125042",
     "exception": false,
     "start_time": "2020-09-21T08:54:14.102325",
     "status": "completed"
    },
    "tags": []
   },
   "outputs": [],
   "source": []
  }
 ],
 "metadata": {
  "celltoolbar": "Tags",
  "kernelspec": {
   "display_name": "Python 3",
   "language": "python",
   "name": "python3"
  },
  "language_info": {
   "codemirror_mode": {
    "name": "ipython",
    "version": 3
   },
   "file_extension": ".py",
   "mimetype": "text/x-python",
   "name": "python",
   "nbconvert_exporter": "python",
   "pygments_lexer": "ipython3",
   "version": "3.6.11"
  },
  "papermill": {
   "duration": 6.419697,
   "end_time": "2020-09-21T08:54:14.671139",
   "environment_variables": {},
   "exception": null,
   "input_path": "subclonal analysis.ipynb",
   "output_path": "delta_guts_notebook.ipynb",
   "parameters": {
    "ALL_INSERTIONS": "0.5.21.filtered_calls_delta_guts.gff",
    "DELETION_READ_RATIO": "delta_purity_estimates_deletion.tab",
    "LABEL": "Delta guts"
   },
   "start_time": "2020-09-21T08:54:08.251442",
   "version": "2.1.2"
  }
 },
 "nbformat": 4,
 "nbformat_minor": 4
}