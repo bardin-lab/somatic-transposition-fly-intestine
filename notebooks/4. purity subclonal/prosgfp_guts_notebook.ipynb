{
 "cells": [
  {
   "cell_type": "code",
   "execution_count": 1,
   "metadata": {
    "execution": {
     "iopub.execute_input": "2020-08-12T12:01:00.759518Z",
     "iopub.status.busy": "2020-08-12T12:01:00.758623Z",
     "iopub.status.idle": "2020-08-12T12:01:00.761393Z",
     "shell.execute_reply": "2020-08-12T12:01:00.760707Z"
    },
    "papermill": {
     "duration": 0.017266,
     "end_time": "2020-08-12T12:01:00.761644",
     "exception": false,
     "start_time": "2020-08-12T12:01:00.744378",
     "status": "completed"
    },
    "tags": []
   },
   "outputs": [],
   "source": [
    "# looking again at TE frequency relative to causative event"
   ]
  },
  {
   "cell_type": "code",
   "execution_count": 2,
   "metadata": {
    "execution": {
     "iopub.execute_input": "2020-08-12T12:01:00.784009Z",
     "iopub.status.busy": "2020-08-12T12:01:00.783345Z",
     "iopub.status.idle": "2020-08-12T12:01:01.730068Z",
     "shell.execute_reply": "2020-08-12T12:01:01.730602Z"
    },
    "papermill": {
     "duration": 0.9605,
     "end_time": "2020-08-12T12:01:01.730794",
     "exception": false,
     "start_time": "2020-08-12T12:01:00.770294",
     "status": "completed"
    },
    "tags": []
   },
   "outputs": [],
   "source": [
    "%matplotlib inline\n",
    "import os\n",
    "\n",
    "import matplotlib.pyplot as plt\n",
    "import numpy as np\n",
    "import pandas as pd\n",
    "import seaborn as sns\n",
    "from collections import namedtuple\n",
    "from seaplotlib.helper import despine, save_fig_in_dir\n",
    "\n",
    "gff = namedtuple('GFF', 'chrom source feature start end score strand frame sample_id vaf')"
   ]
  },
  {
   "cell_type": "code",
   "execution_count": 3,
   "metadata": {
    "execution": {
     "iopub.execute_input": "2020-08-12T12:01:01.751405Z",
     "iopub.status.busy": "2020-08-12T12:01:01.750696Z",
     "iopub.status.idle": "2020-08-12T12:01:01.752742Z",
     "shell.execute_reply": "2020-08-12T12:01:01.753203Z"
    },
    "papermill": {
     "duration": 0.013993,
     "end_time": "2020-08-12T12:01:01.753376",
     "exception": false,
     "start_time": "2020-08-12T12:01:01.739383",
     "status": "completed"
    },
    "tags": [
     "parameters"
    ]
   },
   "outputs": [],
   "source": [
    "ALL_INSERTIONS = '0.5.21.filtered_calls_prosgfp_guts.gff'\n",
    "DELETION_READ_RATIO = 'pros_purity_estimates_deletion.tab'\n",
    "LABEL = 'ProsGFP guts'\n",
    "IMAGE_EXTENSION = 'pdf'"
   ]
  },
  {
   "cell_type": "code",
   "execution_count": 4,
   "metadata": {
    "execution": {
     "iopub.execute_input": "2020-08-12T12:01:01.773284Z",
     "iopub.status.busy": "2020-08-12T12:01:01.772629Z",
     "iopub.status.idle": "2020-08-12T12:01:01.774678Z",
     "shell.execute_reply": "2020-08-12T12:01:01.775141Z"
    },
    "papermill": {
     "duration": 0.013765,
     "end_time": "2020-08-12T12:01:01.775367",
     "exception": false,
     "start_time": "2020-08-12T12:01:01.761602",
     "status": "completed"
    },
    "tags": [
     "injected-parameters"
    ]
   },
   "outputs": [],
   "source": [
    "# Parameters\n",
    "ALL_INSERTIONS = \"0.5.21.filtered_calls_prosgfp_guts.gff\"\n",
    "LABEL = \"ProsGFP guts\"\n",
    "DELETION_READ_RATIO = \"pros_purity_estimates_deletion.tab\"\n"
   ]
  },
  {
   "cell_type": "code",
   "execution_count": 5,
   "metadata": {
    "execution": {
     "iopub.execute_input": "2020-08-12T12:01:01.801355Z",
     "iopub.status.busy": "2020-08-12T12:01:01.800606Z",
     "iopub.status.idle": "2020-08-12T12:01:01.802486Z",
     "shell.execute_reply": "2020-08-12T12:01:01.802947Z"
    },
    "papermill": {
     "duration": 0.019555,
     "end_time": "2020-08-12T12:01:01.803170",
     "exception": false,
     "start_time": "2020-08-12T12:01:01.783615",
     "status": "completed"
    },
    "tags": []
   },
   "outputs": [],
   "source": [
    "def read_readtagger_confirmed_insertions(path):\n",
    "    entries = []\n",
    "    with open(path) as in_file:\n",
    "        for line in in_file:\n",
    "            fields = line.strip().split('\\t')\n",
    "            attributes = fields[8]\n",
    "            attributes = dict([a.split('=') for a in attributes.split(';')])\n",
    "            fields[8] = attributes['ID'].split('_')[0]\n",
    "            left_count = int(attributes['total_left_count'])\n",
    "            right_count = int( attributes['total_right_count'])\n",
    "            ref_count = int(attributes['nref'])\n",
    "            fields.append((left_count + right_count) / (left_count + right_count + ref_count))\n",
    "            entries.append(gff(*fields))\n",
    "    df = pd.DataFrame.from_records(entries)\n",
    "    df.columns = list(entries[0]._asdict().keys())\n",
    "    return df\n",
    "\n",
    "\n",
    "def transform_df_for_plotting(df):\n",
    "    \"\"\"Add autosome column, sorts by sample and variant allele frequency.\"\"\"\n",
    "    df['autosome'] = df.chrom.str.len() > 1\n",
    "    autosome_values = df[df['autosome'] == True].vaf * 2\n",
    "    # Multiply VAF for autosomes by 2 and cut values at 1\n",
    "    df.loc[autosome_values.index, 'vaf'] = autosome_values\n",
    "    # df.loc[df['vaf'] > 1, 'vaf'] = 1\n",
    "    return df\n",
    "\n",
    "\n",
    "def read_purity_values(path):\n",
    "    df = pd.read_csv(path, sep='\\t', header=None)\n",
    "    # This is the (normalized) read ratio of control to tumor\n",
    "    # We can get the purity \n",
    "    df['purity'] = (df[0] - 1) / df[0]\n",
    "    df.index = df[1]\n",
    "    return df.purity"
   ]
  },
  {
   "cell_type": "code",
   "execution_count": 6,
   "metadata": {
    "execution": {
     "iopub.execute_input": "2020-08-12T12:01:01.834138Z",
     "iopub.status.busy": "2020-08-12T12:01:01.833458Z",
     "iopub.status.idle": "2020-08-12T12:01:01.869670Z",
     "shell.execute_reply": "2020-08-12T12:01:01.870150Z"
    },
    "papermill": {
     "duration": 0.058719,
     "end_time": "2020-08-12T12:01:01.870342",
     "exception": false,
     "start_time": "2020-08-12T12:01:01.811623",
     "status": "completed"
    },
    "tags": []
   },
   "outputs": [],
   "source": [
    "df = read_readtagger_confirmed_insertions(ALL_INSERTIONS)\n",
    "raw_df = transform_df_for_plotting(df)\n",
    "df = raw_df.copy()\n",
    "df.loc[df['vaf'] > 1, 'vaf'] = 1\n",
    "deletion = read_purity_values(DELETION_READ_RATIO)\n",
    "for i, s_id in enumerate(df['sample_id'].unique()):\n",
    "    if s_id in deletion.index:\n",
    "        df.loc[df['sample_id'] == s_id, 'notch_vaf'] = deletion[s_id]\n",
    "    else:\n",
    "        # Give some very low AF for plotting\n",
    "        df.loc[df['sample_id'] == s_id, 'notch_vaf'] = 0 + (1/ (i+1) *100)\n",
    "# df = df[~df['notch_vaf'].isnull()]\n",
    "# uncomment this to color by TE\n",
    "# df['color'] = df['feature']\n",
    "# df.loc[~df.feature.str.match('rover|I-element|copia'), 'color'] = 'other'\n",
    "df['color'] = 'other'"
   ]
  },
  {
   "cell_type": "code",
   "execution_count": 7,
   "metadata": {
    "execution": {
     "iopub.execute_input": "2020-08-12T12:01:01.921862Z",
     "iopub.status.busy": "2020-08-12T12:01:01.896036Z",
     "iopub.status.idle": "2020-08-12T12:01:02.737476Z",
     "shell.execute_reply": "2020-08-12T12:01:02.737992Z"
    },
    "papermill": {
     "duration": 0.85882,
     "end_time": "2020-08-12T12:01:02.738180",
     "exception": false,
     "start_time": "2020-08-12T12:01:01.879360",
     "status": "completed"
    },
    "tags": []
   },
   "outputs": [],
   "source": [
    "plt.figure(figsize=(20, 5))\n",
    "ax = sns.boxplot(x=\"sample_id\", y=\"vaf\", hue='autosome', data=df)\n",
    "# sns.swarmplot(x='sample_id', y='vaf', hue='autosome', data=df, size=10)"
   ]
  },
  {
   "cell_type": "code",
   "execution_count": 8,
   "metadata": {
    "execution": {
     "iopub.execute_input": "2020-08-12T12:01:02.768104Z",
     "iopub.status.busy": "2020-08-12T12:01:02.767427Z",
     "iopub.status.idle": "2020-08-12T12:01:03.339864Z",
     "shell.execute_reply": "2020-08-12T12:01:03.340323Z"
    },
    "papermill": {
     "duration": 0.59352,
     "end_time": "2020-08-12T12:01:03.340511",
     "exception": false,
     "start_time": "2020-08-12T12:01:02.746991",
     "status": "completed"
    },
    "tags": []
   },
   "outputs": [],
   "source": [
    "# # Get only X chromosome\n",
    "# df = df[df['chrom'] == 'X']\n",
    "\n",
    "def plot_vaf(*args, **kwargs):\n",
    "    data = kwargs['data']\n",
    "    xmin = data.order.min() - 10\n",
    "    xmax = data.order.max() + 10\n",
    "    y = data.notch_vaf.max()\n",
    "    ax = plt.gca()\n",
    "    ax.hlines(y=y, xmin=xmin, xmax=xmax, color=kwargs['color'], label=kwargs['label'])\n",
    "    \n",
    "    \n",
    "def scatter(x, y, **kwargs):\n",
    "    kwargs.pop('color')\n",
    "    plt.scatter(x, y, color='grey', **kwargs)\n",
    "\n",
    "df = df.sort_values(['notch_vaf', 'vaf'])\n",
    "sample_order = {sample_id: i for i, sample_id in enumerate(df.sample_id.unique())}\n",
    "df['order'] = list(range(len(df)))\n",
    "last_addition = 0\n",
    "for index, group in df.groupby('sample_id').order:\n",
    "    df.loc[group.index, 'order'] = group.values + (sample_order[index] * 20)\n",
    "\n",
    "# g = sns.FacetGrid(df, hue=\"sample_id\", col=\"sample_id\",size=8, col_wrap=6, sharex=False)\n",
    "g = sns.FacetGrid(df, hue=\"color\", aspect=2, height=10)\n",
    "g.map(scatter, \"order\", \"vaf\")\n",
    "# g.map(plt.plot, \"order\", \"vaf\")\n",
    "# fg = g.map(plt.plot, \"order\", \"notch_vaf\")\n",
    "# plt.axvline(-10, color='k', linestyle='--')\n",
    "for sep in df.groupby('sample_id')['order'].max().values:\n",
    "    if not sep == df.order.max():\n",
    "        plt.axvline(sep + 10, color='k', linestyle='--')\n",
    "\n",
    "\n",
    "plot_vaf(data=df.groupby('sample_id'), color='black', label=None)\n",
    "# g.map_dataframe(plot_vaf, 'order', 'notch_vaf')\n",
    "midpoint_order = df.groupby('sample_id').order.mean()\n",
    "g.set(xticks=midpoint_order.values)\n",
    "g.set_xticklabels(midpoint_order.keys())\n",
    "\n",
    "g.set(xlim=(-10, df.order.max() + 10), ylim=(0, 1.01))\n",
    "\n",
    "g.set_axis_labels(y_var='Penetrance (Variant Allele Frequency * 2 on autosomes)')\n",
    "g.set_xlabels(label='')\n",
    "# fg.set_xticklabels(labels='')\n",
    "sns.despine(left=True, bottom=True)\n",
    "# g.add_legend()\n",
    "save_fig_in_dir(g, 'Insertion Penetrance Estimate %s.%s' % (LABEL, IMAGE_EXTENSION), directory=LABEL, bbox_inches='tight')\n"
   ]
  },
  {
   "cell_type": "code",
   "execution_count": 9,
   "metadata": {
    "execution": {
     "iopub.execute_input": "2020-08-12T12:01:03.362505Z",
     "iopub.status.busy": "2020-08-12T12:01:03.361791Z",
     "iopub.status.idle": "2020-08-12T12:01:03.364191Z",
     "shell.execute_reply": "2020-08-12T12:01:03.364800Z"
    },
    "papermill": {
     "duration": 0.015824,
     "end_time": "2020-08-12T12:01:03.365018",
     "exception": false,
     "start_time": "2020-08-12T12:01:03.349194",
     "status": "completed"
    },
    "tags": []
   },
   "outputs": [],
   "source": [
    "quantiles = raw_df.groupby('sample_id')['vaf'].quantile()"
   ]
  },
  {
   "cell_type": "code",
   "execution_count": 10,
   "metadata": {
    "execution": {
     "iopub.execute_input": "2020-08-12T12:01:03.387063Z",
     "iopub.status.busy": "2020-08-12T12:01:03.386439Z",
     "iopub.status.idle": "2020-08-12T12:01:03.429808Z",
     "shell.execute_reply": "2020-08-12T12:01:03.430341Z"
    },
    "papermill": {
     "duration": 0.057045,
     "end_time": "2020-08-12T12:01:03.430534",
     "exception": false,
     "start_time": "2020-08-12T12:01:03.373489",
     "status": "completed"
    },
    "tags": []
   },
   "outputs": [],
   "source": [
    "upper_half = raw_df[raw_df.apply(lambda row: quantiles[row['sample_id']] > row['vaf'], axis=1)]\n",
    "lower_half = raw_df[raw_df.apply(lambda row: quantiles[row['sample_id']] < row['vaf'], axis=1)]\n",
    "frequency_higher_than_notch = df[df.apply(lambda row: row['vaf'] > row['notch_vaf'], axis=1)]\n",
    "frequency_lower_than_notch = df[df.apply(lambda row: row['vaf'] < row['notch_vaf'], axis=1)]"
   ]
  },
  {
   "cell_type": "code",
   "execution_count": 11,
   "metadata": {
    "execution": {
     "iopub.execute_input": "2020-08-12T12:01:03.453145Z",
     "iopub.status.busy": "2020-08-12T12:01:03.452441Z",
     "iopub.status.idle": "2020-08-12T12:01:03.454927Z",
     "shell.execute_reply": "2020-08-12T12:01:03.455386Z"
    },
    "papermill": {
     "duration": 0.016085,
     "end_time": "2020-08-12T12:01:03.455567",
     "exception": false,
     "start_time": "2020-08-12T12:01:03.439482",
     "status": "completed"
    },
    "tags": []
   },
   "outputs": [
    {
     "data": {
      "text/plain": [
       "326"
      ]
     },
     "execution_count": 11,
     "metadata": {},
     "output_type": "execute_result"
    }
   ],
   "source": [
    "len(upper_half)"
   ]
  },
  {
   "cell_type": "code",
   "execution_count": 12,
   "metadata": {
    "execution": {
     "iopub.execute_input": "2020-08-12T12:01:03.477817Z",
     "iopub.status.busy": "2020-08-12T12:01:03.477121Z",
     "iopub.status.idle": "2020-08-12T12:01:03.479647Z",
     "shell.execute_reply": "2020-08-12T12:01:03.480106Z"
    },
    "papermill": {
     "duration": 0.015437,
     "end_time": "2020-08-12T12:01:03.480337",
     "exception": false,
     "start_time": "2020-08-12T12:01:03.464900",
     "status": "completed"
    },
    "tags": []
   },
   "outputs": [
    {
     "data": {
      "text/plain": [
       "326"
      ]
     },
     "execution_count": 12,
     "metadata": {},
     "output_type": "execute_result"
    }
   ],
   "source": [
    "len(lower_half)"
   ]
  },
  {
   "cell_type": "code",
   "execution_count": 13,
   "metadata": {
    "execution": {
     "iopub.execute_input": "2020-08-12T12:01:03.502660Z",
     "iopub.status.busy": "2020-08-12T12:01:03.501951Z",
     "iopub.status.idle": "2020-08-12T12:01:03.504500Z",
     "shell.execute_reply": "2020-08-12T12:01:03.504951Z"
    },
    "papermill": {
     "duration": 0.015359,
     "end_time": "2020-08-12T12:01:03.505125",
     "exception": false,
     "start_time": "2020-08-12T12:01:03.489766",
     "status": "completed"
    },
    "tags": []
   },
   "outputs": [
    {
     "data": {
      "text/plain": [
       "330"
      ]
     },
     "execution_count": 13,
     "metadata": {},
     "output_type": "execute_result"
    }
   ],
   "source": [
    "len(frequency_higher_than_notch)"
   ]
  },
  {
   "cell_type": "code",
   "execution_count": 14,
   "metadata": {
    "execution": {
     "iopub.execute_input": "2020-08-12T12:01:03.528303Z",
     "iopub.status.busy": "2020-08-12T12:01:03.527619Z",
     "iopub.status.idle": "2020-08-12T12:01:03.530043Z",
     "shell.execute_reply": "2020-08-12T12:01:03.530492Z"
    },
    "papermill": {
     "duration": 0.015766,
     "end_time": "2020-08-12T12:01:03.530662",
     "exception": false,
     "start_time": "2020-08-12T12:01:03.514896",
     "status": "completed"
    },
    "tags": []
   },
   "outputs": [
    {
     "data": {
      "text/plain": [
       "344"
      ]
     },
     "execution_count": 14,
     "metadata": {},
     "output_type": "execute_result"
    }
   ],
   "source": [
    "len(frequency_lower_than_notch)"
   ]
  },
  {
   "cell_type": "code",
   "execution_count": 15,
   "metadata": {
    "execution": {
     "iopub.execute_input": "2020-08-12T12:01:03.555471Z",
     "iopub.status.busy": "2020-08-12T12:01:03.554835Z",
     "iopub.status.idle": "2020-08-12T12:01:03.568213Z",
     "shell.execute_reply": "2020-08-12T12:01:03.568678Z"
    },
    "papermill": {
     "duration": 0.028189,
     "end_time": "2020-08-12T12:01:03.568859",
     "exception": false,
     "start_time": "2020-08-12T12:01:03.540670",
     "status": "completed"
    },
    "tags": []
   },
   "outputs": [],
   "source": [
    "def to_tsv(df, path):\n",
    "    df.to_csv(os.path.join(LABEL, path), sep='\\t', index=None)\n",
    "\n",
    "df_path = [\n",
    "    (upper_half, 'upper_half_insertions.tsv'),\n",
    "    (lower_half, 'lower_half_insertions.tsv'),\n",
    "    (frequency_higher_than_notch, 'frequency_higher_than_notch.tsv'),\n",
    "    (frequency_lower_than_notch, 'frequency_lower_than_notch.tsv'),\n",
    "]\n",
    "\n",
    "for df, path in df_path:\n",
    "    to_tsv(df, path)\n"
   ]
  }
 ],
 "metadata": {
  "celltoolbar": "Tags",
  "kernelspec": {
   "display_name": "Python 3",
   "language": "python",
   "name": "python3"
  },
  "language_info": {
   "codemirror_mode": {
    "name": "ipython",
    "version": 3
   },
   "file_extension": ".py",
   "mimetype": "text/x-python",
   "name": "python",
   "nbconvert_exporter": "python",
   "pygments_lexer": "ipython3",
   "version": "3.6.11"
  },
  "papermill": {
   "duration": 5.039652,
   "end_time": "2020-08-12T12:01:04.868153",
   "environment_variables": {},
   "exception": null,
   "input_path": "subclonal analysis.ipynb",
   "output_path": "prosgfp_guts_notebook.ipynb",
   "parameters": {
    "ALL_INSERTIONS": "0.5.21.filtered_calls_prosgfp_guts.gff",
    "DELETION_READ_RATIO": "pros_purity_estimates_deletion.tab",
    "LABEL": "ProsGFP guts"
   },
   "start_time": "2020-08-12T12:00:59.828501",
   "version": "2.1.2"
  }
 },
 "nbformat": 4,
 "nbformat_minor": 4
}