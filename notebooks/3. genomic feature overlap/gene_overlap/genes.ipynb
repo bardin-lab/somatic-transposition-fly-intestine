{
 "cells": [
  {
   "cell_type": "code",
   "execution_count": 4,
   "metadata": {},
   "outputs": [],
   "source": [
    "# Split genic regions into non-overlapping parts\n",
    "\n",
    "import os\n",
    "import pybedtools\n",
    "\n",
    "\n",
    "GENOME_FAI = '../../../reference-data/dmel-all-chromosome-r6.33.fasta.fai'"
   ]
  },
  {
   "cell_type": "code",
   "execution_count": 5,
   "metadata": {},
   "outputs": [
    {
     "name": "stdout",
     "output_type": "stream",
     "text": [
      "--2020-08-12 11:11:26--  ftp://ftp.flybase.net/genomes/Drosophila_melanogaster/dmel_r6.33_FB2020_02/gtf/dmel-all-r6.33.gtf.gz\n",
      "           => ‘dmel-all-r6.33.gtf.gz’\n",
      "Resolving ftp.flybase.net (ftp.flybase.net)... 52.23.126.124\n",
      "Connecting to ftp.flybase.net (ftp.flybase.net)|52.23.126.124|:21... connected.\n",
      "Logging in as anonymous ... Logged in!\n",
      "==> SYST ... done.    ==> PWD ... done.\n",
      "==> TYPE I ... done.  ==> CWD (1) /genomes/Drosophila_melanogaster/dmel_r6.33_FB2020_02/gtf ... done.\n",
      "==> SIZE dmel-all-r6.33.gtf.gz ... 3933975\n",
      "==> PASV ... done.    ==> RETR dmel-all-r6.33.gtf.gz ... done.\n",
      "Length: 3933975 (3.8M) (unauthoritative)\n",
      "\n",
      "dmel-all-r6.33.gtf. 100%[===================>]   3.75M  1.46MB/s    in 2.6s    \n",
      "\n",
      "2020-08-12 11:11:30 (1.46 MB/s) - ‘dmel-all-r6.33.gtf.gz’ saved [3933975]\n",
      "\n"
     ]
    }
   ],
   "source": [
    "if not os.path.exists('dmel-all-r6.33.gtf.gz'):\n",
    "    !wget ftp://ftp.flybase.net/genomes/Drosophila_melanogaster/dmel_r6.33_FB2020_02/gtf/dmel-all-r6.33.gtf.gz"
   ]
  },
  {
   "cell_type": "code",
   "execution_count": 6,
   "metadata": {},
   "outputs": [],
   "source": [
    "analysed_chromosomes = {'X', 'Y', '2L', '2R', '3L', '3R', '4'}\n",
    "df = pybedtools.BedTool('dmel-all-r6.33.gtf.gz').sort().to_dataframe()\n",
    "df = df[df.seqname.isin(analysed_chromosomes)]\n"
   ]
  },
  {
   "cell_type": "markdown",
   "metadata": {},
   "source": [
    "For the calculation of distribution of Kismet bound GATC sites in the genome in Figure 4A the Drosophila gene annotation GTF was downloaded from flybase version 6.13 (Gramates et al., 2017). The GTF file was filtered to retain only 3′UTR coding, 5′UTR coding, exon and gene features. The file was then split into a single file per genomic feature and overlapping features were merged using bedtools. Using bedtools subtract, exonic regions were subtracted from genic regions to obtain intronic regions, and exonic regions were subtracted from overlapping 3′UTR and 5′UTR coding regions. Significantly bound GATC sites were classified as belonging to one of these regions using bedtools intersect."
   ]
  },
  {
   "cell_type": "code",
   "execution_count": 7,
   "metadata": {},
   "outputs": [],
   "source": [
    "exon = df[df['feature'] == 'exon']\n",
    "genic = df[df['feature'] == 'gene']\n",
    "genic = pybedtools.BedTool.from_dataframe(genic).sort()\n",
    "genic_merged = genic.merge()\n",
    "genic_merged_strand_specific = genic.merge(s=True, c=\"3,6,7\", o='first,first,first')\n",
    "promoter_proximal = genic_merged_strand_specific.flank(s=True, l=1000, r=0, g=GENOME_FAI).subtract(genic_merged_strand_specific).sort().moveto('1K-upstream.gtf')\n",
    "intergenic = genic_merged.complement(L=True, g=GENOME_FAI).subtract(promoter_proximal).moveto('Intergenic.gtf')\n",
    "# intronic is genic - exon\n",
    "intronic = genic_merged.subtract(pybedtools.BedTool.from_dataframe(exon)).sort().subtract(promoter_proximal).moveto('Intronic.gtf')\n",
    "# 5'UTR as it appears in gtf\n",
    "five_utr = df[df['feature'] == '5UTR']\n",
    "five_utr = pybedtools.BedTool.from_dataframe(five_utr).sort().merge().moveto('5P-UTR.gtf')\n",
    "# 3'UTR as it appears in gtf\n",
    "three_utr = df[df['feature'] == '3UTR']\n",
    "three_utr = pybedtools.BedTool.from_dataframe(three_utr).sort().merge()\n",
    "three_utr_minus_five_utr = three_utr.subtract(five_utr).moveto('3P-UTR.gtf')\n",
    "# CDS, exon - utrs\n",
    "constituitive_exon = pybedtools.BedTool.from_dataframe(exon).merge().subtract(five_utr).subtract(three_utr).sort().moveto('CDS.gtf')"
   ]
  },
  {
   "cell_type": "code",
   "execution_count": 8,
   "metadata": {},
   "outputs": [],
   "source": [
    "\n",
    "# promoter_proximal.slop(s=True, l=0, r=1000, g='/Users/mvandenb/src/reference/dmel-all-chromosome-r6.33.fasta.fai').sort().moveto('TSS +- 1K.gtf')"
   ]
  },
  {
   "cell_type": "code",
   "execution_count": 9,
   "metadata": {},
   "outputs": [
    {
     "data": {
      "text/plain": [
       "4520358"
      ]
     },
     "execution_count": 9,
     "metadata": {},
     "output_type": "execute_result"
    }
   ],
   "source": [
    "def length(df):\n",
    "    return (df['end'] - df['start']).sum()\n",
    "\n",
    "\n",
    "length(five_utr.to_dataframe())"
   ]
  },
  {
   "cell_type": "code",
   "execution_count": 10,
   "metadata": {},
   "outputs": [
    {
     "data": {
      "text/plain": [
       "7637721"
      ]
     },
     "execution_count": 10,
     "metadata": {},
     "output_type": "execute_result"
    }
   ],
   "source": [
    "def length(df):\n",
    "    return (df['end'] - df['start']).sum()\n",
    "\n",
    "\n",
    "length(three_utr.to_dataframe())"
   ]
  },
  {
   "cell_type": "code",
   "execution_count": 11,
   "metadata": {},
   "outputs": [
    {
     "data": {
      "text/plain": [
       "7539902"
      ]
     },
     "execution_count": 11,
     "metadata": {},
     "output_type": "execute_result"
    }
   ],
   "source": [
    "length(three_utr_minus_five_utr.to_dataframe())"
   ]
  }
 ],
 "metadata": {
  "kernelspec": {
   "display_name": "Python 3",
   "language": "python",
   "name": "python3"
  },
  "language_info": {
   "codemirror_mode": {
    "name": "ipython",
    "version": 3
   },
   "file_extension": ".py",
   "mimetype": "text/x-python",
   "name": "python",
   "nbconvert_exporter": "python",
   "pygments_lexer": "ipython3",
   "version": "3.6.11"
  }
 },
 "nbformat": 4,
 "nbformat_minor": 4
}
